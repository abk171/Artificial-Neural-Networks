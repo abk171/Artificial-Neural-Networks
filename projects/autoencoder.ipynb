{
  "nbformat": 4,
  "nbformat_minor": 0,
  "metadata": {
    "colab": {
      "provenance": [],
      "authorship_tag": "ABX9TyOsFX0rT8mB885H8+wBcCwM",
      "include_colab_link": true
    },
    "kernelspec": {
      "name": "python3",
      "display_name": "Python 3"
    },
    "language_info": {
      "name": "python"
    },
    "accelerator": "GPU",
    "gpuClass": "standard"
  },
  "cells": [
    {
      "cell_type": "markdown",
      "metadata": {
        "id": "view-in-github",
        "colab_type": "text"
      },
      "source": [
        "<a href=\"https://colab.research.google.com/github/ak1909552/Artificial-Neural-Networks/blob/main/projects/autoencoder.ipynb\" target=\"_parent\"><img src=\"https://colab.research.google.com/assets/colab-badge.svg\" alt=\"Open In Colab\"/></a>"
      ]
    },
    {
      "cell_type": "code",
      "execution_count": null,
      "metadata": {
        "id": "9WyrAWTW9vfb"
      },
      "outputs": [],
      "source": [
        "import torch\n",
        "import torch.nn as nn\n",
        "from torch.autograd import Variable\n",
        "from torchvision import datasets\n",
        "from torchvision import transforms\n",
        "import matplotlib.pyplot as plt\n",
        "from collections import OrderedDict\n",
        "import numpy as mp"
      ]
    },
    {
      "cell_type": "code",
      "source": [
        "def mnist_loader(batch_size=512, classes=None):\n",
        "    transform=transforms.Compose([transforms.ToTensor()])\n",
        "    mnist_train = datasets.FashionMNIST('./data', train=True, download=True, transform=transform)\n",
        "    mnist_valid = datasets.FashionMNIST('./data', train=False, download=True, transform=transform)\n",
        "    \n",
        "    # Select the classes which you want to train the classifier on.\n",
        "    if classes is not None:\n",
        "        mnist_train_idx = (mnist_train.targets == -1)\n",
        "        mnist_valid_idx = (mnist_valid.targets == -1)\n",
        "        for class_num in classes:\n",
        "            mnist_train_idx |= (mnist_train.targets == class_num)\n",
        "            mnist_valid_idx |= (mnist_valid.targets == class_num) \n",
        "        \n",
        "        mnist_train.targets = mnist_train.targets[mnist_train_idx]\n",
        "        mnist_valid.targets = mnist_valid.targets[mnist_valid_idx]\n",
        "        mnist_train.data = mnist_train.data[mnist_train_idx]\n",
        "        mnist_valid.data = mnist_valid.data[mnist_valid_idx]\n",
        "    \n",
        "    mnist_train_loader = torch.utils.data.DataLoader(mnist_train, batch_size=batch_size, shuffle=True, num_workers=1)\n",
        "    mnist_valid_loader = torch.utils.data.DataLoader(mnist_valid, batch_size=batch_size, shuffle=True, num_workers=1)\n",
        "    return mnist_train_loader, mnist_valid_loader"
      ],
      "metadata": {
        "id": "rrScm7V99zmQ"
      },
      "execution_count": null,
      "outputs": []
    },
    {
      "cell_type": "code",
      "source": [
        "class encoder(nn.Module):\n",
        "    def __init__(self, base_dim = 5):\n",
        "        super().__init__()\n",
        "        self.c2de = nn.Sequential(\n",
        "            nn.Conv2d(1, 8, 3, stride=2, padding=1),\n",
        "            nn.ReLU(True),\n",
        "            nn.Conv2d(8, 16, 3, stride=2, padding=1),\n",
        "            nn.BatchNorm2d(16),\n",
        "            nn.ReLU(True),\n",
        "            nn.Conv2d(16, 32, 3, stride=2, padding=0),\n",
        "            nn.ReLU(True)\n",
        "        )\n",
        "\n",
        "        self.flatten = nn.Flatten(start_dim=1)\n",
        "\n",
        "        self.fce = nn.Sequential(\n",
        "            nn.Linear(3 * 3 * 32, 128),\n",
        "            nn.ReLU(True),\n",
        "            nn.Linear(128, base_dim)            \n",
        "        )\n",
        "    \n",
        "    def forward(self, input):\n",
        "        out = self.c2de(input)\n",
        "        out = self.flatten(out)\n",
        "        out = self.fce(out)\n",
        "\n",
        "        return out"
      ],
      "metadata": {
        "id": "r8p5gV_E926h"
      },
      "execution_count": null,
      "outputs": []
    },
    {
      "cell_type": "code",
      "source": [
        "class decoder(nn.Module):\n",
        "    def __init__(self, base_dim = 5):\n",
        "        super().__init__()\n",
        "        self.fco = nn.Sequential(\n",
        "            nn.Linear(base_dim, 128),\n",
        "            nn.ReLU(True),\n",
        "            nn.Linear(128, 3 * 3 * 32),\n",
        "            nn.ReLU(True),\n",
        "            nn.Dropout(0.2)\n",
        "        )\n",
        "        self.unflatten = nn.Unflatten(dim=1, unflattened_size=(32, 3, 3))\n",
        "\n",
        "        self.dc2d0 = nn.Sequential(\n",
        "            nn.ConvTranspose2d(32, 16, 3, \n",
        "            stride=2, output_padding=0),\n",
        "            nn.BatchNorm2d(16),\n",
        "            nn.ReLU(True),\n",
        "            nn.ConvTranspose2d(16, 8, 3, stride=2, \n",
        "            padding=1, output_padding=1),\n",
        "            nn.BatchNorm2d(8),\n",
        "            nn.ReLU(True),\n",
        "            nn.ConvTranspose2d(8, 1, 3, stride=2, \n",
        "            padding=1, output_padding=1)            \n",
        "        )\n",
        "\n",
        "    def forward(self, input):\n",
        "        out = self.fco(input)\n",
        "        out = self.unflatten(out)\n",
        "        out = self.dc2d0(out)\n",
        "        \n",
        "        return out\n"
      ],
      "metadata": {
        "id": "nkU6bGJOVbdg"
      },
      "execution_count": null,
      "outputs": []
    },
    {
      "cell_type": "code",
      "source": [
        "base_dim = 6\n",
        "enc = encoder(base_dim)\n",
        "dec = decoder(base_dim)\n",
        "\n",
        "params_to_optimize = [\n",
        "    {'params': enc.parameters()},\n",
        "    {'params': dec.parameters()}\n",
        "]\n",
        "\n",
        "loss = nn.MSELoss()\n",
        "optim = torch.optim.Adam(params_to_optimize, lr=0.0001)\n",
        "\n",
        "device = torch.device(\"cuda\") if torch.cuda.is_available() else torch.device(\"cpu\")\n",
        "print(f'Selected device: {device}')\n",
        "\n",
        "enc.to(device)\n",
        "dec.to(device)"
      ],
      "metadata": {
        "id": "8GPCjkuWZ0w-",
        "colab": {
          "base_uri": "https://localhost:8080/"
        },
        "outputId": "147e6242-5704-4d49-fe26-ccf623ac39ad"
      },
      "execution_count": null,
      "outputs": [
        {
          "output_type": "stream",
          "name": "stdout",
          "text": [
            "Selected device: cuda\n"
          ]
        },
        {
          "output_type": "execute_result",
          "data": {
            "text/plain": [
              "decoder(\n",
              "  (fco): Sequential(\n",
              "    (0): Linear(in_features=6, out_features=128, bias=True)\n",
              "    (1): ReLU(inplace=True)\n",
              "    (2): Linear(in_features=128, out_features=288, bias=True)\n",
              "    (3): ReLU(inplace=True)\n",
              "    (4): Dropout(p=0.2, inplace=False)\n",
              "  )\n",
              "  (unflatten): Unflatten(dim=1, unflattened_size=(32, 3, 3))\n",
              "  (dc2d0): Sequential(\n",
              "    (0): ConvTranspose2d(32, 16, kernel_size=(3, 3), stride=(2, 2))\n",
              "    (1): BatchNorm2d(16, eps=1e-05, momentum=0.1, affine=True, track_running_stats=True)\n",
              "    (2): ReLU(inplace=True)\n",
              "    (3): ConvTranspose2d(16, 8, kernel_size=(3, 3), stride=(2, 2), padding=(1, 1), output_padding=(1, 1))\n",
              "    (4): BatchNorm2d(8, eps=1e-05, momentum=0.1, affine=True, track_running_stats=True)\n",
              "    (5): ReLU(inplace=True)\n",
              "    (6): ConvTranspose2d(8, 1, kernel_size=(3, 3), stride=(2, 2), padding=(1, 1), output_padding=(1, 1))\n",
              "  )\n",
              ")"
            ]
          },
          "metadata": {},
          "execution_count": 30
        }
      ]
    },
    {
      "cell_type": "code",
      "source": [
        "def train(mnist_train_loader, encoder, decoder, optim, loss):\n",
        "    encoder.train()\n",
        "    decoder.train()\n",
        "\n",
        "    accuracies = 0\n",
        "    mse = torch.nn.MSELoss()\n",
        "\n",
        "    optim.zero_grad()\n",
        "    total_loss = 0\n",
        "\n",
        "    for image, _ in mnist_train_loader:\n",
        "        \n",
        "        image = Variable(image).to(device)\n",
        "\n",
        "        encoded = encoder(image)\n",
        "        decoded = decoder(encoded)\n",
        "\n",
        "        iter_loss = loss(decoded, image)\n",
        "        iter_loss.backward()\n",
        "        total_loss += iter_loss.data\n",
        "        optim.step()\n",
        "\n",
        "        iter_accuracy = mse(image, decoded)\n",
        "        accuracies += iter_accuracy.data.item()\n",
        "    print(total_loss)\n",
        "    print(accuracies / len(mnist_train_loader))\n",
        "    \n"
      ],
      "metadata": {
        "id": "wT5mblayf9xo"
      },
      "execution_count": null,
      "outputs": []
    },
    {
      "cell_type": "code",
      "source": [
        "mnist_train_loader, _ = mnist_loader(batch_size = 512)\n",
        "for i in range(30):\n",
        "    train(mnist_train_loader, enc, dec, optim, loss)"
      ],
      "metadata": {
        "colab": {
          "base_uri": "https://localhost:8080/"
        },
        "id": "QAozdVE7Dmji",
        "outputId": "e76b5b40-72cc-411f-ff14-42e8502692c2"
      },
      "execution_count": null,
      "outputs": [
        {
          "output_type": "stream",
          "name": "stdout",
          "text": [
            "tensor(24.2564, device='cuda:0')\n",
            "0.205562692451275\n",
            "tensor(13.8045, device='cuda:0')\n",
            "0.11698751315727073\n",
            "tensor(11.7716, device='cuda:0')\n",
            "0.09975969980833894\n",
            "tensor(10.3303, device='cuda:0')\n",
            "0.08754451029886634\n",
            "tensor(9.6149, device='cuda:0')\n",
            "0.08148244667356297\n",
            "tensor(9.0691, device='cuda:0')\n",
            "0.0768566071608309\n",
            "tensor(9.1217, device='cuda:0')\n",
            "0.0773027992602122\n",
            "tensor(8.4280, device='cuda:0')\n",
            "0.07142364069566888\n",
            "tensor(7.6496, device='cuda:0')\n",
            "0.06482705644379227\n",
            "tensor(7.2246, device='cuda:0')\n",
            "0.061225045567094266\n",
            "tensor(7.1852, device='cuda:0')\n",
            "0.06089182980990006\n",
            "tensor(7.1667, device='cuda:0')\n",
            "0.06073506034405555\n",
            "tensor(6.6094, device='cuda:0')\n",
            "0.05601217386202287\n",
            "tensor(6.3515, device='cuda:0')\n",
            "0.053826169568603324\n",
            "tensor(6.0982, device='cuda:0')\n",
            "0.05167936571573807\n",
            "tensor(5.9880, device='cuda:0')\n",
            "0.050745480362389045\n",
            "tensor(5.9937, device='cuda:0')\n",
            "0.050793802839214516\n",
            "tensor(6.2303, device='cuda:0')\n",
            "0.052799257560301634\n",
            "tensor(5.8673, device='cuda:0')\n",
            "0.04972292773299298\n",
            "tensor(5.7139, device='cuda:0')\n",
            "0.048423238035480855\n",
            "tensor(5.5049, device='cuda:0')\n",
            "0.0466513732542931\n",
            "tensor(5.4128, device='cuda:0')\n",
            "0.045870996253975366\n",
            "tensor(5.2907, device='cuda:0')\n",
            "0.04483681992959168\n",
            "tensor(5.3615, device='cuda:0')\n",
            "0.045436093646843555\n",
            "tensor(5.2352, device='cuda:0')\n",
            "0.04436650995354531\n",
            "tensor(5.1691, device='cuda:0')\n",
            "0.04380618484090951\n",
            "tensor(5.2140, device='cuda:0')\n",
            "0.04418602203792435\n",
            "tensor(5.2146, device='cuda:0')\n",
            "0.04419111533058902\n",
            "tensor(4.9772, device='cuda:0')\n",
            "0.04217936900460114\n",
            "tensor(4.8377, device='cuda:0')\n",
            "0.04099751484848685\n"
          ]
        }
      ]
    },
    {
      "cell_type": "code",
      "source": [
        "transform=transforms.Compose([transforms.ToTensor()])\n",
        "test = datasets.FashionMNIST('./data', train=False, download=True, transform=transform)\n",
        "\n",
        "sample_idx = torch.randint(len(test), size=(1,)).item()\n",
        "img, label = test[sample_idx]\n",
        "\n",
        "img = img.unsqueeze(0)\n",
        "\n",
        "\n",
        "img = Variable(img).to(device)\n",
        "\n",
        "enc.eval()\n",
        "dec.eval()\n",
        "with torch.no_grad():\n",
        "    output  = dec(enc(img))\n",
        "figure = plt.figure(figsize = (5, 5))\n",
        "rows, cols = 1,2\n",
        "plt.axis(\"off\")\n",
        "figure.add_subplot(rows,cols,1)\n",
        "plt.imshow(img.cpu().detach().numpy().squeeze(), cmap=\"gray\")\n",
        "figure.add_subplot(rows,cols,2)\n",
        "plt.imshow(output.cpu().detach().numpy().squeeze(), cmap=\"gray\")\n",
        "plt.show()"
      ],
      "metadata": {
        "colab": {
          "base_uri": "https://localhost:8080/",
          "height": 303
        },
        "id": "R2ILcMOrEwUt",
        "outputId": "746a263d-d0cc-4450-8f20-b402beba7d49"
      },
      "execution_count": null,
      "outputs": [
        {
          "output_type": "display_data",
          "data": {
            "text/plain": [
              "<Figure size 360x360 with 3 Axes>"
            ],
            "image/png": "[encoded data removed]"
          },
          "metadata": {
            "needs_background": "light"
          }
        }
      ]
    },
    {
      "cell_type": "code",
      "source": [
        "img = torch.zeros(1,base_dim).to(device)\n",
        "img[0][4] = 10\n",
        "output = dec(img)\n",
        "plt.imshow(output.cpu().detach().squeeze(), cmap = 'gray')\n",
        "plt.show()"
      ],
      "metadata": {
        "colab": {
          "base_uri": "https://localhost:8080/",
          "height": 265
        },
        "id": "aYl8CiA5SXAn",
        "outputId": "09116828-0ca9-4f06-d6cd-bb93e3f62be4"
      },
      "execution_count": null,
      "outputs": [
        {
          "output_type": "display_data",
          "data": {
            "text/plain": [
              "<Figure size 432x288 with 1 Axes>"
            ],
            "image/png": "[encoded data removed]"
          },
          "metadata": {
            "needs_background": "light"
          }
        }
      ]
    },
    {
      "cell_type": "code",
      "source": [
        "labels_map = {\n",
        "    0: \"T-Shirt\",\n",
        "    1: \"Trouser\",\n",
        "    2: \"Pullover\",\n",
        "    3: \"Dress\",\n",
        "    4: \"Coat\",\n",
        "    5: \"Sandal\",\n",
        "    6: \"Shirt\",\n",
        "    7: \"Sneaker\",\n",
        "    8: \"Bag\",\n",
        "    9: \"Ankle Boot\",\n",
        "}\n",
        "\n",
        "transform=transforms.Compose([transforms.ToTensor()])\n",
        "test = datasets.FashionMNIST('./data', train=False, download=True, transform=transform)\n",
        "\n",
        "sample_idx = torch.randint(len(test), size=(1,)).item()\n",
        "img, label = test[sample_idx]\n",
        "\n",
        "img = img.unsqueeze(0)\n",
        "\n",
        "\n",
        "img = Variable(img).to(device)\n",
        "\n",
        "output = enc(img)\n",
        "\n",
        "print(label, labels_map[label])\n",
        "print(output)"
      ],
      "metadata": {
        "id": "7sWMHJcSY5n4",
        "colab": {
          "base_uri": "https://localhost:8080/"
        },
        "outputId": "e68b22e6-9436-4f52-f8b2-3889c46ea957"
      },
      "execution_count": null,
      "outputs": [
        {
          "output_type": "stream",
          "name": "stdout",
          "text": [
            "7 Sneaker\n",
            "tensor([[ 4.0109,  4.6935,  7.4519, -7.0847,  0.8344,  1.8838]],\n",
            "       device='cuda:0', grad_fn=<AddmmBackward0>)\n"
          ]
        }
      ]
    },
    {
      "cell_type": "markdown",
      "source": [
        "## Adding noise"
      ],
      "metadata": {
        "id": "9JE-73WqQKSz"
      }
    },
    {
      "cell_type": "code",
      "source": [
        "def attack(image, epsilon):\n",
        "    # Collect the element-wise sign of the data gradient\n",
        "    # sign_data_grad = data_grad.sign()\n",
        "    # Create the perturbed image by adjusting each pixel of the input image\n",
        "    perturbed_image = image + epsilon#*sign_data_grad\n",
        "    # Adding clipping to maintain [0,1] range\n",
        "    perturbed_image = torch.clamp(perturbed_image, 0, 1)\n",
        "    # Return the perturbed image\n",
        "    return perturbed_image"
      ],
      "metadata": {
        "id": "96lqJwA8Rxsu"
      },
      "execution_count": null,
      "outputs": []
    },
    {
      "cell_type": "markdown",
      "source": [
        "## Testing noise generation"
      ],
      "metadata": {
        "id": "kVHrq5a8htFr"
      }
    },
    {
      "cell_type": "code",
      "source": [
        "transform=transforms.Compose([transforms.ToTensor()])\n",
        "test = datasets.FashionMNIST('./data', train=False, download=True, transform=transform)\n",
        "\n",
        "sample_idx = torch.randint(len(test), size=(1,)).item()\n",
        "img, label = test[sample_idx]\n",
        "\n",
        "noisy = attack(img, epsilon = 0.6)\n",
        "\n",
        "figure = plt.figure()\n",
        "rows, cols = 1, 2\n",
        "figure.add_subplot(rows, cols, 1)\n",
        "plt.imshow(img.squeeze(), cmap = 'gray')\n",
        "figure.add_subplot(rows, cols, 2)\n",
        "plt.imshow(noisy.squeeze(), cmap = 'gray')\n",
        "plt.show()"
      ],
      "metadata": {
        "colab": {
          "base_uri": "https://localhost:8080/",
          "height": 201
        },
        "id": "VZ3Jwlpggp8m",
        "outputId": "48a9a89e-0356-4790-d730-8ec17c5147a1"
      },
      "execution_count": null,
      "outputs": [
        {
          "output_type": "display_data",
          "data": {
            "text/plain": [
              "<Figure size 432x288 with 2 Axes>"
            ],
            "image/png": "[encoded data removed]"
          },
          "metadata": {
            "needs_background": "light"
          }
        }
      ]
    },
    {
      "cell_type": "code",
      "source": [
        "def train_noise(mnist_train_loader, encoder, decoder, optim, loss, epsilon = 0.5):\n",
        "    encoder.train()\n",
        "    decoder.train()\n",
        "\n",
        "    accuracies = 0\n",
        "    mse = torch.nn.MSELoss()\n",
        "\n",
        "    optim.zero_grad()\n",
        "    total_loss = 0\n",
        "\n",
        "    for image, _ in mnist_train_loader:\n",
        "        \n",
        "        image = Variable(image).to(device)\n",
        "        noisy = attack(image, epsilon)\n",
        "        encoded = encoder(noisy)\n",
        "        decoded = decoder(encoded)\n",
        "\n",
        "        iter_loss = loss(decoded, image)\n",
        "        iter_loss.backward()\n",
        "        total_loss += iter_loss.data\n",
        "        optim.step()\n",
        "\n",
        "        iter_accuracy = mse(image, decoded)\n",
        "        accuracies += iter_accuracy.data.item()\n",
        "    print(total_loss)\n",
        "    print(accuracies / len(mnist_train_loader))\n",
        "    \n"
      ],
      "metadata": {
        "id": "P6xuNau7QJ6W"
      },
      "execution_count": null,
      "outputs": []
    },
    {
      "cell_type": "code",
      "source": [
        "mnist_train_loader, _ = mnist_loader(batch_size = 512)\n",
        "for i in range(30):\n",
        "    train_noise(mnist_train_loader, enc, dec, optim, loss)"
      ],
      "metadata": {
        "id": "O3RxriliiAOP",
        "colab": {
          "base_uri": "https://localhost:8080/"
        },
        "outputId": "9971e3de-bcb8-45c3-906a-8767feb2daa0"
      },
      "execution_count": null,
      "outputs": [
        {
          "output_type": "stream",
          "name": "stdout",
          "text": [
            "tensor(5.3014, device='cuda:0')\n",
            "0.04492682733146821\n",
            "tensor(5.5702, device='cuda:0')\n",
            "0.04720543388087871\n",
            "tensor(5.0765, device='cuda:0')\n",
            "0.04302111542704752\n",
            "tensor(5.0890, device='cuda:0')\n",
            "0.043126691637908\n",
            "tensor(5.0746, device='cuda:0')\n",
            "0.04300524164938321\n",
            "tensor(5.1193, device='cuda:0')\n",
            "0.04338374749709994\n",
            "tensor(4.9320, device='cuda:0')\n",
            "0.0417967350301096\n",
            "tensor(4.8358, device='cuda:0')\n",
            "0.04098155096930973\n",
            "tensor(4.7091, device='cuda:0')\n",
            "0.03990754172584768\n",
            "tensor(4.7627, device='cuda:0')\n",
            "0.040361791217731216\n",
            "tensor(4.7519, device='cuda:0')\n",
            "0.04027045496060687\n",
            "tensor(4.8935, device='cuda:0')\n",
            "0.04147056840612727\n",
            "tensor(4.8647, device='cuda:0')\n",
            "0.04122634711912123\n",
            "tensor(4.8780, device='cuda:0')\n",
            "0.04133871958543688\n",
            "tensor(4.9135, device='cuda:0')\n",
            "0.04164015798498008\n",
            "tensor(4.9645, device='cuda:0')\n",
            "0.04207240291318651\n",
            "tensor(4.8803, device='cuda:0')\n",
            "0.04135865001481468\n",
            "tensor(4.7079, device='cuda:0')\n",
            "0.03989781663453175\n",
            "tensor(4.6549, device='cuda:0')\n",
            "0.03944802445249032\n",
            "tensor(4.4757, device='cuda:0')\n",
            "0.037929918459158836\n",
            "tensor(4.4941, device='cuda:0')\n",
            "0.038085851976174416\n",
            "tensor(4.5769, device='cuda:0')\n",
            "0.038787544341915746\n",
            "tensor(4.4332, device='cuda:0')\n",
            "0.03756981504039239\n",
            "tensor(4.3320, device='cuda:0')\n",
            "0.0367120999085196\n",
            "tensor(4.2559, device='cuda:0')\n",
            "0.03606695887017048\n",
            "tensor(4.3120, device='cuda:0')\n",
            "0.036542022916472565\n",
            "tensor(4.3759, device='cuda:0')\n",
            "0.037084040058366324\n",
            "tensor(4.2948, device='cuda:0')\n",
            "0.036396500638733474\n",
            "tensor(4.3087, device='cuda:0')\n",
            "0.036514323394177324\n",
            "tensor(4.2960, device='cuda:0')\n",
            "0.036406976786457886\n"
          ]
        }
      ]
    },
    {
      "cell_type": "code",
      "source": [
        "noisy = Variable(noisy).to(device)\n",
        "encoded = enc(noisy.unsqueeze(0))\n",
        "decoded = dec(encoded)\n",
        "\n",
        "figure = plt.figure()\n",
        "rows, cols = 1, 3\n",
        "\n",
        "figure.add_subplot(rows, cols, 1)\n",
        "plt.imshow(img.squeeze(), cmap = 'gray')\n",
        "\n",
        "figure.add_subplot(rows, cols, 2)\n",
        "plt.imshow(noisy.cpu().detach().squeeze(), cmap = 'gray')\n",
        "\n",
        "figure.add_subplot(rows, cols, 3)\n",
        "plt.imshow(decoded.cpu().detach().squeeze(), cmap = 'gray')\n",
        "\n",
        "plt.show()"
      ],
      "metadata": {
        "colab": {
          "base_uri": "https://localhost:8080/",
          "height": 149
        },
        "id": "4BE6Oqirlspr",
        "outputId": "eccb4d3f-0b21-405e-a4df-44488c34763b"
      },
      "execution_count": null,
      "outputs": [
        {
          "output_type": "display_data",
          "data": {
            "text/plain": [
              "<Figure size 432x288 with 3 Axes>"
            ],
            "image/png": "[encoded data removed]"
          },
          "metadata": {
            "needs_background": "light"
          }
        }
      ]
    }
  ]
}