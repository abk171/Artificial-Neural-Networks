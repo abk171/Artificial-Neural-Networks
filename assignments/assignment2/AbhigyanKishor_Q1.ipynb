{
  "nbformat": 4,
  "nbformat_minor": 0,
  "metadata": {
    "colab": {
      "provenance": [],
      "authorship_tag": "ABX9TyMCO7hzEUBSraTUmVzexIjH",
      "include_colab_link": true
    },
    "kernelspec": {
      "name": "python3",
      "display_name": "Python 3"
    },
    "language_info": {
      "name": "python"
    },
    "accelerator": "GPU",
    "widgets": {
      "application/vnd.jupyter.widget-state+json": {
        "fdd3f0c7c4a841cb9dc2ae57cc88fd39": {
          "model_module": "@jupyter-widgets/controls",
          "model_name": "HBoxModel",
          "model_module_version": "1.5.0",
          "state": {
            "_dom_classes": [],
            "_model_module": "@jupyter-widgets/controls",
            "_model_module_version": "1.5.0",
            "_model_name": "HBoxModel",
            "_view_count": null,
            "_view_module": "@jupyter-widgets/controls",
            "_view_module_version": "1.5.0",
            "_view_name": "HBoxView",
            "box_style": "",
            "children": [
              "IPY_MODEL_6e6f256b8f6c4a5393286b9af5b4ed1d",
              "IPY_MODEL_1509ff537fae499bbe941e8500f05b51",
              "IPY_MODEL_a5456ca3a76640f4a824c6062dd4dcf5"
            ],
            "layout": "IPY_MODEL_6193d5a160604d628849958c64c4f17b"
          }
        },
        "6e6f256b8f6c4a5393286b9af5b4ed1d": {
          "model_module": "@jupyter-widgets/controls",
          "model_name": "HTMLModel",
          "model_module_version": "1.5.0",
          "state": {
            "_dom_classes": [],
            "_model_module": "@jupyter-widgets/controls",
            "_model_module_version": "1.5.0",
            "_model_name": "HTMLModel",
            "_view_count": null,
            "_view_module": "@jupyter-widgets/controls",
            "_view_module_version": "1.5.0",
            "_view_name": "HTMLView",
            "description": "",
            "description_tooltip": null,
            "layout": "IPY_MODEL_9a99d617865347a38dfb7bd0ecc4da04",
            "placeholder": "​",
            "style": "IPY_MODEL_840619fb78394e0892063ce55093294d",
            "value": "100%"
          }
        },
        "1509ff537fae499bbe941e8500f05b51": {
          "model_module": "@jupyter-widgets/controls",
          "model_name": "FloatProgressModel",
          "model_module_version": "1.5.0",
          "state": {
            "_dom_classes": [],
            "_model_module": "@jupyter-widgets/controls",
            "_model_module_version": "1.5.0",
            "_model_name": "FloatProgressModel",
            "_view_count": null,
            "_view_module": "@jupyter-widgets/controls",
            "_view_module_version": "1.5.0",
            "_view_name": "ProgressView",
            "bar_style": "success",
            "description": "",
            "description_tooltip": null,
            "layout": "IPY_MODEL_b90dbe5fc94446e683969e177321f7fa",
            "max": 26421880,
            "min": 0,
            "orientation": "horizontal",
            "style": "IPY_MODEL_649c5a2f2d6741c0955f9b98187e7bc5",
            "value": 26421880
          }
        },
        "a5456ca3a76640f4a824c6062dd4dcf5": {
          "model_module": "@jupyter-widgets/controls",
          "model_name": "HTMLModel",
          "model_module_version": "1.5.0",
          "state": {
            "_dom_classes": [],
            "_model_module": "@jupyter-widgets/controls",
            "_model_module_version": "1.5.0",
            "_model_name": "HTMLModel",
            "_view_count": null,
            "_view_module": "@jupyter-widgets/controls",
            "_view_module_version": "1.5.0",
            "_view_name": "HTMLView",
            "description": "",
            "description_tooltip": null,
            "layout": "IPY_MODEL_74e00aa273cb461c9d76b780548f2e90",
            "placeholder": "​",
            "style": "IPY_MODEL_9485a5ba7e654e11acd0516696a897db",
            "value": " 26421880/26421880 [00:16&lt;00:00, 6383456.87it/s]"
          }
        },
        "6193d5a160604d628849958c64c4f17b": {
          "model_module": "@jupyter-widgets/base",
          "model_name": "LayoutModel",
          "model_module_version": "1.2.0",
          "state": {
            "_model_module": "@jupyter-widgets/base",
            "_model_module_version": "1.2.0",
            "_model_name": "LayoutModel",
            "_view_count": null,
            "_view_module": "@jupyter-widgets/base",
            "_view_module_version": "1.2.0",
            "_view_name": "LayoutView",
            "align_content": null,
            "align_items": null,
            "align_self": null,
            "border": null,
            "bottom": null,
            "display": null,
            "flex": null,
            "flex_flow": null,
            "grid_area": null,
            "grid_auto_columns": null,
            "grid_auto_flow": null,
            "grid_auto_rows": null,
            "grid_column": null,
            "grid_gap": null,
            "grid_row": null,
            "grid_template_areas": null,
            "grid_template_columns": null,
            "grid_template_rows": null,
            "height": null,
            "justify_content": null,
            "justify_items": null,
            "left": null,
            "margin": null,
            "max_height": null,
            "max_width": null,
            "min_height": null,
            "min_width": null,
            "object_fit": null,
            "object_position": null,
            "order": null,
            "overflow": null,
            "overflow_x": null,
            "overflow_y": null,
            "padding": null,
            "right": null,
            "top": null,
            "visibility": null,
            "width": null
          }
        },
        "9a99d617865347a38dfb7bd0ecc4da04": {
          "model_module": "@jupyter-widgets/base",
          "model_name": "LayoutModel",
          "model_module_version": "1.2.0",
          "state": {
            "_model_module": "@jupyter-widgets/base",
            "_model_module_version": "1.2.0",
            "_model_name": "LayoutModel",
            "_view_count": null,
            "_view_module": "@jupyter-widgets/base",
            "_view_module_version": "1.2.0",
            "_view_name": "LayoutView",
            "align_content": null,
            "align_items": null,
            "align_self": null,
            "border": null,
            "bottom": null,
            "display": null,
            "flex": null,
            "flex_flow": null,
            "grid_area": null,
            "grid_auto_columns": null,
            "grid_auto_flow": null,
            "grid_auto_rows": null,
            "grid_column": null,
            "grid_gap": null,
            "grid_row": null,
            "grid_template_areas": null,
            "grid_template_columns": null,
            "grid_template_rows": null,
            "height": null,
            "justify_content": null,
            "justify_items": null,
            "left": null,
            "margin": null,
            "max_height": null,
            "max_width": null,
            "min_height": null,
            "min_width": null,
            "object_fit": null,
            "object_position": null,
            "order": null,
            "overflow": null,
            "overflow_x": null,
            "overflow_y": null,
            "padding": null,
            "right": null,
            "top": null,
            "visibility": null,
            "width": null
          }
        },
        "840619fb78394e0892063ce55093294d": {
          "model_module": "@jupyter-widgets/controls",
          "model_name": "DescriptionStyleModel",
          "model_module_version": "1.5.0",
          "state": {
            "_model_module": "@jupyter-widgets/controls",
            "_model_module_version": "1.5.0",
            "_model_name": "DescriptionStyleModel",
            "_view_count": null,
            "_view_module": "@jupyter-widgets/base",
            "_view_module_version": "1.2.0",
            "_view_name": "StyleView",
            "description_width": ""
          }
        },
        "b90dbe5fc94446e683969e177321f7fa": {
          "model_module": "@jupyter-widgets/base",
          "model_name": "LayoutModel",
          "model_module_version": "1.2.0",
          "state": {
            "_model_module": "@jupyter-widgets/base",
            "_model_module_version": "1.2.0",
            "_model_name": "LayoutModel",
            "_view_count": null,
            "_view_module": "@jupyter-widgets/base",
            "_view_module_version": "1.2.0",
            "_view_name": "LayoutView",
            "align_content": null,
            "align_items": null,
            "align_self": null,
            "border": null,
            "bottom": null,
            "display": null,
            "flex": null,
            "flex_flow": null,
            "grid_area": null,
            "grid_auto_columns": null,
            "grid_auto_flow": null,
            "grid_auto_rows": null,
            "grid_column": null,
            "grid_gap": null,
            "grid_row": null,
            "grid_template_areas": null,
            "grid_template_columns": null,
            "grid_template_rows": null,
            "height": null,
            "justify_content": null,
            "justify_items": null,
            "left": null,
            "margin": null,
            "max_height": null,
            "max_width": null,
            "min_height": null,
            "min_width": null,
            "object_fit": null,
            "object_position": null,
            "order": null,
            "overflow": null,
            "overflow_x": null,
            "overflow_y": null,
            "padding": null,
            "right": null,
            "top": null,
            "visibility": null,
            "width": null
          }
        },
        "649c5a2f2d6741c0955f9b98187e7bc5": {
          "model_module": "@jupyter-widgets/controls",
          "model_name": "ProgressStyleModel",
          "model_module_version": "1.5.0",
          "state": {
            "_model_module": "@jupyter-widgets/controls",
            "_model_module_version": "1.5.0",
            "_model_name": "ProgressStyleModel",
            "_view_count": null,
            "_view_module": "@jupyter-widgets/base",
            "_view_module_version": "1.2.0",
            "_view_name": "StyleView",
            "bar_color": null,
            "description_width": ""
          }
        },
        "74e00aa273cb461c9d76b780548f2e90": {
          "model_module": "@jupyter-widgets/base",
          "model_name": "LayoutModel",
          "model_module_version": "1.2.0",
          "state": {
            "_model_module": "@jupyter-widgets/base",
            "_model_module_version": "1.2.0",
            "_model_name": "LayoutModel",
            "_view_count": null,
            "_view_module": "@jupyter-widgets/base",
            "_view_module_version": "1.2.0",
            "_view_name": "LayoutView",
            "align_content": null,
            "align_items": null,
            "align_self": null,
            "border": null,
            "bottom": null,
            "display": null,
            "flex": null,
            "flex_flow": null,
            "grid_area": null,
            "grid_auto_columns": null,
            "grid_auto_flow": null,
            "grid_auto_rows": null,
            "grid_column": null,
            "grid_gap": null,
            "grid_row": null,
            "grid_template_areas": null,
            "grid_template_columns": null,
            "grid_template_rows": null,
            "height": null,
            "justify_content": null,
            "justify_items": null,
            "left": null,
            "margin": null,
            "max_height": null,
            "max_width": null,
            "min_height": null,
            "min_width": null,
            "object_fit": null,
            "object_position": null,
            "order": null,
            "overflow": null,
            "overflow_x": null,
            "overflow_y": null,
            "padding": null,
            "right": null,
            "top": null,
            "visibility": null,
            "width": null
          }
        },
        "9485a5ba7e654e11acd0516696a897db": {
          "model_module": "@jupyter-widgets/controls",
          "model_name": "DescriptionStyleModel",
          "model_module_version": "1.5.0",
          "state": {
            "_model_module": "@jupyter-widgets/controls",
            "_model_module_version": "1.5.0",
            "_model_name": "DescriptionStyleModel",
            "_view_count": null,
            "_view_module": "@jupyter-widgets/base",
            "_view_module_version": "1.2.0",
            "_view_name": "StyleView",
            "description_width": ""
          }
        },
        "0ff2181423634eac97bf50fe562b50bd": {
          "model_module": "@jupyter-widgets/controls",
          "model_name": "HBoxModel",
          "model_module_version": "1.5.0",
          "state": {
            "_dom_classes": [],
            "_model_module": "@jupyter-widgets/controls",
            "_model_module_version": "1.5.0",
            "_model_name": "HBoxModel",
            "_view_count": null,
            "_view_module": "@jupyter-widgets/controls",
            "_view_module_version": "1.5.0",
            "_view_name": "HBoxView",
            "box_style": "",
            "children": [
              "IPY_MODEL_9a8d963613b24e8cbcca7f8f809577a5",
              "IPY_MODEL_7e3a5800f43c4521ad74f259c163fb8f",
              "IPY_MODEL_61f546c60b3d498aab15983fb9301d6b"
            ],
            "layout": "IPY_MODEL_e5aa937c037b46129e08c9c4f2318aac"
          }
        },
        "9a8d963613b24e8cbcca7f8f809577a5": {
          "model_module": "@jupyter-widgets/controls",
          "model_name": "HTMLModel",
          "model_module_version": "1.5.0",
          "state": {
            "_dom_classes": [],
            "_model_module": "@jupyter-widgets/controls",
            "_model_module_version": "1.5.0",
            "_model_name": "HTMLModel",
            "_view_count": null,
            "_view_module": "@jupyter-widgets/controls",
            "_view_module_version": "1.5.0",
            "_view_name": "HTMLView",
            "description": "",
            "description_tooltip": null,
            "layout": "IPY_MODEL_402059797e5c40fbb0602b96f4684b10",
            "placeholder": "​",
            "style": "IPY_MODEL_9f6b1a47e2ab4fd4a216dbbb02d214a3",
            "value": "100%"
          }
        },
        "7e3a5800f43c4521ad74f259c163fb8f": {
          "model_module": "@jupyter-widgets/controls",
          "model_name": "FloatProgressModel",
          "model_module_version": "1.5.0",
          "state": {
            "_dom_classes": [],
            "_model_module": "@jupyter-widgets/controls",
            "_model_module_version": "1.5.0",
            "_model_name": "FloatProgressModel",
            "_view_count": null,
            "_view_module": "@jupyter-widgets/controls",
            "_view_module_version": "1.5.0",
            "_view_name": "ProgressView",
            "bar_style": "success",
            "description": "",
            "description_tooltip": null,
            "layout": "IPY_MODEL_54484ed3d2dc4a59a817a0ef714b0bb7",
            "max": 29515,
            "min": 0,
            "orientation": "horizontal",
            "style": "IPY_MODEL_e6385bb9e519485b8973a1e78714a83c",
            "value": 29515
          }
        },
        "61f546c60b3d498aab15983fb9301d6b": {
          "model_module": "@jupyter-widgets/controls",
          "model_name": "HTMLModel",
          "model_module_version": "1.5.0",
          "state": {
            "_dom_classes": [],
            "_model_module": "@jupyter-widgets/controls",
            "_model_module_version": "1.5.0",
            "_model_name": "HTMLModel",
            "_view_count": null,
            "_view_module": "@jupyter-widgets/controls",
            "_view_module_version": "1.5.0",
            "_view_name": "HTMLView",
            "description": "",
            "description_tooltip": null,
            "layout": "IPY_MODEL_fee4e392152648b1931932722c316120",
            "placeholder": "​",
            "style": "IPY_MODEL_43d5efdcbdc148dbb24987b34ff3db24",
            "value": " 29515/29515 [00:00&lt;00:00, 141223.40it/s]"
          }
        },
        "e5aa937c037b46129e08c9c4f2318aac": {
          "model_module": "@jupyter-widgets/base",
          "model_name": "LayoutModel",
          "model_module_version": "1.2.0",
          "state": {
            "_model_module": "@jupyter-widgets/base",
            "_model_module_version": "1.2.0",
            "_model_name": "LayoutModel",
            "_view_count": null,
            "_view_module": "@jupyter-widgets/base",
            "_view_module_version": "1.2.0",
            "_view_name": "LayoutView",
            "align_content": null,
            "align_items": null,
            "align_self": null,
            "border": null,
            "bottom": null,
            "display": null,
            "flex": null,
            "flex_flow": null,
            "grid_area": null,
            "grid_auto_columns": null,
            "grid_auto_flow": null,
            "grid_auto_rows": null,
            "grid_column": null,
            "grid_gap": null,
            "grid_row": null,
            "grid_template_areas": null,
            "grid_template_columns": null,
            "grid_template_rows": null,
            "height": null,
            "justify_content": null,
            "justify_items": null,
            "left": null,
            "margin": null,
            "max_height": null,
            "max_width": null,
            "min_height": null,
            "min_width": null,
            "object_fit": null,
            "object_position": null,
            "order": null,
            "overflow": null,
            "overflow_x": null,
            "overflow_y": null,
            "padding": null,
            "right": null,
            "top": null,
            "visibility": null,
            "width": null
          }
        },
        "402059797e5c40fbb0602b96f4684b10": {
          "model_module": "@jupyter-widgets/base",
          "model_name": "LayoutModel",
          "model_module_version": "1.2.0",
          "state": {
            "_model_module": "@jupyter-widgets/base",
            "_model_module_version": "1.2.0",
            "_model_name": "LayoutModel",
            "_view_count": null,
            "_view_module": "@jupyter-widgets/base",
            "_view_module_version": "1.2.0",
            "_view_name": "LayoutView",
            "align_content": null,
            "align_items": null,
            "align_self": null,
            "border": null,
            "bottom": null,
            "display": null,
            "flex": null,
            "flex_flow": null,
            "grid_area": null,
            "grid_auto_columns": null,
            "grid_auto_flow": null,
            "grid_auto_rows": null,
            "grid_column": null,
            "grid_gap": null,
            "grid_row": null,
            "grid_template_areas": null,
            "grid_template_columns": null,
            "grid_template_rows": null,
            "height": null,
            "justify_content": null,
            "justify_items": null,
            "left": null,
            "margin": null,
            "max_height": null,
            "max_width": null,
            "min_height": null,
            "min_width": null,
            "object_fit": null,
            "object_position": null,
            "order": null,
            "overflow": null,
            "overflow_x": null,
            "overflow_y": null,
            "padding": null,
            "right": null,
            "top": null,
            "visibility": null,
            "width": null
          }
        },
        "9f6b1a47e2ab4fd4a216dbbb02d214a3": {
          "model_module": "@jupyter-widgets/controls",
          "model_name": "DescriptionStyleModel",
          "model_module_version": "1.5.0",
          "state": {
            "_model_module": "@jupyter-widgets/controls",
            "_model_module_version": "1.5.0",
            "_model_name": "DescriptionStyleModel",
            "_view_count": null,
            "_view_module": "@jupyter-widgets/base",
            "_view_module_version": "1.2.0",
            "_view_name": "StyleView",
            "description_width": ""
          }
        },
        "54484ed3d2dc4a59a817a0ef714b0bb7": {
          "model_module": "@jupyter-widgets/base",
          "model_name": "LayoutModel",
          "model_module_version": "1.2.0",
          "state": {
            "_model_module": "@jupyter-widgets/base",
            "_model_module_version": "1.2.0",
            "_model_name": "LayoutModel",
            "_view_count": null,
            "_view_module": "@jupyter-widgets/base",
            "_view_module_version": "1.2.0",
            "_view_name": "LayoutView",
            "align_content": null,
            "align_items": null,
            "align_self": null,
            "border": null,
            "bottom": null,
            "display": null,
            "flex": null,
            "flex_flow": null,
            "grid_area": null,
            "grid_auto_columns": null,
            "grid_auto_flow": null,
            "grid_auto_rows": null,
            "grid_column": null,
            "grid_gap": null,
            "grid_row": null,
            "grid_template_areas": null,
            "grid_template_columns": null,
            "grid_template_rows": null,
            "height": null,
            "justify_content": null,
            "justify_items": null,
            "left": null,
            "margin": null,
            "max_height": null,
            "max_width": null,
            "min_height": null,
            "min_width": null,
            "object_fit": null,
            "object_position": null,
            "order": null,
            "overflow": null,
            "overflow_x": null,
            "overflow_y": null,
            "padding": null,
            "right": null,
            "top": null,
            "visibility": null,
            "width": null
          }
        },
        "e6385bb9e519485b8973a1e78714a83c": {
          "model_module": "@jupyter-widgets/controls",
          "model_name": "ProgressStyleModel",
          "model_module_version": "1.5.0",
          "state": {
            "_model_module": "@jupyter-widgets/controls",
            "_model_module_version": "1.5.0",
            "_model_name": "ProgressStyleModel",
            "_view_count": null,
            "_view_module": "@jupyter-widgets/base",
            "_view_module_version": "1.2.0",
            "_view_name": "StyleView",
            "bar_color": null,
            "description_width": ""
          }
        },
        "fee4e392152648b1931932722c316120": {
          "model_module": "@jupyter-widgets/base",
          "model_name": "LayoutModel",
          "model_module_version": "1.2.0",
          "state": {
            "_model_module": "@jupyter-widgets/base",
            "_model_module_version": "1.2.0",
            "_model_name": "LayoutModel",
            "_view_count": null,
            "_view_module": "@jupyter-widgets/base",
            "_view_module_version": "1.2.0",
            "_view_name": "LayoutView",
            "align_content": null,
            "align_items": null,
            "align_self": null,
            "border": null,
            "bottom": null,
            "display": null,
            "flex": null,
            "flex_flow": null,
            "grid_area": null,
            "grid_auto_columns": null,
            "grid_auto_flow": null,
            "grid_auto_rows": null,
            "grid_column": null,
            "grid_gap": null,
            "grid_row": null,
            "grid_template_areas": null,
            "grid_template_columns": null,
            "grid_template_rows": null,
            "height": null,
            "justify_content": null,
            "justify_items": null,
            "left": null,
            "margin": null,
            "max_height": null,
            "max_width": null,
            "min_height": null,
            "min_width": null,
            "object_fit": null,
            "object_position": null,
            "order": null,
            "overflow": null,
            "overflow_x": null,
            "overflow_y": null,
            "padding": null,
            "right": null,
            "top": null,
            "visibility": null,
            "width": null
          }
        },
        "43d5efdcbdc148dbb24987b34ff3db24": {
          "model_module": "@jupyter-widgets/controls",
          "model_name": "DescriptionStyleModel",
          "model_module_version": "1.5.0",
          "state": {
            "_model_module": "@jupyter-widgets/controls",
            "_model_module_version": "1.5.0",
            "_model_name": "DescriptionStyleModel",
            "_view_count": null,
            "_view_module": "@jupyter-widgets/base",
            "_view_module_version": "1.2.0",
            "_view_name": "StyleView",
            "description_width": ""
          }
        },
        "fd53957737a347f5aeb974d5125906f1": {
          "model_module": "@jupyter-widgets/controls",
          "model_name": "HBoxModel",
          "model_module_version": "1.5.0",
          "state": {
            "_dom_classes": [],
            "_model_module": "@jupyter-widgets/controls",
            "_model_module_version": "1.5.0",
            "_model_name": "HBoxModel",
            "_view_count": null,
            "_view_module": "@jupyter-widgets/controls",
            "_view_module_version": "1.5.0",
            "_view_name": "HBoxView",
            "box_style": "",
            "children": [
              "IPY_MODEL_bf54fc93b52f444388dda5c88f854133",
              "IPY_MODEL_c746a26e379d4364ad1dc19581f9605f",
              "IPY_MODEL_c98a36bb345742289c23e058014f3e1a"
            ],
            "layout": "IPY_MODEL_9d3a2d01fe5748beac53843bc564753f"
          }
        },
        "bf54fc93b52f444388dda5c88f854133": {
          "model_module": "@jupyter-widgets/controls",
          "model_name": "HTMLModel",
          "model_module_version": "1.5.0",
          "state": {
            "_dom_classes": [],
            "_model_module": "@jupyter-widgets/controls",
            "_model_module_version": "1.5.0",
            "_model_name": "HTMLModel",
            "_view_count": null,
            "_view_module": "@jupyter-widgets/controls",
            "_view_module_version": "1.5.0",
            "_view_name": "HTMLView",
            "description": "",
            "description_tooltip": null,
            "layout": "IPY_MODEL_7fa08918ea2c4086b4a550fffa54a48a",
            "placeholder": "​",
            "style": "IPY_MODEL_b36260cc883f42849b0210f573f0ce91",
            "value": "100%"
          }
        },
        "c746a26e379d4364ad1dc19581f9605f": {
          "model_module": "@jupyter-widgets/controls",
          "model_name": "FloatProgressModel",
          "model_module_version": "1.5.0",
          "state": {
            "_dom_classes": [],
            "_model_module": "@jupyter-widgets/controls",
            "_model_module_version": "1.5.0",
            "_model_name": "FloatProgressModel",
            "_view_count": null,
            "_view_module": "@jupyter-widgets/controls",
            "_view_module_version": "1.5.0",
            "_view_name": "ProgressView",
            "bar_style": "success",
            "description": "",
            "description_tooltip": null,
            "layout": "IPY_MODEL_2c2df0c750e0469d8c8a737d41672c59",
            "max": 4422102,
            "min": 0,
            "orientation": "horizontal",
            "style": "IPY_MODEL_3f32d85e738c4dbb801f9328e95ecce1",
            "value": 4422102
          }
        },
        "c98a36bb345742289c23e058014f3e1a": {
          "model_module": "@jupyter-widgets/controls",
          "model_name": "HTMLModel",
          "model_module_version": "1.5.0",
          "state": {
            "_dom_classes": [],
            "_model_module": "@jupyter-widgets/controls",
            "_model_module_version": "1.5.0",
            "_model_name": "HTMLModel",
            "_view_count": null,
            "_view_module": "@jupyter-widgets/controls",
            "_view_module_version": "1.5.0",
            "_view_name": "HTMLView",
            "description": "",
            "description_tooltip": null,
            "layout": "IPY_MODEL_c478d4842d66421abfd4793b4a3058f0",
            "placeholder": "​",
            "style": "IPY_MODEL_0a578ceb646e46d4a38bd94f468023ef",
            "value": " 4422102/4422102 [00:01&lt;00:00, 4566453.48it/s]"
          }
        },
        "9d3a2d01fe5748beac53843bc564753f": {
          "model_module": "@jupyter-widgets/base",
          "model_name": "LayoutModel",
          "model_module_version": "1.2.0",
          "state": {
            "_model_module": "@jupyter-widgets/base",
            "_model_module_version": "1.2.0",
            "_model_name": "LayoutModel",
            "_view_count": null,
            "_view_module": "@jupyter-widgets/base",
            "_view_module_version": "1.2.0",
            "_view_name": "LayoutView",
            "align_content": null,
            "align_items": null,
            "align_self": null,
            "border": null,
            "bottom": null,
            "display": null,
            "flex": null,
            "flex_flow": null,
            "grid_area": null,
            "grid_auto_columns": null,
            "grid_auto_flow": null,
            "grid_auto_rows": null,
            "grid_column": null,
            "grid_gap": null,
            "grid_row": null,
            "grid_template_areas": null,
            "grid_template_columns": null,
            "grid_template_rows": null,
            "height": null,
            "justify_content": null,
            "justify_items": null,
            "left": null,
            "margin": null,
            "max_height": null,
            "max_width": null,
            "min_height": null,
            "min_width": null,
            "object_fit": null,
            "object_position": null,
            "order": null,
            "overflow": null,
            "overflow_x": null,
            "overflow_y": null,
            "padding": null,
            "right": null,
            "top": null,
            "visibility": null,
            "width": null
          }
        },
        "7fa08918ea2c4086b4a550fffa54a48a": {
          "model_module": "@jupyter-widgets/base",
          "model_name": "LayoutModel",
          "model_module_version": "1.2.0",
          "state": {
            "_model_module": "@jupyter-widgets/base",
            "_model_module_version": "1.2.0",
            "_model_name": "LayoutModel",
            "_view_count": null,
            "_view_module": "@jupyter-widgets/base",
            "_view_module_version": "1.2.0",
            "_view_name": "LayoutView",
            "align_content": null,
            "align_items": null,
            "align_self": null,
            "border": null,
            "bottom": null,
            "display": null,
            "flex": null,
            "flex_flow": null,
            "grid_area": null,
            "grid_auto_columns": null,
            "grid_auto_flow": null,
            "grid_auto_rows": null,
            "grid_column": null,
            "grid_gap": null,
            "grid_row": null,
            "grid_template_areas": null,
            "grid_template_columns": null,
            "grid_template_rows": null,
            "height": null,
            "justify_content": null,
            "justify_items": null,
            "left": null,
            "margin": null,
            "max_height": null,
            "max_width": null,
            "min_height": null,
            "min_width": null,
            "object_fit": null,
            "object_position": null,
            "order": null,
            "overflow": null,
            "overflow_x": null,
            "overflow_y": null,
            "padding": null,
            "right": null,
            "top": null,
            "visibility": null,
            "width": null
          }
        },
        "b36260cc883f42849b0210f573f0ce91": {
          "model_module": "@jupyter-widgets/controls",
          "model_name": "DescriptionStyleModel",
          "model_module_version": "1.5.0",
          "state": {
            "_model_module": "@jupyter-widgets/controls",
            "_model_module_version": "1.5.0",
            "_model_name": "DescriptionStyleModel",
            "_view_count": null,
            "_view_module": "@jupyter-widgets/base",
            "_view_module_version": "1.2.0",
            "_view_name": "StyleView",
            "description_width": ""
          }
        },
        "2c2df0c750e0469d8c8a737d41672c59": {
          "model_module": "@jupyter-widgets/base",
          "model_name": "LayoutModel",
          "model_module_version": "1.2.0",
          "state": {
            "_model_module": "@jupyter-widgets/base",
            "_model_module_version": "1.2.0",
            "_model_name": "LayoutModel",
            "_view_count": null,
            "_view_module": "@jupyter-widgets/base",
            "_view_module_version": "1.2.0",
            "_view_name": "LayoutView",
            "align_content": null,
            "align_items": null,
            "align_self": null,
            "border": null,
            "bottom": null,
            "display": null,
            "flex": null,
            "flex_flow": null,
            "grid_area": null,
            "grid_auto_columns": null,
            "grid_auto_flow": null,
            "grid_auto_rows": null,
            "grid_column": null,
            "grid_gap": null,
            "grid_row": null,
            "grid_template_areas": null,
            "grid_template_columns": null,
            "grid_template_rows": null,
            "height": null,
            "justify_content": null,
            "justify_items": null,
            "left": null,
            "margin": null,
            "max_height": null,
            "max_width": null,
            "min_height": null,
            "min_width": null,
            "object_fit": null,
            "object_position": null,
            "order": null,
            "overflow": null,
            "overflow_x": null,
            "overflow_y": null,
            "padding": null,
            "right": null,
            "top": null,
            "visibility": null,
            "width": null
          }
        },
        "3f32d85e738c4dbb801f9328e95ecce1": {
          "model_module": "@jupyter-widgets/controls",
          "model_name": "ProgressStyleModel",
          "model_module_version": "1.5.0",
          "state": {
            "_model_module": "@jupyter-widgets/controls",
            "_model_module_version": "1.5.0",
            "_model_name": "ProgressStyleModel",
            "_view_count": null,
            "_view_module": "@jupyter-widgets/base",
            "_view_module_version": "1.2.0",
            "_view_name": "StyleView",
            "bar_color": null,
            "description_width": ""
          }
        },
        "c478d4842d66421abfd4793b4a3058f0": {
          "model_module": "@jupyter-widgets/base",
          "model_name": "LayoutModel",
          "model_module_version": "1.2.0",
          "state": {
            "_model_module": "@jupyter-widgets/base",
            "_model_module_version": "1.2.0",
            "_model_name": "LayoutModel",
            "_view_count": null,
            "_view_module": "@jupyter-widgets/base",
            "_view_module_version": "1.2.0",
            "_view_name": "LayoutView",
            "align_content": null,
            "align_items": null,
            "align_self": null,
            "border": null,
            "bottom": null,
            "display": null,
            "flex": null,
            "flex_flow": null,
            "grid_area": null,
            "grid_auto_columns": null,
            "grid_auto_flow": null,
            "grid_auto_rows": null,
            "grid_column": null,
            "grid_gap": null,
            "grid_row": null,
            "grid_template_areas": null,
            "grid_template_columns": null,
            "grid_template_rows": null,
            "height": null,
            "justify_content": null,
            "justify_items": null,
            "left": null,
            "margin": null,
            "max_height": null,
            "max_width": null,
            "min_height": null,
            "min_width": null,
            "object_fit": null,
            "object_position": null,
            "order": null,
            "overflow": null,
            "overflow_x": null,
            "overflow_y": null,
            "padding": null,
            "right": null,
            "top": null,
            "visibility": null,
            "width": null
          }
        },
        "0a578ceb646e46d4a38bd94f468023ef": {
          "model_module": "@jupyter-widgets/controls",
          "model_name": "DescriptionStyleModel",
          "model_module_version": "1.5.0",
          "state": {
            "_model_module": "@jupyter-widgets/controls",
            "_model_module_version": "1.5.0",
            "_model_name": "DescriptionStyleModel",
            "_view_count": null,
            "_view_module": "@jupyter-widgets/base",
            "_view_module_version": "1.2.0",
            "_view_name": "StyleView",
            "description_width": ""
          }
        },
        "740d926000f84a68af51282d0e0c6438": {
          "model_module": "@jupyter-widgets/controls",
          "model_name": "HBoxModel",
          "model_module_version": "1.5.0",
          "state": {
            "_dom_classes": [],
            "_model_module": "@jupyter-widgets/controls",
            "_model_module_version": "1.5.0",
            "_model_name": "HBoxModel",
            "_view_count": null,
            "_view_module": "@jupyter-widgets/controls",
            "_view_module_version": "1.5.0",
            "_view_name": "HBoxView",
            "box_style": "",
            "children": [
              "IPY_MODEL_ab53880cf1ec422a8c61e24a75ddd312",
              "IPY_MODEL_d8be58e2d45d4d6eb922b1640c41290e",
              "IPY_MODEL_04e345c1477f4649b878c43c24f8235d"
            ],
            "layout": "IPY_MODEL_1455482e58b242f58fa030fa45d5b7f8"
          }
        },
        "ab53880cf1ec422a8c61e24a75ddd312": {
          "model_module": "@jupyter-widgets/controls",
          "model_name": "HTMLModel",
          "model_module_version": "1.5.0",
          "state": {
            "_dom_classes": [],
            "_model_module": "@jupyter-widgets/controls",
            "_model_module_version": "1.5.0",
            "_model_name": "HTMLModel",
            "_view_count": null,
            "_view_module": "@jupyter-widgets/controls",
            "_view_module_version": "1.5.0",
            "_view_name": "HTMLView",
            "description": "",
            "description_tooltip": null,
            "layout": "IPY_MODEL_1ab49fcdf51e45ec99a968396212495d",
            "placeholder": "​",
            "style": "IPY_MODEL_3c0b75fb2c0845c68fa4e3374ffdeb36",
            "value": "100%"
          }
        },
        "d8be58e2d45d4d6eb922b1640c41290e": {
          "model_module": "@jupyter-widgets/controls",
          "model_name": "FloatProgressModel",
          "model_module_version": "1.5.0",
          "state": {
            "_dom_classes": [],
            "_model_module": "@jupyter-widgets/controls",
            "_model_module_version": "1.5.0",
            "_model_name": "FloatProgressModel",
            "_view_count": null,
            "_view_module": "@jupyter-widgets/controls",
            "_view_module_version": "1.5.0",
            "_view_name": "ProgressView",
            "bar_style": "success",
            "description": "",
            "description_tooltip": null,
            "layout": "IPY_MODEL_ce7c0e36a0d045b48ffbd087b34305b2",
            "max": 5148,
            "min": 0,
            "orientation": "horizontal",
            "style": "IPY_MODEL_f686688cd5de47c5b8db287a2b82ad96",
            "value": 5148
          }
        },
        "04e345c1477f4649b878c43c24f8235d": {
          "model_module": "@jupyter-widgets/controls",
          "model_name": "HTMLModel",
          "model_module_version": "1.5.0",
          "state": {
            "_dom_classes": [],
            "_model_module": "@jupyter-widgets/controls",
            "_model_module_version": "1.5.0",
            "_model_name": "HTMLModel",
            "_view_count": null,
            "_view_module": "@jupyter-widgets/controls",
            "_view_module_version": "1.5.0",
            "_view_name": "HTMLView",
            "description": "",
            "description_tooltip": null,
            "layout": "IPY_MODEL_5244796b812a4ee39179dc250167306a",
            "placeholder": "​",
            "style": "IPY_MODEL_de8a66a819a9480888901f711bb030d0",
            "value": " 5148/5148 [00:00&lt;00:00, 154467.77it/s]"
          }
        },
        "1455482e58b242f58fa030fa45d5b7f8": {
          "model_module": "@jupyter-widgets/base",
          "model_name": "LayoutModel",
          "model_module_version": "1.2.0",
          "state": {
            "_model_module": "@jupyter-widgets/base",
            "_model_module_version": "1.2.0",
            "_model_name": "LayoutModel",
            "_view_count": null,
            "_view_module": "@jupyter-widgets/base",
            "_view_module_version": "1.2.0",
            "_view_name": "LayoutView",
            "align_content": null,
            "align_items": null,
            "align_self": null,
            "border": null,
            "bottom": null,
            "display": null,
            "flex": null,
            "flex_flow": null,
            "grid_area": null,
            "grid_auto_columns": null,
            "grid_auto_flow": null,
            "grid_auto_rows": null,
            "grid_column": null,
            "grid_gap": null,
            "grid_row": null,
            "grid_template_areas": null,
            "grid_template_columns": null,
            "grid_template_rows": null,
            "height": null,
            "justify_content": null,
            "justify_items": null,
            "left": null,
            "margin": null,
            "max_height": null,
            "max_width": null,
            "min_height": null,
            "min_width": null,
            "object_fit": null,
            "object_position": null,
            "order": null,
            "overflow": null,
            "overflow_x": null,
            "overflow_y": null,
            "padding": null,
            "right": null,
            "top": null,
            "visibility": null,
            "width": null
          }
        },
        "1ab49fcdf51e45ec99a968396212495d": {
          "model_module": "@jupyter-widgets/base",
          "model_name": "LayoutModel",
          "model_module_version": "1.2.0",
          "state": {
            "_model_module": "@jupyter-widgets/base",
            "_model_module_version": "1.2.0",
            "_model_name": "LayoutModel",
            "_view_count": null,
            "_view_module": "@jupyter-widgets/base",
            "_view_module_version": "1.2.0",
            "_view_name": "LayoutView",
            "align_content": null,
            "align_items": null,
            "align_self": null,
            "border": null,
            "bottom": null,
            "display": null,
            "flex": null,
            "flex_flow": null,
            "grid_area": null,
            "grid_auto_columns": null,
            "grid_auto_flow": null,
            "grid_auto_rows": null,
            "grid_column": null,
            "grid_gap": null,
            "grid_row": null,
            "grid_template_areas": null,
            "grid_template_columns": null,
            "grid_template_rows": null,
            "height": null,
            "justify_content": null,
            "justify_items": null,
            "left": null,
            "margin": null,
            "max_height": null,
            "max_width": null,
            "min_height": null,
            "min_width": null,
            "object_fit": null,
            "object_position": null,
            "order": null,
            "overflow": null,
            "overflow_x": null,
            "overflow_y": null,
            "padding": null,
            "right": null,
            "top": null,
            "visibility": null,
            "width": null
          }
        },
        "3c0b75fb2c0845c68fa4e3374ffdeb36": {
          "model_module": "@jupyter-widgets/controls",
          "model_name": "DescriptionStyleModel",
          "model_module_version": "1.5.0",
          "state": {
            "_model_module": "@jupyter-widgets/controls",
            "_model_module_version": "1.5.0",
            "_model_name": "DescriptionStyleModel",
            "_view_count": null,
            "_view_module": "@jupyter-widgets/base",
            "_view_module_version": "1.2.0",
            "_view_name": "StyleView",
            "description_width": ""
          }
        },
        "ce7c0e36a0d045b48ffbd087b34305b2": {
          "model_module": "@jupyter-widgets/base",
          "model_name": "LayoutModel",
          "model_module_version": "1.2.0",
          "state": {
            "_model_module": "@jupyter-widgets/base",
            "_model_module_version": "1.2.0",
            "_model_name": "LayoutModel",
            "_view_count": null,
            "_view_module": "@jupyter-widgets/base",
            "_view_module_version": "1.2.0",
            "_view_name": "LayoutView",
            "align_content": null,
            "align_items": null,
            "align_self": null,
            "border": null,
            "bottom": null,
            "display": null,
            "flex": null,
            "flex_flow": null,
            "grid_area": null,
            "grid_auto_columns": null,
            "grid_auto_flow": null,
            "grid_auto_rows": null,
            "grid_column": null,
            "grid_gap": null,
            "grid_row": null,
            "grid_template_areas": null,
            "grid_template_columns": null,
            "grid_template_rows": null,
            "height": null,
            "justify_content": null,
            "justify_items": null,
            "left": null,
            "margin": null,
            "max_height": null,
            "max_width": null,
            "min_height": null,
            "min_width": null,
            "object_fit": null,
            "object_position": null,
            "order": null,
            "overflow": null,
            "overflow_x": null,
            "overflow_y": null,
            "padding": null,
            "right": null,
            "top": null,
            "visibility": null,
            "width": null
          }
        },
        "f686688cd5de47c5b8db287a2b82ad96": {
          "model_module": "@jupyter-widgets/controls",
          "model_name": "ProgressStyleModel",
          "model_module_version": "1.5.0",
          "state": {
            "_model_module": "@jupyter-widgets/controls",
            "_model_module_version": "1.5.0",
            "_model_name": "ProgressStyleModel",
            "_view_count": null,
            "_view_module": "@jupyter-widgets/base",
            "_view_module_version": "1.2.0",
            "_view_name": "StyleView",
            "bar_color": null,
            "description_width": ""
          }
        },
        "5244796b812a4ee39179dc250167306a": {
          "model_module": "@jupyter-widgets/base",
          "model_name": "LayoutModel",
          "model_module_version": "1.2.0",
          "state": {
            "_model_module": "@jupyter-widgets/base",
            "_model_module_version": "1.2.0",
            "_model_name": "LayoutModel",
            "_view_count": null,
            "_view_module": "@jupyter-widgets/base",
            "_view_module_version": "1.2.0",
            "_view_name": "LayoutView",
            "align_content": null,
            "align_items": null,
            "align_self": null,
            "border": null,
            "bottom": null,
            "display": null,
            "flex": null,
            "flex_flow": null,
            "grid_area": null,
            "grid_auto_columns": null,
            "grid_auto_flow": null,
            "grid_auto_rows": null,
            "grid_column": null,
            "grid_gap": null,
            "grid_row": null,
            "grid_template_areas": null,
            "grid_template_columns": null,
            "grid_template_rows": null,
            "height": null,
            "justify_content": null,
            "justify_items": null,
            "left": null,
            "margin": null,
            "max_height": null,
            "max_width": null,
            "min_height": null,
            "min_width": null,
            "object_fit": null,
            "object_position": null,
            "order": null,
            "overflow": null,
            "overflow_x": null,
            "overflow_y": null,
            "padding": null,
            "right": null,
            "top": null,
            "visibility": null,
            "width": null
          }
        },
        "de8a66a819a9480888901f711bb030d0": {
          "model_module": "@jupyter-widgets/controls",
          "model_name": "DescriptionStyleModel",
          "model_module_version": "1.5.0",
          "state": {
            "_model_module": "@jupyter-widgets/controls",
            "_model_module_version": "1.5.0",
            "_model_name": "DescriptionStyleModel",
            "_view_count": null,
            "_view_module": "@jupyter-widgets/base",
            "_view_module_version": "1.2.0",
            "_view_name": "StyleView",
            "description_width": ""
          }
        }
      }
    }
  },
  "cells": [
    {
      "cell_type": "markdown",
      "metadata": {
        "id": "view-in-github",
        "colab_type": "text"
      },
      "source": [
        "<a href=\"https://colab.research.google.com/github/ak1909552/Artificial-Neural-Networks/blob/main/assignments/assignment2/AbhigyanKishor_Q1.ipynb\" target=\"_parent\"><img src=\"https://colab.research.google.com/assets/colab-badge.svg\" alt=\"Open In Colab\"/></a>"
      ]
    },
    {
      "cell_type": "markdown",
      "source": [
        "## Imports"
      ],
      "metadata": {
        "id": "z_Yk8v-FRita"
      }
    },
    {
      "cell_type": "code",
      "execution_count": null,
      "metadata": {
        "id": "6xW8wavhRZuT"
      },
      "outputs": [],
      "source": [
        "import torch\n",
        "import torch.nn as nn\n",
        "from torch.autograd import Variable\n",
        "from torchvision import datasets\n",
        "from torchvision import transforms\n",
        "import matplotlib.pyplot as plt\n",
        "from collections import OrderedDict\n",
        "import numpy as mp"
      ]
    },
    {
      "cell_type": "markdown",
      "source": [
        "## The MNIST_MLP class\n",
        "\n",
        "This class is responsible for implementing an MLP network with dropout layers for each hidden layer. The output layer is a softmax layer."
      ],
      "metadata": {
        "id": "otTRlpB4Rog2"
      }
    },
    {
      "cell_type": "code",
      "source": [
        "class MNIST_MLP(nn.Module):\n",
        "    \n",
        "    def __init__(self, layer_sizes=[784, 10], activation=None, drop = 0.0):\n",
        "        super().__init__()\n",
        "        self.layer_sizes = layer_sizes \n",
        "        \n",
        "        # Different activations that you can use in forward() method.\n",
        "        self.relu = nn.ReLU()\n",
        "        self.sigmoid = nn.Sigmoid()\n",
        "        self.tanh = nn.Tanh()\n",
        "        self.identity = nn.Identity()\n",
        "\n",
        "        self.dropout = nn.Dropout(p = drop)\n",
        "\n",
        "        '''\n",
        "        self.activation is the activation function determined by the constructor argument\n",
        "        Defaults to self.relu\n",
        "        '''\n",
        "        \n",
        "        if activation == 'sigmoid':\n",
        "            self.activation = self.sigmoid\n",
        "        elif activation == 'tanh':\n",
        "            self.activation = self.tanh\n",
        "        elif activation == 'identity':\n",
        "            self.activation = self.identity\n",
        "        else:\n",
        "            self.activation = self.relu\n",
        "\n",
        "        '''\n",
        "        self.network represents the neural network to be constructed. \n",
        "\n",
        "        nn.Sequential accepts ordered dictionaries (dictionaries with the order of keys preserved)\n",
        "        to create a stacked network. \n",
        "\n",
        "        The structure of self.layer_dict is as follows:\n",
        "        {\n",
        "            'layer<i>' : nn.Linear(dim<i>, dim<i+1>),\n",
        "            'activation<i>' : self.activation,\n",
        "            ...\n",
        "        }\n",
        "\n",
        "        The final layer is a nn.Softmax() on dimension 1 of the final nn.Linear() layer.\n",
        "        '''\n",
        "        \n",
        "        self.layer_dict = OrderedDict()\n",
        "\n",
        "        for i in range(len(layer_sizes) - 1):\n",
        "            if(i == len(layer_sizes) - 2):\n",
        "                self.layer_dict[f'dropout'] = self.dropout\n",
        "            self.layer_dict[f'layer{i}'] = nn.Linear(layer_sizes[i], layer_sizes[i+1])\n",
        "            self.layer_dict[f'activation{i}'] = self.activation\n",
        "        #   self.layer_dict[f'dropout{i}'] = self.dropout\n",
        "        \n",
        "        # del self.layer_dict[f'dropout{len(layer_sizes) - 2}']\n",
        "        self.layer_dict[f'activation{len(layer_sizes) - 2}'] = nn.Softmax(1)\n",
        "\n",
        "        self.network = nn.Sequential(self.layer_dict) \n",
        "\n",
        "    \n",
        "    def forward(self, input):\n",
        "\n",
        "        '''\n",
        "        The forward pass remains the same, and looks very clean :)\n",
        "        '''\n",
        "        input = input.view(-1, self.layer_sizes[0])\n",
        "        # Switch from activation maps to vectors\n",
        "        x = self.network(input)\n",
        "        return x\n",
        "    \n",
        "    # This function maps the network on the device that is passed as argument.\n",
        "    # If your device doesn't have a GPU, it set device='cpu'.\n",
        "    def set_device(self, device):\n",
        "        self.device = device\n",
        "        self.to(self.device)\n",
        "    \n",
        "    # This function trains the model on the data passed as arguments.        \n",
        "\n",
        "\n",
        "    def fit(self, mnist_train_loader, num_epochs=1, mnist_valid_loader=None):\n",
        "        train_loss_history = []\n",
        "        train_acc_history = []\n",
        "        valid_loss_history = []\n",
        "        valid_acc_history = []\n",
        "        \n",
        "        for epoch in range(num_epochs):\n",
        "            \n",
        "            self.train() # Set to the training mode.\n",
        "            iter_loss = 0\n",
        "            iter_acc = 0\n",
        "            for i, (items, classes) in enumerate(mnist_train_loader):\n",
        "                items = Variable(items).to(self.device)\n",
        "                classes = Variable(classes).to(self.device)\n",
        "\n",
        "                self.optimizer.zero_grad()     # Clear off the gradients from any past operation\n",
        "                outputs = self.forward(items)      # Do the forward pass\n",
        "                loss = self.criterion(outputs, classes) # Calculate the loss\n",
        "                loss.backward()           # Calculate the gradients with help of back propagation\n",
        "                self.optimizer.step()          # Ask the optimizer to adjust the parameters based on the gradients\n",
        "                iter_loss += loss.data # Accumulate the loss\n",
        "                iter_acc += (torch.max(outputs.data, 1)[1] == classes.data).sum()\n",
        "                print(\"\\r\", i + 1, \"/\", len(mnist_train_loader), \", Loss: \", loss.data/len(items), end=\"\")\n",
        "            train_loss_history += [iter_loss.cpu().detach().numpy()]\n",
        "            train_acc_history += [(iter_acc/len(mnist_train_loader.dataset)).cpu().detach().numpy()]\n",
        "            print(\"\\tTrain: \", train_loss_history[-1], train_acc_history[-1], end=\"\")\n",
        "            \n",
        "            self.eval() # Set to the evaluation mode.\n",
        "            iter_loss = 0\n",
        "            iter_acc = 0\n",
        "            for i, (items, classes) in enumerate(mnist_valid_loader):\n",
        "                items = Variable(items).to(self.device)\n",
        "                classes = Variable(classes).to(self.device)\n",
        "\n",
        "                outputs = self(items)      # Do the forward pass\n",
        "                iter_loss += self.criterion(outputs, classes).data\n",
        "                iter_acc += (torch.max(outputs.data, 1)[1] == classes.data).sum()\n",
        "            valid_loss_history += [iter_loss.cpu().detach().numpy()]\n",
        "            valid_acc_history += [(iter_acc/len(mnist_valid_loader.dataset)).cpu().detach().numpy()]\n",
        "            print(\"\\tValidation: \", valid_loss_history[-1], valid_acc_history[-1])\n",
        "        \n",
        "        return train_loss_history, train_acc_history, valid_loss_history, valid_acc_history\n",
        "\n"
      ],
      "metadata": {
        "id": "l0Vt8c3RRslf"
      },
      "execution_count": null,
      "outputs": []
    },
    {
      "cell_type": "markdown",
      "source": [
        "## The `mnist_loader()` function"
      ],
      "metadata": {
        "id": "XgZJlp8VTUIQ"
      }
    },
    {
      "cell_type": "code",
      "source": [
        "def mnist_loader(batch_size=512, classes=None):\n",
        "    transform=transforms.Compose([transforms.ToTensor()])\n",
        "    mnist_train = datasets.FashionMNIST('./data', train=True, download=True, transform=transform)\n",
        "    mnist_valid = datasets.FashionMNIST('./data', train=False, download=True, transform=transform)\n",
        "    \n",
        "    # Select the classes which you want to train the classifier on.\n",
        "    if classes is not None:\n",
        "        mnist_train_idx = (mnist_train.targets == -1)\n",
        "        mnist_valid_idx = (mnist_valid.targets == -1)\n",
        "        for class_num in classes:\n",
        "            mnist_train_idx |= (mnist_train.targets == class_num)\n",
        "            mnist_valid_idx |= (mnist_valid.targets == class_num) \n",
        "        \n",
        "        mnist_train.targets = mnist_train.targets[mnist_train_idx]\n",
        "        mnist_valid.targets = mnist_valid.targets[mnist_valid_idx]\n",
        "        mnist_train.data = mnist_train.data[mnist_train_idx]\n",
        "        mnist_valid.data = mnist_valid.data[mnist_valid_idx]\n",
        "    \n",
        "    mnist_train_loader = torch.utils.data.DataLoader(mnist_train, batch_size=batch_size, shuffle=True, num_workers=1)\n",
        "    mnist_valid_loader = torch.utils.data.DataLoader(mnist_valid, batch_size=batch_size, shuffle=True, num_workers=1)\n",
        "    return mnist_train_loader, mnist_valid_loader"
      ],
      "metadata": {
        "id": "DHtP4O4eTfjR"
      },
      "execution_count": null,
      "outputs": []
    },
    {
      "cell_type": "markdown",
      "source": [
        "## Setting the device"
      ],
      "metadata": {
        "id": "HX_5x-sdT0AL"
      }
    },
    {
      "cell_type": "code",
      "source": [
        "device = torch.device(\"cuda:0\" if torch.cuda.is_available() else \"cpu\")\n",
        "print(device)"
      ],
      "metadata": {
        "colab": {
          "base_uri": "https://localhost:8080/"
        },
        "id": "vrH9ASbZT1lv",
        "outputId": "241a0340-925b-4f96-db87-89f816a67263"
      },
      "execution_count": null,
      "outputs": [
        {
          "output_type": "stream",
          "name": "stdout",
          "text": [
            "cuda:0\n"
          ]
        }
      ]
    },
    {
      "cell_type": "markdown",
      "source": [
        "## A. Number of Parameters"
      ],
      "metadata": {
        "id": "-vt9uA79PXMf"
      }
    },
    {
      "cell_type": "code",
      "source": [
        "model = MNIST_MLP(layer_sizes=[784, 392, 196, 49, 25, 10], activation='relu')\n",
        "\n",
        "product = 1\n",
        "for l in model.layer_sizes:\n",
        "    product = product * l\n",
        "\n",
        "print(product)"
      ],
      "metadata": {
        "colab": {
          "base_uri": "https://localhost:8080/"
        },
        "id": "QNgbgH57Pav2",
        "outputId": "60b9ebfc-faa4-4146-9dab-51394269b4c8"
      },
      "execution_count": null,
      "outputs": [
        {
          "output_type": "stream",
          "name": "stdout",
          "text": [
            "737894528000\n"
          ]
        }
      ]
    },
    {
      "cell_type": "markdown",
      "source": [
        "## B. Running the model\n",
        "\n",
        " 1. Without dropout"
      ],
      "metadata": {
        "id": "B5wF0x7eUDAG"
      }
    },
    {
      "cell_type": "code",
      "source": [
        "batch_size = 512\n",
        "mnist_train_loader, mnist_valid_loader = mnist_loader(batch_size=batch_size)\n",
        "model.set_device(device)\n",
        "# Our loss function and Optimizer\n",
        "\n",
        "model.criterion = nn.CrossEntropyLoss()\n",
        "model.optimizer = torch.optim.Adam(model.parameters(), lr=0.0001) #lr is the learning_rate\n",
        "# Train model for 20 epochs\n",
        "tlh, tah, vlh, vah = model.fit(mnist_train_loader, num_epochs=20, mnist_valid_loader=mnist_valid_loader)\n",
        "\n",
        "plt.figure()\n",
        "plt.plot(tah, label='Train Accuracy')\n",
        "plt.plot(vah, label='Validation Accuracy')\n",
        "plt.legend()\n",
        "plt.ylabel('Accuracy')\n",
        "plt.xlabel('Epochs')\n",
        "plt.tight_layout()\n",
        "plt.savefig('PartB_accuracy')\n",
        "\n",
        "plt.figure()\n",
        "plt.plot(tlh, label='Train Loss')\n",
        "plt.plot(vlh, label='Validation Loss')\n",
        "plt.legend()\n",
        "plt.ylabel('Loss')\n",
        "plt.xlabel('Epochs')\n",
        "plt.tight_layout()\n",
        "plt.savefig('PartB_Loss')"
      ],
      "metadata": {
        "colab": {
          "base_uri": "https://localhost:8080/",
          "height": 1000,
          "referenced_widgets": [
            "fdd3f0c7c4a841cb9dc2ae57cc88fd39",
            "6e6f256b8f6c4a5393286b9af5b4ed1d",
            "1509ff537fae499bbe941e8500f05b51",
            "a5456ca3a76640f4a824c6062dd4dcf5",
            "6193d5a160604d628849958c64c4f17b",
            "9a99d617865347a38dfb7bd0ecc4da04",
            "840619fb78394e0892063ce55093294d",
            "b90dbe5fc94446e683969e177321f7fa",
            "649c5a2f2d6741c0955f9b98187e7bc5",
            "74e00aa273cb461c9d76b780548f2e90",
            "9485a5ba7e654e11acd0516696a897db",
            "0ff2181423634eac97bf50fe562b50bd",
            "9a8d963613b24e8cbcca7f8f809577a5",
            "7e3a5800f43c4521ad74f259c163fb8f",
            "61f546c60b3d498aab15983fb9301d6b",
            "e5aa937c037b46129e08c9c4f2318aac",
            "402059797e5c40fbb0602b96f4684b10",
            "9f6b1a47e2ab4fd4a216dbbb02d214a3",
            "54484ed3d2dc4a59a817a0ef714b0bb7",
            "e6385bb9e519485b8973a1e78714a83c",
            "fee4e392152648b1931932722c316120",
            "43d5efdcbdc148dbb24987b34ff3db24",
            "fd53957737a347f5aeb974d5125906f1",
            "bf54fc93b52f444388dda5c88f854133",
            "c746a26e379d4364ad1dc19581f9605f",
            "c98a36bb345742289c23e058014f3e1a",
            "9d3a2d01fe5748beac53843bc564753f",
            "7fa08918ea2c4086b4a550fffa54a48a",
            "b36260cc883f42849b0210f573f0ce91",
            "2c2df0c750e0469d8c8a737d41672c59",
            "3f32d85e738c4dbb801f9328e95ecce1",
            "c478d4842d66421abfd4793b4a3058f0",
            "0a578ceb646e46d4a38bd94f468023ef",
            "740d926000f84a68af51282d0e0c6438",
            "ab53880cf1ec422a8c61e24a75ddd312",
            "d8be58e2d45d4d6eb922b1640c41290e",
            "04e345c1477f4649b878c43c24f8235d",
            "1455482e58b242f58fa030fa45d5b7f8",
            "1ab49fcdf51e45ec99a968396212495d",
            "3c0b75fb2c0845c68fa4e3374ffdeb36",
            "ce7c0e36a0d045b48ffbd087b34305b2",
            "f686688cd5de47c5b8db287a2b82ad96",
            "5244796b812a4ee39179dc250167306a",
            "de8a66a819a9480888901f711bb030d0"
          ]
        },
        "id": "ES0f3zcsUBUT",
        "outputId": "025c19db-480f-42d4-c375-311baf292707"
      },
      "execution_count": null,
      "outputs": [
        {
          "output_type": "stream",
          "name": "stdout",
          "text": [
            "Downloading http://fashion-mnist.s3-website.eu-central-1.amazonaws.com/train-images-idx3-ubyte.gz\n",
            "Downloading http://fashion-mnist.s3-website.eu-central-1.amazonaws.com/train-images-idx3-ubyte.gz to ./data/FashionMNIST/raw/train-images-idx3-ubyte.gz\n"
          ]
        },
        {
          "output_type": "display_data",
          "data": {
            "text/plain": [
              "  0%|          | 0/26421880 [00:00<?, ?it/s]"
            ],
            "application/vnd.jupyter.widget-view+json": {
              "version_major": 2,
              "version_minor": 0,
              "model_id": "fdd3f0c7c4a841cb9dc2ae57cc88fd39"
            }
          },
          "metadata": {}
        },
        {
          "output_type": "stream",
          "name": "stdout",
          "text": [
            "Extracting ./data/FashionMNIST/raw/train-images-idx3-ubyte.gz to ./data/FashionMNIST/raw\n",
            "\n",
            "Downloading http://fashion-mnist.s3-website.eu-central-1.amazonaws.com/train-labels-idx1-ubyte.gz\n",
            "Downloading http://fashion-mnist.s3-website.eu-central-1.amazonaws.com/train-labels-idx1-ubyte.gz to ./data/FashionMNIST/raw/train-labels-idx1-ubyte.gz\n"
          ]
        },
        {
          "output_type": "display_data",
          "data": {
            "text/plain": [
              "  0%|          | 0/29515 [00:00<?, ?it/s]"
            ],
            "application/vnd.jupyter.widget-view+json": {
              "version_major": 2,
              "version_minor": 0,
              "model_id": "0ff2181423634eac97bf50fe562b50bd"
            }
          },
          "metadata": {}
        },
        {
          "output_type": "stream",
          "name": "stdout",
          "text": [
            "Extracting ./data/FashionMNIST/raw/train-labels-idx1-ubyte.gz to ./data/FashionMNIST/raw\n",
            "\n",
            "Downloading http://fashion-mnist.s3-website.eu-central-1.amazonaws.com/t10k-images-idx3-ubyte.gz\n",
            "Downloading http://fashion-mnist.s3-website.eu-central-1.amazonaws.com/t10k-images-idx3-ubyte.gz to ./data/FashionMNIST/raw/t10k-images-idx3-ubyte.gz\n"
          ]
        },
        {
          "output_type": "display_data",
          "data": {
            "text/plain": [
              "  0%|          | 0/4422102 [00:00<?, ?it/s]"
            ],
            "application/vnd.jupyter.widget-view+json": {
              "version_major": 2,
              "version_minor": 0,
              "model_id": "fd53957737a347f5aeb974d5125906f1"
            }
          },
          "metadata": {}
        },
        {
          "output_type": "stream",
          "name": "stdout",
          "text": [
            "Extracting ./data/FashionMNIST/raw/t10k-images-idx3-ubyte.gz to ./data/FashionMNIST/raw\n",
            "\n",
            "Downloading http://fashion-mnist.s3-website.eu-central-1.amazonaws.com/t10k-labels-idx1-ubyte.gz\n",
            "Downloading http://fashion-mnist.s3-website.eu-central-1.amazonaws.com/t10k-labels-idx1-ubyte.gz to ./data/FashionMNIST/raw/t10k-labels-idx1-ubyte.gz\n"
          ]
        },
        {
          "output_type": "display_data",
          "data": {
            "text/plain": [
              "  0%|          | 0/5148 [00:00<?, ?it/s]"
            ],
            "application/vnd.jupyter.widget-view+json": {
              "version_major": 2,
              "version_minor": 0,
              "model_id": "740d926000f84a68af51282d0e0c6438"
            }
          },
          "metadata": {}
        },
        {
          "output_type": "stream",
          "name": "stdout",
          "text": [
            "Extracting ./data/FashionMNIST/raw/t10k-labels-idx1-ubyte.gz to ./data/FashionMNIST/raw\n",
            "\n",
            " 118 / 118 , Loss:  tensor(0.0209, device='cuda:0')\tTrain:  263.37326 0.3438\tValidation:  41.14199 0.45279998\n",
            " 118 / 118 , Loss:  tensor(0.0193, device='cuda:0')\tTrain:  228.92891 0.5611\tValidation:  37.332226 0.6164\n",
            " 118 / 118 , Loss:  tensor(0.0189, device='cuda:0')\tTrain:  217.87805 0.62808335\tValidation:  36.836807 0.6271\n",
            " 118 / 118 , Loss:  tensor(0.0180, device='cuda:0')\tTrain:  216.13303 0.63490003\tValidation:  36.628162 0.6344\n",
            " 118 / 118 , Loss:  tensor(0.0185, device='cuda:0')\tTrain:  215.34198 0.6393667\tValidation:  36.54187 0.63629997\n",
            " 118 / 118 , Loss:  tensor(0.0189, device='cuda:0')\tTrain:  213.92853 0.6469833\tValidation:  36.089146 0.655\n",
            " 118 / 118 , Loss:  tensor(0.0187, device='cuda:0')\tTrain:  210.0538 0.69715\tValidation:  35.319324 0.7206\n",
            " 118 / 118 , Loss:  tensor(0.0179, device='cuda:0')\tTrain:  205.80109 0.7363667\tValidation:  34.795647 0.7362\n",
            " 118 / 118 , Loss:  tensor(0.0175, device='cuda:0')\tTrain:  203.46825 0.75075\tValidation:  34.495407 0.747\n",
            " 118 / 118 , Loss:  tensor(0.0178, device='cuda:0')\tTrain:  202.15749 0.75878334\tValidation:  34.294556 0.75659996\n",
            " 118 / 118 , Loss:  tensor(0.0170, device='cuda:0')\tTrain:  201.20938 0.76493335\tValidation:  34.200516 0.76019996\n",
            " 118 / 118 , Loss:  tensor(0.0179, device='cuda:0')\tTrain:  200.56323 0.76968336\tValidation:  34.069042 0.766\n",
            " 118 / 118 , Loss:  tensor(0.0178, device='cuda:0')\tTrain:  200.01816 0.77295\tValidation:  34.01367 0.7672\n",
            " 118 / 118 , Loss:  tensor(0.0173, device='cuda:0')\tTrain:  199.54294 0.77585\tValidation:  33.980457 0.76769996\n",
            " 118 / 118 , Loss:  tensor(0.0168, device='cuda:0')\tTrain:  199.1433 0.77931666\tValidation:  33.939636 0.77\n",
            " 118 / 118 , Loss:  tensor(0.0172, device='cuda:0')\tTrain:  198.97293 0.7793667\tValidation:  33.89829 0.7682\n",
            " 118 / 118 , Loss:  tensor(0.0169, device='cuda:0')\tTrain:  198.68083 0.78178334\tValidation:  33.845352 0.7725\n",
            " 118 / 118 , Loss:  tensor(0.0170, device='cuda:0')\tTrain:  198.52513 0.7831333\tValidation:  33.835423 0.7718\n",
            " 118 / 118 , Loss:  tensor(0.0176, device='cuda:0')\tTrain:  198.3535 0.78426665\tValidation:  33.817696 0.77199996\n",
            " 118 / 118 , Loss:  tensor(0.0179, device='cuda:0')\tTrain:  198.23013 0.78525\tValidation:  33.77496 0.7751\n"
          ]
        },
        {
          "output_type": "display_data",
          "data": {
            "text/plain": [
              "<Figure size 432x288 with 1 Axes>"
            ],
            "image/png": "[encoded data removed]"
          },
          "metadata": {
            "needs_background": "light"
          }
        },
        {
          "output_type": "display_data",
          "data": {
            "text/plain": [
              "<Figure size 432x288 with 1 Axes>"
            ],
            "image/png": "[encoded data removed]"
          },
          "metadata": {
            "needs_background": "light"
          }
        }
      ]
    },
    {
      "cell_type": "markdown",
      "source": [
        "about 78% - 80% accuracy reported here."
      ],
      "metadata": {
        "id": "yFTLVJ5RswLE"
      }
    },
    {
      "cell_type": "markdown",
      "source": [
        "2. Further training.."
      ],
      "metadata": {
        "id": "LGx9pIPaPNhM"
      }
    },
    {
      "cell_type": "code",
      "source": [
        "model.criterion = nn.CrossEntropyLoss()\n",
        "model.optimizer = torch.optim.Adam(model.parameters(), lr=0.0001) #lr is the learning_rate\n",
        "model.fit(mnist_train_loader, num_epochs=40, mnist_valid_loader=mnist_valid_loader)\n",
        "tlh, tah, vlh, vah = model.fit(mnist_train_loader, num_epochs=5, mnist_valid_loader=mnist_valid_loader)\n",
        "\n",
        "plt.figure()\n",
        "plt.plot(tah, label='Train Accuracy')\n",
        "plt.plot(vah, label='Validation Accuracy')\n",
        "plt.legend()\n",
        "plt.ylabel('Accuracy')\n",
        "plt.xlabel('Epochs')\n",
        "plt.tight_layout()\n",
        "plt.savefig('PartB_accuracy')\n",
        "\n",
        "plt.figure()\n",
        "plt.plot(tlh, label='Train Loss')\n",
        "# plt.plot(vlh, label='Validation Loss')\n",
        "plt.legend()\n",
        "plt.ylabel('Loss')\n",
        "plt.xlabel('Epochs')\n",
        "plt.tight_layout()\n",
        "plt.savefig('PartB_Loss')\n",
        "\n",
        "plt.figure()\n",
        "# plt.plot(tlh, label='Train Loss')\n",
        "plt.plot(vlh, label='Validation Loss')\n",
        "plt.legend()\n",
        "plt.ylabel('Loss')\n",
        "plt.xlabel('Epochs')\n",
        "plt.tight_layout()\n",
        "plt.savefig('PartB_Loss')"
      ],
      "metadata": {
        "id": "BpZ9mF9rO-XL",
        "colab": {
          "base_uri": "https://localhost:8080/",
          "height": 1000
        },
        "outputId": "d2f9b8b1-f096-45dd-db29-e212fd200077"
      },
      "execution_count": null,
      "outputs": [
        {
          "output_type": "stream",
          "name": "stdout",
          "text": [
            " 118 / 118 , Loss:  tensor(0.0178, device='cuda:0')\tTrain:  198.01396 0.7866667\tValidation:  33.773453 0.7743\n",
            " 118 / 118 , Loss:  tensor(0.0170, device='cuda:0')\tTrain:  197.7906 0.788\tValidation:  33.73998 0.7772\n",
            " 118 / 118 , Loss:  tensor(0.0163, device='cuda:0')\tTrain:  197.57086 0.78903335\tValidation:  33.68575 0.77849996\n",
            " 118 / 118 , Loss:  tensor(0.0169, device='cuda:0')\tTrain:  197.45232 0.7912667\tValidation:  33.690197 0.77849996\n",
            " 118 / 118 , Loss:  tensor(0.0172, device='cuda:0')\tTrain:  197.323 0.79193336\tValidation:  33.66306 0.7797\n",
            " 118 / 118 , Loss:  tensor(0.0171, device='cuda:0')\tTrain:  197.1448 0.79358333\tValidation:  33.666424 0.7801\n",
            " 118 / 118 , Loss:  tensor(0.0169, device='cuda:0')\tTrain:  197.08745 0.7939\tValidation:  33.6285 0.7805\n",
            " 118 / 118 , Loss:  tensor(0.0177, device='cuda:0')\tTrain:  196.98618 0.7949833\tValidation:  33.641983 0.7808\n",
            " 118 / 118 , Loss:  tensor(0.0175, device='cuda:0')\tTrain:  196.8226 0.79620004\tValidation:  33.596966 0.7823\n",
            " 118 / 118 , Loss:  tensor(0.0176, device='cuda:0')\tTrain:  196.73584 0.7969667\tValidation:  33.600956 0.783\n",
            " 118 / 118 , Loss:  tensor(0.0176, device='cuda:0')\tTrain:  196.69838 0.7968\tValidation:  33.590473 0.7833\n",
            " 118 / 118 , Loss:  tensor(0.0169, device='cuda:0')\tTrain:  196.4976 0.79833335\tValidation:  33.584595 0.78429997\n",
            " 118 / 118 , Loss:  tensor(0.0169, device='cuda:0')\tTrain:  196.45288 0.79903334\tValidation:  33.603146 0.78279996\n",
            " 118 / 118 , Loss:  tensor(0.0177, device='cuda:0')\tTrain:  196.40794 0.7992833\tValidation:  33.55889 0.7845\n",
            " 118 / 118 , Loss:  tensor(0.0168, device='cuda:0')\tTrain:  196.24503 0.80011666\tValidation:  33.550667 0.7852\n",
            " 118 / 118 , Loss:  tensor(0.0176, device='cuda:0')\tTrain:  196.22337 0.8003\tValidation:  33.496075 0.78779995\n",
            " 118 / 118 , Loss:  tensor(0.0165, device='cuda:0')\tTrain:  196.01205 0.8020667\tValidation:  33.528896 0.7838\n",
            " 118 / 118 , Loss:  tensor(0.0169, device='cuda:0')\tTrain:  196.02534 0.8020667\tValidation:  33.509068 0.7877\n",
            " 118 / 118 , Loss:  tensor(0.0176, device='cuda:0')\tTrain:  195.9378 0.80366665\tValidation:  33.483387 0.7883\n",
            " 118 / 118 , Loss:  tensor(0.0175, device='cuda:0')\tTrain:  195.82114 0.80453336\tValidation:  33.48134 0.7887\n",
            " 118 / 118 , Loss:  tensor(0.0173, device='cuda:0')\tTrain:  195.82367 0.80366665\tValidation:  33.461666 0.78849995\n",
            " 118 / 118 , Loss:  tensor(0.0170, device='cuda:0')\tTrain:  195.79196 0.80341667\tValidation:  33.415485 0.791\n",
            " 118 / 118 , Loss:  tensor(0.0169, device='cuda:0')\tTrain:  195.74142 0.8043\tValidation:  33.436306 0.79139996\n",
            " 118 / 118 , Loss:  tensor(0.0174, device='cuda:0')\tTrain:  195.55191 0.8070667\tValidation:  33.45415 0.7891\n",
            " 118 / 118 , Loss:  tensor(0.0178, device='cuda:0')\tTrain:  195.52374 0.8070667\tValidation:  33.423244 0.79179996\n",
            " 118 / 118 , Loss:  tensor(0.0176, device='cuda:0')\tTrain:  195.50465 0.807\tValidation:  33.42204 0.79209995\n",
            " 118 / 118 , Loss:  tensor(0.0173, device='cuda:0')\tTrain:  195.36969 0.8079167\tValidation:  33.39771 0.791\n",
            " 118 / 118 , Loss:  tensor(0.0172, device='cuda:0')\tTrain:  195.30319 0.80840003\tValidation:  33.369545 0.79389995\n",
            " 118 / 118 , Loss:  tensor(0.0166, device='cuda:0')\tTrain:  195.14354 0.8096833\tValidation:  33.37794 0.7935\n",
            " 118 / 118 , Loss:  tensor(0.0174, device='cuda:0')\tTrain:  195.16711 0.8099\tValidation:  33.39321 0.79249996\n",
            " 118 / 118 , Loss:  tensor(0.0182, device='cuda:0')\tTrain:  195.23228 0.8099667\tValidation:  33.33902 0.7945\n",
            " 118 / 118 , Loss:  tensor(0.0173, device='cuda:0')\tTrain:  195.0969 0.80993336\tValidation:  33.399677 0.7923\n",
            " 118 / 118 , Loss:  tensor(0.0169, device='cuda:0')\tTrain:  194.98175 0.81123334\tValidation:  33.335835 0.7951\n",
            " 118 / 118 , Loss:  tensor(0.0168, device='cuda:0')\tTrain:  194.9095 0.81191665\tValidation:  33.333096 0.7952\n",
            " 118 / 118 , Loss:  tensor(0.0166, device='cuda:0')\tTrain:  194.88814 0.81155\tValidation:  33.38647 0.79209995\n",
            " 118 / 118 , Loss:  tensor(0.0169, device='cuda:0')\tTrain:  194.81746 0.81233335\tValidation:  33.351017 0.79399997\n",
            " 118 / 118 , Loss:  tensor(0.0176, device='cuda:0')\tTrain:  194.78267 0.81313336\tValidation:  33.30803 0.7967\n",
            " 118 / 118 , Loss:  tensor(0.0170, device='cuda:0')\tTrain:  194.73698 0.8128\tValidation:  33.347927 0.796\n",
            " 118 / 118 , Loss:  tensor(0.0174, device='cuda:0')\tTrain:  194.66139 0.81413335\tValidation:  33.34067 0.7951\n",
            " 118 / 118 , Loss:  tensor(0.0171, device='cuda:0')\tTrain:  194.7038 0.8131\tValidation:  33.32308 0.7971\n",
            " 118 / 118 , Loss:  tensor(0.0172, device='cuda:0')\tTrain:  194.57768 0.8146167\tValidation:  33.30688 0.7966\n",
            " 118 / 118 , Loss:  tensor(0.0170, device='cuda:0')\tTrain:  194.51405 0.8153167\tValidation:  33.308784 0.79609996\n",
            " 118 / 118 , Loss:  tensor(0.0169, device='cuda:0')\tTrain:  194.40099 0.816\tValidation:  33.304897 0.7955\n",
            " 118 / 118 , Loss:  tensor(0.0169, device='cuda:0')\tTrain:  194.39114 0.81588334\tValidation:  33.2598 0.7976\n",
            " 118 / 118 , Loss:  tensor(0.0167, device='cuda:0')\tTrain:  194.32692 0.81675\tValidation:  33.29959 0.7974\n"
          ]
        },
        {
          "output_type": "display_data",
          "data": {
            "text/plain": [
              "<Figure size 432x288 with 1 Axes>"
            ],
            "image/png": "[encoded data removed]"
          },
          "metadata": {
            "needs_background": "light"
          }
        },
        {
          "output_type": "display_data",
          "data": {
            "text/plain": [
              "<Figure size 432x288 with 1 Axes>"
            ],
            "image/png": "[encoded data removed]"
          },
          "metadata": {
            "needs_background": "light"
          }
        },
        {
          "output_type": "display_data",
          "data": {
            "text/plain": [
              "<Figure size 432x288 with 1 Axes>"
            ],
            "image/png": "[encoded data removed]"
          },
          "metadata": {
            "needs_background": "light"
          }
        }
      ]
    },
    {
      "cell_type": "markdown",
      "source": [
        "These are signs of overfitting, where training accuracy is going up but validation loss is erratic."
      ],
      "metadata": {
        "id": "rxIVauols4iN"
      }
    },
    {
      "cell_type": "markdown",
      "source": [
        "3. With dropout\n",
        "\n"
      ],
      "metadata": {
        "id": "C7H5-hDPPG9K"
      }
    },
    {
      "cell_type": "code",
      "source": [
        "batch_size = 512\n",
        "mnist_train_loader, mnist_valid_loader = mnist_loader(batch_size=batch_size)\n",
        "\n",
        "\n",
        "\n",
        "drops = [0.2, 0.4, 0.5]\n",
        "figure = plt.figure(figsize=(12, 12))\n",
        "rows, cols = (3,3)\n",
        "for i, d in enumerate(drops):\n",
        "    print(f'\\n drop = {d}')\n",
        "    model_drop = MNIST_MLP(layer_sizes=[784, 392, 196, 49, 25, 10], activation='relu', drop = d)\n",
        "    model_drop.set_device(device)\n",
        "    # Our loss function and Optimizer\n",
        "\n",
        "    model_drop.criterion = nn.CrossEntropyLoss()\n",
        "    model_drop.optimizer = torch.optim.Adam(model_drop.parameters(), lr=0.0001) #lr is the learning_rate\n",
        "    # Train model for 20 epochs\n",
        "    tlh, tah, vlh, vah = model_drop.fit(mnist_train_loader, num_epochs=20, mnist_valid_loader=mnist_valid_loader)\n",
        "\n",
        "    figure.add_subplot(rows,cols, cols*i + 1)\n",
        "    \n",
        "    plt.title(f'Accuracy with dropout = {d}')\n",
        "    plt.plot(tah, label='Train Accuracy')\n",
        "    plt.plot(vah, label='Validation Accuracy')\n",
        "    plt.legend()\n",
        "    plt.ylabel('Accuracy')\n",
        "    plt.xlabel('Epochs')\n",
        "    plt.tight_layout()\n",
        "\n",
        "\n",
        "    figure.add_subplot(rows,cols, cols*i + 2)\n",
        "\n",
        "    plt.title(f'Training Loss with dropout = {d}')\n",
        "    plt.plot(tlh, label='Train Loss')\n",
        "    # plt.plot(vlh, label='Validation Loss')\n",
        "    plt.legend()\n",
        "    plt.ylabel('Loss')\n",
        "    plt.xlabel('Epochs')\n",
        "    plt.tight_layout()\n",
        "\n",
        "    figure.add_subplot(rows,cols, cols*i + 3)\n",
        "\n",
        "    plt.title(f'Training Loss with dropout = {d}')\n",
        "    # plt.plot(tlh, label='Train Loss')\n",
        "    plt.plot(vlh, label='Validation Loss')\n",
        "    plt.legend()\n",
        "    plt.ylabel('Loss')\n",
        "    plt.xlabel('Epochs')\n",
        "    plt.tight_layout()\n",
        "\n",
        "plt.show()\n",
        "\n",
        "\n"
      ],
      "metadata": {
        "colab": {
          "base_uri": "https://localhost:8080/",
          "height": 1000
        },
        "id": "S-h_0gro5cN_",
        "outputId": "09ce02f2-79c2-4fd7-9f22-71417639766f"
      },
      "execution_count": null,
      "outputs": [
        {
          "output_type": "stream",
          "name": "stdout",
          "text": [
            "\n",
            " drop = 0.2\n",
            " 118 / 118 , Loss:  tensor(0.0214, device='cuda:0')\tTrain:  261.94424 0.27625\tValidation:  40.825066 0.5003\n",
            " 118 / 118 , Loss:  tensor(0.0198, device='cuda:0')\tTrain:  232.28758 0.5212833\tValidation:  37.799007 0.57809997\n",
            " 118 / 118 , Loss:  tensor(0.0190, device='cuda:0')\tTrain:  218.35342 0.63285\tValidation:  35.761288 0.6768\n",
            " 118 / 118 , Loss:  tensor(0.0182, device='cuda:0')\tTrain:  211.28653 0.6849667\tValidation:  35.100643 0.7227\n",
            " 118 / 118 , Loss:  tensor(0.0183, device='cuda:0')\tTrain:  207.26321 0.72693336\tValidation:  34.422176 0.7572\n",
            " 118 / 118 , Loss:  tensor(0.0181, device='cuda:0')\tTrain:  204.26593 0.7478\tValidation:  34.069233 0.76989996\n",
            " 118 / 118 , Loss:  tensor(0.0178, device='cuda:0')\tTrain:  202.40997 0.7594167\tValidation:  33.82787 0.777\n",
            " 118 / 118 , Loss:  tensor(0.0173, device='cuda:0')\tTrain:  201.09203 0.7683\tValidation:  33.70569 0.7813\n",
            " 118 / 118 , Loss:  tensor(0.0178, device='cuda:0')\tTrain:  200.27446 0.7737\tValidation:  33.674904 0.783\n",
            " 118 / 118 , Loss:  tensor(0.0177, device='cuda:0')\tTrain:  199.59326 0.7785\tValidation:  33.549355 0.7869\n",
            " 118 / 118 , Loss:  tensor(0.0169, device='cuda:0')\tTrain:  198.73132 0.78431666\tValidation:  33.498817 0.7894\n",
            " 118 / 118 , Loss:  tensor(0.0175, device='cuda:0')\tTrain:  198.36464 0.78711665\tValidation:  33.470825 0.79139996\n",
            " 118 / 118 , Loss:  tensor(0.0179, device='cuda:0')\tTrain:  198.09322 0.78905\tValidation:  33.416874 0.79319996\n",
            " 118 / 118 , Loss:  tensor(0.0172, device='cuda:0')\tTrain:  197.66621 0.79216665\tValidation:  33.41359 0.7926\n",
            " 118 / 118 , Loss:  tensor(0.0181, device='cuda:0')\tTrain:  197.35237 0.79476666\tValidation:  33.323376 0.79639995\n",
            " 118 / 118 , Loss:  tensor(0.0180, device='cuda:0')\tTrain:  197.0632 0.7966667\tValidation:  33.317863 0.7967\n",
            " 118 / 118 , Loss:  tensor(0.0170, device='cuda:0')\tTrain:  196.62917 0.79918337\tValidation:  33.29037 0.7991\n",
            " 118 / 118 , Loss:  tensor(0.0171, device='cuda:0')\tTrain:  196.4601 0.80025\tValidation:  33.23683 0.7998\n",
            " 118 / 118 , Loss:  tensor(0.0170, device='cuda:0')\tTrain:  196.23978 0.80230004\tValidation:  33.298565 0.79749995\n",
            " 118 / 118 , Loss:  tensor(0.0168, device='cuda:0')\tTrain:  196.00427 0.80345\tValidation:  33.229893 0.8005\n",
            "\n",
            " drop = 0.4\n",
            " 118 / 118 , Loss:  tensor(0.0229, device='cuda:0')\tTrain:  267.061 0.20805\tValidation:  42.65704 0.4649\n",
            " 118 / 118 , Loss:  tensor(0.0199, device='cuda:0')\tTrain:  242.2875 0.44128335\tValidation:  38.261707 0.55289996\n",
            " 118 / 118 , Loss:  tensor(0.0210, device='cuda:0')\tTrain:  230.39304 0.5286667\tValidation:  36.876232 0.6264\n",
            " 118 / 118 , Loss:  tensor(0.0191, device='cuda:0')\tTrain:  223.542 0.5891667\tValidation:  35.955803 0.6849\n",
            " 118 / 118 , Loss:  tensor(0.0185, device='cuda:0')\tTrain:  217.68315 0.64198333\tValidation:  35.25864 0.7114\n",
            " 118 / 118 , Loss:  tensor(0.0186, device='cuda:0')\tTrain:  214.41492 0.6641833\tValidation:  35.040756 0.7186\n",
            " 118 / 118 , Loss:  tensor(0.0186, device='cuda:0')\tTrain:  212.3023 0.67863333\tValidation:  34.90812 0.7191\n",
            " 118 / 118 , Loss:  tensor(0.0186, device='cuda:0')\tTrain:  211.07451 0.68588334\tValidation:  34.830612 0.7223\n",
            " 118 / 118 , Loss:  tensor(0.0183, device='cuda:0')\tTrain:  210.09683 0.6911167\tValidation:  34.78416 0.7236\n",
            " 118 / 118 , Loss:  tensor(0.0183, device='cuda:0')\tTrain:  209.42148 0.6958167\tValidation:  34.727077 0.7254\n",
            " 118 / 118 , Loss:  tensor(0.0191, device='cuda:0')\tTrain:  209.06349 0.6979\tValidation:  34.69325 0.7277\n",
            " 118 / 118 , Loss:  tensor(0.0184, device='cuda:0')\tTrain:  208.41144 0.70316666\tValidation:  34.654762 0.7295\n",
            " 118 / 118 , Loss:  tensor(0.0174, device='cuda:0')\tTrain:  207.71408 0.70708334\tValidation:  34.535286 0.7331\n",
            " 118 / 118 , Loss:  tensor(0.0182, device='cuda:0')\tTrain:  206.81337 0.7158833\tValidation:  34.1509 0.7539\n",
            " 118 / 118 , Loss:  tensor(0.0189, device='cuda:0')\tTrain:  205.71466 0.72555\tValidation:  34.09573 0.7553\n",
            " 118 / 118 , Loss:  tensor(0.0180, device='cuda:0')\tTrain:  205.0857 0.7306833\tValidation:  34.045177 0.75949997\n",
            " 118 / 118 , Loss:  tensor(0.0178, device='cuda:0')\tTrain:  204.34077 0.73548335\tValidation:  33.998966 0.7607\n",
            " 118 / 118 , Loss:  tensor(0.0184, device='cuda:0')\tTrain:  204.1227 0.73791665\tValidation:  33.9723 0.76229995\n",
            " 118 / 118 , Loss:  tensor(0.0183, device='cuda:0')\tTrain:  203.60324 0.7419\tValidation:  33.960075 0.7654\n",
            " 118 / 118 , Loss:  tensor(0.0177, device='cuda:0')\tTrain:  203.11568 0.74521667\tValidation:  33.927742 0.7657\n",
            "\n",
            " drop = 0.5\n",
            " 118 / 118 , Loss:  tensor(0.0225, device='cuda:0')\tTrain:  265.91907 0.21916667\tValidation:  42.426277 0.4195\n",
            " 118 / 118 , Loss:  tensor(0.0215, device='cuda:0')\tTrain:  244.06125 0.41403332\tValidation:  38.424744 0.5606\n",
            " 118 / 118 , Loss:  tensor(0.0200, device='cuda:0')\tTrain:  232.40268 0.50485003\tValidation:  37.12969 0.61079997\n",
            " 118 / 118 , Loss:  tensor(0.0204, device='cuda:0')\tTrain:  226.45326 0.55755\tValidation:  36.342636 0.6536\n",
            " 118 / 118 , Loss:  tensor(0.0196, device='cuda:0')\tTrain:  221.78093 0.5969667\tValidation:  35.13143 0.72249997\n",
            " 118 / 118 , Loss:  tensor(0.0188, device='cuda:0')\tTrain:  215.40356 0.65395004\tValidation:  34.31849 0.755\n",
            " 118 / 118 , Loss:  tensor(0.0181, device='cuda:0')\tTrain:  211.12274 0.68731666\tValidation:  34.072193 0.76199996\n",
            " 118 / 118 , Loss:  tensor(0.0187, device='cuda:0')\tTrain:  208.91814 0.7044167\tValidation:  33.898685 0.76909995\n",
            " 118 / 118 , Loss:  tensor(0.0187, device='cuda:0')\tTrain:  207.25502 0.71755\tValidation:  33.79236 0.7725\n",
            " 118 / 118 , Loss:  tensor(0.0175, device='cuda:0')\tTrain:  206.1187 0.7266667\tValidation:  33.695263 0.7779\n",
            " 118 / 118 , Loss:  tensor(0.0192, device='cuda:0')\tTrain:  205.47122 0.73123336\tValidation:  33.609596 0.7798\n",
            " 118 / 118 , Loss:  tensor(0.0188, device='cuda:0')\tTrain:  204.37927 0.73946667\tValidation:  33.40698 0.7923\n",
            " 118 / 118 , Loss:  tensor(0.0182, device='cuda:0')\tTrain:  203.745 0.74543333\tValidation:  33.346878 0.7962\n",
            " 118 / 118 , Loss:  tensor(0.0179, device='cuda:0')\tTrain:  202.76805 0.7529167\tValidation:  33.198368 0.8041\n",
            " 118 / 118 , Loss:  tensor(0.0174, device='cuda:0')\tTrain:  202.45319 0.75553334\tValidation:  33.15855 0.8059\n",
            " 118 / 118 , Loss:  tensor(0.0175, device='cuda:0')\tTrain:  201.81207 0.76133335\tValidation:  33.10234 0.80789995\n",
            " 118 / 118 , Loss:  tensor(0.0176, device='cuda:0')\tTrain:  201.42155 0.7641\tValidation:  33.08769 0.8085\n",
            " 118 / 118 , Loss:  tensor(0.0176, device='cuda:0')\tTrain:  200.87532 0.76776665\tValidation:  33.02297 0.8125\n",
            " 118 / 118 , Loss:  tensor(0.0178, device='cuda:0')\tTrain:  200.33815 0.77368337\tValidation:  32.976727 0.8127\n",
            " 118 / 118 , Loss:  tensor(0.0180, device='cuda:0')\tTrain:  200.17012 0.77388334\tValidation:  33.00245 0.8111\n"
          ]
        },
        {
          "output_type": "display_data",
          "data": {
            "text/plain": [
              "<Figure size 864x864 with 9 Axes>"
            ],
            "image/png": "[encoded data removed]"
          },
          "metadata": {
            "needs_background": "light"
          }
        }
      ]
    },
    {
      "cell_type": "markdown",
      "source": [
        "The models consistantly reach 80% and above accuracies. With dropout, training time must increase to compensate for the regularization methods. Therefor dropout gives us very good model accuracies."
      ],
      "metadata": {
        "id": "2vhK5TagvhYc"
      }
    },
    {
      "cell_type": "markdown",
      "source": [
        "4. Visualizing the output\n",
        "\n",
        "The titles indicate the labels in the following order:\n",
        "- MLP (without dropout)\n",
        "- MLP (dropout = 0.5)\n",
        "- truth"
      ],
      "metadata": {
        "id": "bdjmSvOpRuIo"
      }
    },
    {
      "cell_type": "code",
      "source": [
        "import numpy as np\n",
        "transform=transforms.Compose([transforms.ToTensor()])\n",
        "training_data = datasets.FashionMNIST('./data', train=True, download=True, transform=transform)\n",
        "\n",
        "\n",
        "\n",
        "\n",
        "labels_map = {\n",
        "    0: \"T-Shirt\",\n",
        "    1: \"Trouser\",\n",
        "    2: \"Pullover\",\n",
        "    3: \"Dress\",\n",
        "    4: \"Coat\",\n",
        "    5: \"Sandal\",\n",
        "    6: \"Shirt\",\n",
        "    7: \"Sneaker\",\n",
        "    8: \"Bag\",\n",
        "    9: \"Ankle Boot\",\n",
        "}\n",
        "figure = plt.figure(figsize=(12, 12))\n",
        "cols, rows = 5, 3\n",
        "for i in range(1, cols * rows + 1):\n",
        "    sample_idx = torch.randint(len(training_data), size=(1,)).item()\n",
        "    img, label = training_data[sample_idx]\n",
        "    img = Variable(img).to(device)\n",
        "    \n",
        "    output = model(img)\n",
        "    output_drop = model_drop(img)\n",
        "\n",
        "    output = output.cpu().detach().numpy()\n",
        "    output_drop = output_drop.cpu().detach().numpy()\n",
        "\n",
        "    figure.add_subplot(rows, cols, i)\n",
        "    plt.title(f'{labels_map[label]}\\n{labels_map[np.argmax(output)]}\\n{labels_map[np.argmax(output_drop)]}')\n",
        "    plt.axis(\"off\")\n",
        "    plt.imshow(img.cpu().detach().numpy().squeeze(), cmap=\"gray\")\n",
        "plt.show()\n"
      ],
      "metadata": {
        "id": "ky2KookkRt01",
        "colab": {
          "base_uri": "https://localhost:8080/",
          "height": 653
        },
        "outputId": "9e9a658e-a1ad-4e89-8e17-3373599d498a"
      },
      "execution_count": null,
      "outputs": [
        {
          "output_type": "display_data",
          "data": {
            "text/plain": [
              "<Figure size 864x864 with 15 Axes>"
            ],
            "image/png": "[encoded data removed]"
          },
          "metadata": {
            "needs_background": "light"
          }
        }
      ]
    }
  ]
}