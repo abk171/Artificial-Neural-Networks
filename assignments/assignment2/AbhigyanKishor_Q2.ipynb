{
  "nbformat": 4,
  "nbformat_minor": 0,
  "metadata": {
    "colab": {
      "provenance": [],
      "authorship_tag": "ABX9TyPpyPqjyZpnAIcbmsNUBKcn",
      "include_colab_link": true
    },
    "kernelspec": {
      "name": "python3",
      "display_name": "Python 3"
    },
    "language_info": {
      "name": "python"
    },
    "accelerator": "GPU",
    "gpuClass": "standard",
    "widgets": {
      "application/vnd.jupyter.widget-state+json": {
        "f1f43e1a2b444a73b165ec52db4c1981": {
          "model_module": "@jupyter-widgets/controls",
          "model_name": "HBoxModel",
          "model_module_version": "1.5.0",
          "state": {
            "_dom_classes": [],
            "_model_module": "@jupyter-widgets/controls",
            "_model_module_version": "1.5.0",
            "_model_name": "HBoxModel",
            "_view_count": null,
            "_view_module": "@jupyter-widgets/controls",
            "_view_module_version": "1.5.0",
            "_view_name": "HBoxView",
            "box_style": "",
            "children": [
              "IPY_MODEL_4b9a6d9c3d2849ee82fd7ece429693d8",
              "IPY_MODEL_30c1d971d4124ea6bef966f6b33ac87c",
              "IPY_MODEL_db550f732ba24e88a36221cc0dcd09c4"
            ],
            "layout": "IPY_MODEL_1827fb1d58404d45837726fc85d20409"
          }
        },
        "4b9a6d9c3d2849ee82fd7ece429693d8": {
          "model_module": "@jupyter-widgets/controls",
          "model_name": "HTMLModel",
          "model_module_version": "1.5.0",
          "state": {
            "_dom_classes": [],
            "_model_module": "@jupyter-widgets/controls",
            "_model_module_version": "1.5.0",
            "_model_name": "HTMLModel",
            "_view_count": null,
            "_view_module": "@jupyter-widgets/controls",
            "_view_module_version": "1.5.0",
            "_view_name": "HTMLView",
            "description": "",
            "description_tooltip": null,
            "layout": "IPY_MODEL_53e8caee87a8494c9ae6aced8ae8bc3f",
            "placeholder": "​",
            "style": "IPY_MODEL_3f47afe99294470c8bda925e04a2ae21",
            "value": "100%"
          }
        },
        "30c1d971d4124ea6bef966f6b33ac87c": {
          "model_module": "@jupyter-widgets/controls",
          "model_name": "FloatProgressModel",
          "model_module_version": "1.5.0",
          "state": {
            "_dom_classes": [],
            "_model_module": "@jupyter-widgets/controls",
            "_model_module_version": "1.5.0",
            "_model_name": "FloatProgressModel",
            "_view_count": null,
            "_view_module": "@jupyter-widgets/controls",
            "_view_module_version": "1.5.0",
            "_view_name": "ProgressView",
            "bar_style": "success",
            "description": "",
            "description_tooltip": null,
            "layout": "IPY_MODEL_220c645e16784f2d9c40077355a32f50",
            "max": 26421880,
            "min": 0,
            "orientation": "horizontal",
            "style": "IPY_MODEL_d082493e55c34bd988f336e6b093847c",
            "value": 26421880
          }
        },
        "db550f732ba24e88a36221cc0dcd09c4": {
          "model_module": "@jupyter-widgets/controls",
          "model_name": "HTMLModel",
          "model_module_version": "1.5.0",
          "state": {
            "_dom_classes": [],
            "_model_module": "@jupyter-widgets/controls",
            "_model_module_version": "1.5.0",
            "_model_name": "HTMLModel",
            "_view_count": null,
            "_view_module": "@jupyter-widgets/controls",
            "_view_module_version": "1.5.0",
            "_view_name": "HTMLView",
            "description": "",
            "description_tooltip": null,
            "layout": "IPY_MODEL_3fcda11c667743a4be9e10a555c29fec",
            "placeholder": "​",
            "style": "IPY_MODEL_d74e20fc442b4f8c98c18afb33a9b4ce",
            "value": " 26421880/26421880 [00:01&lt;00:00, 28719928.12it/s]"
          }
        },
        "1827fb1d58404d45837726fc85d20409": {
          "model_module": "@jupyter-widgets/base",
          "model_name": "LayoutModel",
          "model_module_version": "1.2.0",
          "state": {
            "_model_module": "@jupyter-widgets/base",
            "_model_module_version": "1.2.0",
            "_model_name": "LayoutModel",
            "_view_count": null,
            "_view_module": "@jupyter-widgets/base",
            "_view_module_version": "1.2.0",
            "_view_name": "LayoutView",
            "align_content": null,
            "align_items": null,
            "align_self": null,
            "border": null,
            "bottom": null,
            "display": null,
            "flex": null,
            "flex_flow": null,
            "grid_area": null,
            "grid_auto_columns": null,
            "grid_auto_flow": null,
            "grid_auto_rows": null,
            "grid_column": null,
            "grid_gap": null,
            "grid_row": null,
            "grid_template_areas": null,
            "grid_template_columns": null,
            "grid_template_rows": null,
            "height": null,
            "justify_content": null,
            "justify_items": null,
            "left": null,
            "margin": null,
            "max_height": null,
            "max_width": null,
            "min_height": null,
            "min_width": null,
            "object_fit": null,
            "object_position": null,
            "order": null,
            "overflow": null,
            "overflow_x": null,
            "overflow_y": null,
            "padding": null,
            "right": null,
            "top": null,
            "visibility": null,
            "width": null
          }
        },
        "53e8caee87a8494c9ae6aced8ae8bc3f": {
          "model_module": "@jupyter-widgets/base",
          "model_name": "LayoutModel",
          "model_module_version": "1.2.0",
          "state": {
            "_model_module": "@jupyter-widgets/base",
            "_model_module_version": "1.2.0",
            "_model_name": "LayoutModel",
            "_view_count": null,
            "_view_module": "@jupyter-widgets/base",
            "_view_module_version": "1.2.0",
            "_view_name": "LayoutView",
            "align_content": null,
            "align_items": null,
            "align_self": null,
            "border": null,
            "bottom": null,
            "display": null,
            "flex": null,
            "flex_flow": null,
            "grid_area": null,
            "grid_auto_columns": null,
            "grid_auto_flow": null,
            "grid_auto_rows": null,
            "grid_column": null,
            "grid_gap": null,
            "grid_row": null,
            "grid_template_areas": null,
            "grid_template_columns": null,
            "grid_template_rows": null,
            "height": null,
            "justify_content": null,
            "justify_items": null,
            "left": null,
            "margin": null,
            "max_height": null,
            "max_width": null,
            "min_height": null,
            "min_width": null,
            "object_fit": null,
            "object_position": null,
            "order": null,
            "overflow": null,
            "overflow_x": null,
            "overflow_y": null,
            "padding": null,
            "right": null,
            "top": null,
            "visibility": null,
            "width": null
          }
        },
        "3f47afe99294470c8bda925e04a2ae21": {
          "model_module": "@jupyter-widgets/controls",
          "model_name": "DescriptionStyleModel",
          "model_module_version": "1.5.0",
          "state": {
            "_model_module": "@jupyter-widgets/controls",
            "_model_module_version": "1.5.0",
            "_model_name": "DescriptionStyleModel",
            "_view_count": null,
            "_view_module": "@jupyter-widgets/base",
            "_view_module_version": "1.2.0",
            "_view_name": "StyleView",
            "description_width": ""
          }
        },
        "220c645e16784f2d9c40077355a32f50": {
          "model_module": "@jupyter-widgets/base",
          "model_name": "LayoutModel",
          "model_module_version": "1.2.0",
          "state": {
            "_model_module": "@jupyter-widgets/base",
            "_model_module_version": "1.2.0",
            "_model_name": "LayoutModel",
            "_view_count": null,
            "_view_module": "@jupyter-widgets/base",
            "_view_module_version": "1.2.0",
            "_view_name": "LayoutView",
            "align_content": null,
            "align_items": null,
            "align_self": null,
            "border": null,
            "bottom": null,
            "display": null,
            "flex": null,
            "flex_flow": null,
            "grid_area": null,
            "grid_auto_columns": null,
            "grid_auto_flow": null,
            "grid_auto_rows": null,
            "grid_column": null,
            "grid_gap": null,
            "grid_row": null,
            "grid_template_areas": null,
            "grid_template_columns": null,
            "grid_template_rows": null,
            "height": null,
            "justify_content": null,
            "justify_items": null,
            "left": null,
            "margin": null,
            "max_height": null,
            "max_width": null,
            "min_height": null,
            "min_width": null,
            "object_fit": null,
            "object_position": null,
            "order": null,
            "overflow": null,
            "overflow_x": null,
            "overflow_y": null,
            "padding": null,
            "right": null,
            "top": null,
            "visibility": null,
            "width": null
          }
        },
        "d082493e55c34bd988f336e6b093847c": {
          "model_module": "@jupyter-widgets/controls",
          "model_name": "ProgressStyleModel",
          "model_module_version": "1.5.0",
          "state": {
            "_model_module": "@jupyter-widgets/controls",
            "_model_module_version": "1.5.0",
            "_model_name": "ProgressStyleModel",
            "_view_count": null,
            "_view_module": "@jupyter-widgets/base",
            "_view_module_version": "1.2.0",
            "_view_name": "StyleView",
            "bar_color": null,
            "description_width": ""
          }
        },
        "3fcda11c667743a4be9e10a555c29fec": {
          "model_module": "@jupyter-widgets/base",
          "model_name": "LayoutModel",
          "model_module_version": "1.2.0",
          "state": {
            "_model_module": "@jupyter-widgets/base",
            "_model_module_version": "1.2.0",
            "_model_name": "LayoutModel",
            "_view_count": null,
            "_view_module": "@jupyter-widgets/base",
            "_view_module_version": "1.2.0",
            "_view_name": "LayoutView",
            "align_content": null,
            "align_items": null,
            "align_self": null,
            "border": null,
            "bottom": null,
            "display": null,
            "flex": null,
            "flex_flow": null,
            "grid_area": null,
            "grid_auto_columns": null,
            "grid_auto_flow": null,
            "grid_auto_rows": null,
            "grid_column": null,
            "grid_gap": null,
            "grid_row": null,
            "grid_template_areas": null,
            "grid_template_columns": null,
            "grid_template_rows": null,
            "height": null,
            "justify_content": null,
            "justify_items": null,
            "left": null,
            "margin": null,
            "max_height": null,
            "max_width": null,
            "min_height": null,
            "min_width": null,
            "object_fit": null,
            "object_position": null,
            "order": null,
            "overflow": null,
            "overflow_x": null,
            "overflow_y": null,
            "padding": null,
            "right": null,
            "top": null,
            "visibility": null,
            "width": null
          }
        },
        "d74e20fc442b4f8c98c18afb33a9b4ce": {
          "model_module": "@jupyter-widgets/controls",
          "model_name": "DescriptionStyleModel",
          "model_module_version": "1.5.0",
          "state": {
            "_model_module": "@jupyter-widgets/controls",
            "_model_module_version": "1.5.0",
            "_model_name": "DescriptionStyleModel",
            "_view_count": null,
            "_view_module": "@jupyter-widgets/base",
            "_view_module_version": "1.2.0",
            "_view_name": "StyleView",
            "description_width": ""
          }
        },
        "891b1aacfd9f43449d1cf6134e16734c": {
          "model_module": "@jupyter-widgets/controls",
          "model_name": "HBoxModel",
          "model_module_version": "1.5.0",
          "state": {
            "_dom_classes": [],
            "_model_module": "@jupyter-widgets/controls",
            "_model_module_version": "1.5.0",
            "_model_name": "HBoxModel",
            "_view_count": null,
            "_view_module": "@jupyter-widgets/controls",
            "_view_module_version": "1.5.0",
            "_view_name": "HBoxView",
            "box_style": "",
            "children": [
              "IPY_MODEL_87bb017876264a9d8936e7b3fafe131c",
              "IPY_MODEL_453faa34e271484292a82d2854d22d1d",
              "IPY_MODEL_47af7cc939404cd8be9385f7bb9053ee"
            ],
            "layout": "IPY_MODEL_7301236934ab4428b754b37e4a332768"
          }
        },
        "87bb017876264a9d8936e7b3fafe131c": {
          "model_module": "@jupyter-widgets/controls",
          "model_name": "HTMLModel",
          "model_module_version": "1.5.0",
          "state": {
            "_dom_classes": [],
            "_model_module": "@jupyter-widgets/controls",
            "_model_module_version": "1.5.0",
            "_model_name": "HTMLModel",
            "_view_count": null,
            "_view_module": "@jupyter-widgets/controls",
            "_view_module_version": "1.5.0",
            "_view_name": "HTMLView",
            "description": "",
            "description_tooltip": null,
            "layout": "IPY_MODEL_d7737030c2fa4098aeaedbacfef72063",
            "placeholder": "​",
            "style": "IPY_MODEL_41079e10ca4e4e0e9ed4d40cbacec59d",
            "value": "100%"
          }
        },
        "453faa34e271484292a82d2854d22d1d": {
          "model_module": "@jupyter-widgets/controls",
          "model_name": "FloatProgressModel",
          "model_module_version": "1.5.0",
          "state": {
            "_dom_classes": [],
            "_model_module": "@jupyter-widgets/controls",
            "_model_module_version": "1.5.0",
            "_model_name": "FloatProgressModel",
            "_view_count": null,
            "_view_module": "@jupyter-widgets/controls",
            "_view_module_version": "1.5.0",
            "_view_name": "ProgressView",
            "bar_style": "success",
            "description": "",
            "description_tooltip": null,
            "layout": "IPY_MODEL_87d017cfb12c489ab19ce7523c965e16",
            "max": 29515,
            "min": 0,
            "orientation": "horizontal",
            "style": "IPY_MODEL_48f67dc793d442f8afc3e9c0f474d191",
            "value": 29515
          }
        },
        "47af7cc939404cd8be9385f7bb9053ee": {
          "model_module": "@jupyter-widgets/controls",
          "model_name": "HTMLModel",
          "model_module_version": "1.5.0",
          "state": {
            "_dom_classes": [],
            "_model_module": "@jupyter-widgets/controls",
            "_model_module_version": "1.5.0",
            "_model_name": "HTMLModel",
            "_view_count": null,
            "_view_module": "@jupyter-widgets/controls",
            "_view_module_version": "1.5.0",
            "_view_name": "HTMLView",
            "description": "",
            "description_tooltip": null,
            "layout": "IPY_MODEL_6993578ac1534552bc4942d202fb1165",
            "placeholder": "​",
            "style": "IPY_MODEL_91409ca46ddb4ff68aea7234d8cc6e8f",
            "value": " 29515/29515 [00:00&lt;00:00, 296145.13it/s]"
          }
        },
        "7301236934ab4428b754b37e4a332768": {
          "model_module": "@jupyter-widgets/base",
          "model_name": "LayoutModel",
          "model_module_version": "1.2.0",
          "state": {
            "_model_module": "@jupyter-widgets/base",
            "_model_module_version": "1.2.0",
            "_model_name": "LayoutModel",
            "_view_count": null,
            "_view_module": "@jupyter-widgets/base",
            "_view_module_version": "1.2.0",
            "_view_name": "LayoutView",
            "align_content": null,
            "align_items": null,
            "align_self": null,
            "border": null,
            "bottom": null,
            "display": null,
            "flex": null,
            "flex_flow": null,
            "grid_area": null,
            "grid_auto_columns": null,
            "grid_auto_flow": null,
            "grid_auto_rows": null,
            "grid_column": null,
            "grid_gap": null,
            "grid_row": null,
            "grid_template_areas": null,
            "grid_template_columns": null,
            "grid_template_rows": null,
            "height": null,
            "justify_content": null,
            "justify_items": null,
            "left": null,
            "margin": null,
            "max_height": null,
            "max_width": null,
            "min_height": null,
            "min_width": null,
            "object_fit": null,
            "object_position": null,
            "order": null,
            "overflow": null,
            "overflow_x": null,
            "overflow_y": null,
            "padding": null,
            "right": null,
            "top": null,
            "visibility": null,
            "width": null
          }
        },
        "d7737030c2fa4098aeaedbacfef72063": {
          "model_module": "@jupyter-widgets/base",
          "model_name": "LayoutModel",
          "model_module_version": "1.2.0",
          "state": {
            "_model_module": "@jupyter-widgets/base",
            "_model_module_version": "1.2.0",
            "_model_name": "LayoutModel",
            "_view_count": null,
            "_view_module": "@jupyter-widgets/base",
            "_view_module_version": "1.2.0",
            "_view_name": "LayoutView",
            "align_content": null,
            "align_items": null,
            "align_self": null,
            "border": null,
            "bottom": null,
            "display": null,
            "flex": null,
            "flex_flow": null,
            "grid_area": null,
            "grid_auto_columns": null,
            "grid_auto_flow": null,
            "grid_auto_rows": null,
            "grid_column": null,
            "grid_gap": null,
            "grid_row": null,
            "grid_template_areas": null,
            "grid_template_columns": null,
            "grid_template_rows": null,
            "height": null,
            "justify_content": null,
            "justify_items": null,
            "left": null,
            "margin": null,
            "max_height": null,
            "max_width": null,
            "min_height": null,
            "min_width": null,
            "object_fit": null,
            "object_position": null,
            "order": null,
            "overflow": null,
            "overflow_x": null,
            "overflow_y": null,
            "padding": null,
            "right": null,
            "top": null,
            "visibility": null,
            "width": null
          }
        },
        "41079e10ca4e4e0e9ed4d40cbacec59d": {
          "model_module": "@jupyter-widgets/controls",
          "model_name": "DescriptionStyleModel",
          "model_module_version": "1.5.0",
          "state": {
            "_model_module": "@jupyter-widgets/controls",
            "_model_module_version": "1.5.0",
            "_model_name": "DescriptionStyleModel",
            "_view_count": null,
            "_view_module": "@jupyter-widgets/base",
            "_view_module_version": "1.2.0",
            "_view_name": "StyleView",
            "description_width": ""
          }
        },
        "87d017cfb12c489ab19ce7523c965e16": {
          "model_module": "@jupyter-widgets/base",
          "model_name": "LayoutModel",
          "model_module_version": "1.2.0",
          "state": {
            "_model_module": "@jupyter-widgets/base",
            "_model_module_version": "1.2.0",
            "_model_name": "LayoutModel",
            "_view_count": null,
            "_view_module": "@jupyter-widgets/base",
            "_view_module_version": "1.2.0",
            "_view_name": "LayoutView",
            "align_content": null,
            "align_items": null,
            "align_self": null,
            "border": null,
            "bottom": null,
            "display": null,
            "flex": null,
            "flex_flow": null,
            "grid_area": null,
            "grid_auto_columns": null,
            "grid_auto_flow": null,
            "grid_auto_rows": null,
            "grid_column": null,
            "grid_gap": null,
            "grid_row": null,
            "grid_template_areas": null,
            "grid_template_columns": null,
            "grid_template_rows": null,
            "height": null,
            "justify_content": null,
            "justify_items": null,
            "left": null,
            "margin": null,
            "max_height": null,
            "max_width": null,
            "min_height": null,
            "min_width": null,
            "object_fit": null,
            "object_position": null,
            "order": null,
            "overflow": null,
            "overflow_x": null,
            "overflow_y": null,
            "padding": null,
            "right": null,
            "top": null,
            "visibility": null,
            "width": null
          }
        },
        "48f67dc793d442f8afc3e9c0f474d191": {
          "model_module": "@jupyter-widgets/controls",
          "model_name": "ProgressStyleModel",
          "model_module_version": "1.5.0",
          "state": {
            "_model_module": "@jupyter-widgets/controls",
            "_model_module_version": "1.5.0",
            "_model_name": "ProgressStyleModel",
            "_view_count": null,
            "_view_module": "@jupyter-widgets/base",
            "_view_module_version": "1.2.0",
            "_view_name": "StyleView",
            "bar_color": null,
            "description_width": ""
          }
        },
        "6993578ac1534552bc4942d202fb1165": {
          "model_module": "@jupyter-widgets/base",
          "model_name": "LayoutModel",
          "model_module_version": "1.2.0",
          "state": {
            "_model_module": "@jupyter-widgets/base",
            "_model_module_version": "1.2.0",
            "_model_name": "LayoutModel",
            "_view_count": null,
            "_view_module": "@jupyter-widgets/base",
            "_view_module_version": "1.2.0",
            "_view_name": "LayoutView",
            "align_content": null,
            "align_items": null,
            "align_self": null,
            "border": null,
            "bottom": null,
            "display": null,
            "flex": null,
            "flex_flow": null,
            "grid_area": null,
            "grid_auto_columns": null,
            "grid_auto_flow": null,
            "grid_auto_rows": null,
            "grid_column": null,
            "grid_gap": null,
            "grid_row": null,
            "grid_template_areas": null,
            "grid_template_columns": null,
            "grid_template_rows": null,
            "height": null,
            "justify_content": null,
            "justify_items": null,
            "left": null,
            "margin": null,
            "max_height": null,
            "max_width": null,
            "min_height": null,
            "min_width": null,
            "object_fit": null,
            "object_position": null,
            "order": null,
            "overflow": null,
            "overflow_x": null,
            "overflow_y": null,
            "padding": null,
            "right": null,
            "top": null,
            "visibility": null,
            "width": null
          }
        },
        "91409ca46ddb4ff68aea7234d8cc6e8f": {
          "model_module": "@jupyter-widgets/controls",
          "model_name": "DescriptionStyleModel",
          "model_module_version": "1.5.0",
          "state": {
            "_model_module": "@jupyter-widgets/controls",
            "_model_module_version": "1.5.0",
            "_model_name": "DescriptionStyleModel",
            "_view_count": null,
            "_view_module": "@jupyter-widgets/base",
            "_view_module_version": "1.2.0",
            "_view_name": "StyleView",
            "description_width": ""
          }
        },
        "a4624171acf646b0867c5f5380d8b479": {
          "model_module": "@jupyter-widgets/controls",
          "model_name": "HBoxModel",
          "model_module_version": "1.5.0",
          "state": {
            "_dom_classes": [],
            "_model_module": "@jupyter-widgets/controls",
            "_model_module_version": "1.5.0",
            "_model_name": "HBoxModel",
            "_view_count": null,
            "_view_module": "@jupyter-widgets/controls",
            "_view_module_version": "1.5.0",
            "_view_name": "HBoxView",
            "box_style": "",
            "children": [
              "IPY_MODEL_58f3313f9b794b05811955a4cda13ded",
              "IPY_MODEL_12cd45b5dfbf4282b33e798b9127c760",
              "IPY_MODEL_97c07555f6b84e62b1a476485600ac7f"
            ],
            "layout": "IPY_MODEL_6340489a0622419c8f3c889c875b06d4"
          }
        },
        "58f3313f9b794b05811955a4cda13ded": {
          "model_module": "@jupyter-widgets/controls",
          "model_name": "HTMLModel",
          "model_module_version": "1.5.0",
          "state": {
            "_dom_classes": [],
            "_model_module": "@jupyter-widgets/controls",
            "_model_module_version": "1.5.0",
            "_model_name": "HTMLModel",
            "_view_count": null,
            "_view_module": "@jupyter-widgets/controls",
            "_view_module_version": "1.5.0",
            "_view_name": "HTMLView",
            "description": "",
            "description_tooltip": null,
            "layout": "IPY_MODEL_4c6459e6eb174503b0f821103191c012",
            "placeholder": "​",
            "style": "IPY_MODEL_57d7fa76b7474921ab5a301ed6c80795",
            "value": "100%"
          }
        },
        "12cd45b5dfbf4282b33e798b9127c760": {
          "model_module": "@jupyter-widgets/controls",
          "model_name": "FloatProgressModel",
          "model_module_version": "1.5.0",
          "state": {
            "_dom_classes": [],
            "_model_module": "@jupyter-widgets/controls",
            "_model_module_version": "1.5.0",
            "_model_name": "FloatProgressModel",
            "_view_count": null,
            "_view_module": "@jupyter-widgets/controls",
            "_view_module_version": "1.5.0",
            "_view_name": "ProgressView",
            "bar_style": "success",
            "description": "",
            "description_tooltip": null,
            "layout": "IPY_MODEL_f99b20105f8645ecb517ebabbdfa31b0",
            "max": 4422102,
            "min": 0,
            "orientation": "horizontal",
            "style": "IPY_MODEL_6f949491cd854659b21f874066b2a9db",
            "value": 4422102
          }
        },
        "97c07555f6b84e62b1a476485600ac7f": {
          "model_module": "@jupyter-widgets/controls",
          "model_name": "HTMLModel",
          "model_module_version": "1.5.0",
          "state": {
            "_dom_classes": [],
            "_model_module": "@jupyter-widgets/controls",
            "_model_module_version": "1.5.0",
            "_model_name": "HTMLModel",
            "_view_count": null,
            "_view_module": "@jupyter-widgets/controls",
            "_view_module_version": "1.5.0",
            "_view_name": "HTMLView",
            "description": "",
            "description_tooltip": null,
            "layout": "IPY_MODEL_8fec1f2292d0463e983bc29776157cff",
            "placeholder": "​",
            "style": "IPY_MODEL_905a933697fe4aa38ef536b32170a951",
            "value": " 4422102/4422102 [00:00&lt;00:00, 8946656.60it/s]"
          }
        },
        "6340489a0622419c8f3c889c875b06d4": {
          "model_module": "@jupyter-widgets/base",
          "model_name": "LayoutModel",
          "model_module_version": "1.2.0",
          "state": {
            "_model_module": "@jupyter-widgets/base",
            "_model_module_version": "1.2.0",
            "_model_name": "LayoutModel",
            "_view_count": null,
            "_view_module": "@jupyter-widgets/base",
            "_view_module_version": "1.2.0",
            "_view_name": "LayoutView",
            "align_content": null,
            "align_items": null,
            "align_self": null,
            "border": null,
            "bottom": null,
            "display": null,
            "flex": null,
            "flex_flow": null,
            "grid_area": null,
            "grid_auto_columns": null,
            "grid_auto_flow": null,
            "grid_auto_rows": null,
            "grid_column": null,
            "grid_gap": null,
            "grid_row": null,
            "grid_template_areas": null,
            "grid_template_columns": null,
            "grid_template_rows": null,
            "height": null,
            "justify_content": null,
            "justify_items": null,
            "left": null,
            "margin": null,
            "max_height": null,
            "max_width": null,
            "min_height": null,
            "min_width": null,
            "object_fit": null,
            "object_position": null,
            "order": null,
            "overflow": null,
            "overflow_x": null,
            "overflow_y": null,
            "padding": null,
            "right": null,
            "top": null,
            "visibility": null,
            "width": null
          }
        },
        "4c6459e6eb174503b0f821103191c012": {
          "model_module": "@jupyter-widgets/base",
          "model_name": "LayoutModel",
          "model_module_version": "1.2.0",
          "state": {
            "_model_module": "@jupyter-widgets/base",
            "_model_module_version": "1.2.0",
            "_model_name": "LayoutModel",
            "_view_count": null,
            "_view_module": "@jupyter-widgets/base",
            "_view_module_version": "1.2.0",
            "_view_name": "LayoutView",
            "align_content": null,
            "align_items": null,
            "align_self": null,
            "border": null,
            "bottom": null,
            "display": null,
            "flex": null,
            "flex_flow": null,
            "grid_area": null,
            "grid_auto_columns": null,
            "grid_auto_flow": null,
            "grid_auto_rows": null,
            "grid_column": null,
            "grid_gap": null,
            "grid_row": null,
            "grid_template_areas": null,
            "grid_template_columns": null,
            "grid_template_rows": null,
            "height": null,
            "justify_content": null,
            "justify_items": null,
            "left": null,
            "margin": null,
            "max_height": null,
            "max_width": null,
            "min_height": null,
            "min_width": null,
            "object_fit": null,
            "object_position": null,
            "order": null,
            "overflow": null,
            "overflow_x": null,
            "overflow_y": null,
            "padding": null,
            "right": null,
            "top": null,
            "visibility": null,
            "width": null
          }
        },
        "57d7fa76b7474921ab5a301ed6c80795": {
          "model_module": "@jupyter-widgets/controls",
          "model_name": "DescriptionStyleModel",
          "model_module_version": "1.5.0",
          "state": {
            "_model_module": "@jupyter-widgets/controls",
            "_model_module_version": "1.5.0",
            "_model_name": "DescriptionStyleModel",
            "_view_count": null,
            "_view_module": "@jupyter-widgets/base",
            "_view_module_version": "1.2.0",
            "_view_name": "StyleView",
            "description_width": ""
          }
        },
        "f99b20105f8645ecb517ebabbdfa31b0": {
          "model_module": "@jupyter-widgets/base",
          "model_name": "LayoutModel",
          "model_module_version": "1.2.0",
          "state": {
            "_model_module": "@jupyter-widgets/base",
            "_model_module_version": "1.2.0",
            "_model_name": "LayoutModel",
            "_view_count": null,
            "_view_module": "@jupyter-widgets/base",
            "_view_module_version": "1.2.0",
            "_view_name": "LayoutView",
            "align_content": null,
            "align_items": null,
            "align_self": null,
            "border": null,
            "bottom": null,
            "display": null,
            "flex": null,
            "flex_flow": null,
            "grid_area": null,
            "grid_auto_columns": null,
            "grid_auto_flow": null,
            "grid_auto_rows": null,
            "grid_column": null,
            "grid_gap": null,
            "grid_row": null,
            "grid_template_areas": null,
            "grid_template_columns": null,
            "grid_template_rows": null,
            "height": null,
            "justify_content": null,
            "justify_items": null,
            "left": null,
            "margin": null,
            "max_height": null,
            "max_width": null,
            "min_height": null,
            "min_width": null,
            "object_fit": null,
            "object_position": null,
            "order": null,
            "overflow": null,
            "overflow_x": null,
            "overflow_y": null,
            "padding": null,
            "right": null,
            "top": null,
            "visibility": null,
            "width": null
          }
        },
        "6f949491cd854659b21f874066b2a9db": {
          "model_module": "@jupyter-widgets/controls",
          "model_name": "ProgressStyleModel",
          "model_module_version": "1.5.0",
          "state": {
            "_model_module": "@jupyter-widgets/controls",
            "_model_module_version": "1.5.0",
            "_model_name": "ProgressStyleModel",
            "_view_count": null,
            "_view_module": "@jupyter-widgets/base",
            "_view_module_version": "1.2.0",
            "_view_name": "StyleView",
            "bar_color": null,
            "description_width": ""
          }
        },
        "8fec1f2292d0463e983bc29776157cff": {
          "model_module": "@jupyter-widgets/base",
          "model_name": "LayoutModel",
          "model_module_version": "1.2.0",
          "state": {
            "_model_module": "@jupyter-widgets/base",
            "_model_module_version": "1.2.0",
            "_model_name": "LayoutModel",
            "_view_count": null,
            "_view_module": "@jupyter-widgets/base",
            "_view_module_version": "1.2.0",
            "_view_name": "LayoutView",
            "align_content": null,
            "align_items": null,
            "align_self": null,
            "border": null,
            "bottom": null,
            "display": null,
            "flex": null,
            "flex_flow": null,
            "grid_area": null,
            "grid_auto_columns": null,
            "grid_auto_flow": null,
            "grid_auto_rows": null,
            "grid_column": null,
            "grid_gap": null,
            "grid_row": null,
            "grid_template_areas": null,
            "grid_template_columns": null,
            "grid_template_rows": null,
            "height": null,
            "justify_content": null,
            "justify_items": null,
            "left": null,
            "margin": null,
            "max_height": null,
            "max_width": null,
            "min_height": null,
            "min_width": null,
            "object_fit": null,
            "object_position": null,
            "order": null,
            "overflow": null,
            "overflow_x": null,
            "overflow_y": null,
            "padding": null,
            "right": null,
            "top": null,
            "visibility": null,
            "width": null
          }
        },
        "905a933697fe4aa38ef536b32170a951": {
          "model_module": "@jupyter-widgets/controls",
          "model_name": "DescriptionStyleModel",
          "model_module_version": "1.5.0",
          "state": {
            "_model_module": "@jupyter-widgets/controls",
            "_model_module_version": "1.5.0",
            "_model_name": "DescriptionStyleModel",
            "_view_count": null,
            "_view_module": "@jupyter-widgets/base",
            "_view_module_version": "1.2.0",
            "_view_name": "StyleView",
            "description_width": ""
          }
        },
        "601f559a0d4e43bcb183ca91d023b758": {
          "model_module": "@jupyter-widgets/controls",
          "model_name": "HBoxModel",
          "model_module_version": "1.5.0",
          "state": {
            "_dom_classes": [],
            "_model_module": "@jupyter-widgets/controls",
            "_model_module_version": "1.5.0",
            "_model_name": "HBoxModel",
            "_view_count": null,
            "_view_module": "@jupyter-widgets/controls",
            "_view_module_version": "1.5.0",
            "_view_name": "HBoxView",
            "box_style": "",
            "children": [
              "IPY_MODEL_7dd8e7af73244192b1fa21319f4f87d6",
              "IPY_MODEL_6ec95f8728de4e6d84716cb45b4cee18",
              "IPY_MODEL_b9751287db5341c48c1e47bedaf9d60b"
            ],
            "layout": "IPY_MODEL_79d49a84e7f04377928f4c9aa623ac7a"
          }
        },
        "7dd8e7af73244192b1fa21319f4f87d6": {
          "model_module": "@jupyter-widgets/controls",
          "model_name": "HTMLModel",
          "model_module_version": "1.5.0",
          "state": {
            "_dom_classes": [],
            "_model_module": "@jupyter-widgets/controls",
            "_model_module_version": "1.5.0",
            "_model_name": "HTMLModel",
            "_view_count": null,
            "_view_module": "@jupyter-widgets/controls",
            "_view_module_version": "1.5.0",
            "_view_name": "HTMLView",
            "description": "",
            "description_tooltip": null,
            "layout": "IPY_MODEL_ac1cd4b5f6564e94a862b8e279c8c758",
            "placeholder": "​",
            "style": "IPY_MODEL_4ef84baee3294bddbce7d30d1291a901",
            "value": "100%"
          }
        },
        "6ec95f8728de4e6d84716cb45b4cee18": {
          "model_module": "@jupyter-widgets/controls",
          "model_name": "FloatProgressModel",
          "model_module_version": "1.5.0",
          "state": {
            "_dom_classes": [],
            "_model_module": "@jupyter-widgets/controls",
            "_model_module_version": "1.5.0",
            "_model_name": "FloatProgressModel",
            "_view_count": null,
            "_view_module": "@jupyter-widgets/controls",
            "_view_module_version": "1.5.0",
            "_view_name": "ProgressView",
            "bar_style": "success",
            "description": "",
            "description_tooltip": null,
            "layout": "IPY_MODEL_b16698d936f4478082a4b8f7169ed1c2",
            "max": 5148,
            "min": 0,
            "orientation": "horizontal",
            "style": "IPY_MODEL_a79de931994545b080e670da5119ee35",
            "value": 5148
          }
        },
        "b9751287db5341c48c1e47bedaf9d60b": {
          "model_module": "@jupyter-widgets/controls",
          "model_name": "HTMLModel",
          "model_module_version": "1.5.0",
          "state": {
            "_dom_classes": [],
            "_model_module": "@jupyter-widgets/controls",
            "_model_module_version": "1.5.0",
            "_model_name": "HTMLModel",
            "_view_count": null,
            "_view_module": "@jupyter-widgets/controls",
            "_view_module_version": "1.5.0",
            "_view_name": "HTMLView",
            "description": "",
            "description_tooltip": null,
            "layout": "IPY_MODEL_d3d5d0c02bc9470dad1dbdf0c19e57b6",
            "placeholder": "​",
            "style": "IPY_MODEL_db874a989292480abae6d48ea96e750f",
            "value": " 5148/5148 [00:00&lt;00:00, 74372.78it/s]"
          }
        },
        "79d49a84e7f04377928f4c9aa623ac7a": {
          "model_module": "@jupyter-widgets/base",
          "model_name": "LayoutModel",
          "model_module_version": "1.2.0",
          "state": {
            "_model_module": "@jupyter-widgets/base",
            "_model_module_version": "1.2.0",
            "_model_name": "LayoutModel",
            "_view_count": null,
            "_view_module": "@jupyter-widgets/base",
            "_view_module_version": "1.2.0",
            "_view_name": "LayoutView",
            "align_content": null,
            "align_items": null,
            "align_self": null,
            "border": null,
            "bottom": null,
            "display": null,
            "flex": null,
            "flex_flow": null,
            "grid_area": null,
            "grid_auto_columns": null,
            "grid_auto_flow": null,
            "grid_auto_rows": null,
            "grid_column": null,
            "grid_gap": null,
            "grid_row": null,
            "grid_template_areas": null,
            "grid_template_columns": null,
            "grid_template_rows": null,
            "height": null,
            "justify_content": null,
            "justify_items": null,
            "left": null,
            "margin": null,
            "max_height": null,
            "max_width": null,
            "min_height": null,
            "min_width": null,
            "object_fit": null,
            "object_position": null,
            "order": null,
            "overflow": null,
            "overflow_x": null,
            "overflow_y": null,
            "padding": null,
            "right": null,
            "top": null,
            "visibility": null,
            "width": null
          }
        },
        "ac1cd4b5f6564e94a862b8e279c8c758": {
          "model_module": "@jupyter-widgets/base",
          "model_name": "LayoutModel",
          "model_module_version": "1.2.0",
          "state": {
            "_model_module": "@jupyter-widgets/base",
            "_model_module_version": "1.2.0",
            "_model_name": "LayoutModel",
            "_view_count": null,
            "_view_module": "@jupyter-widgets/base",
            "_view_module_version": "1.2.0",
            "_view_name": "LayoutView",
            "align_content": null,
            "align_items": null,
            "align_self": null,
            "border": null,
            "bottom": null,
            "display": null,
            "flex": null,
            "flex_flow": null,
            "grid_area": null,
            "grid_auto_columns": null,
            "grid_auto_flow": null,
            "grid_auto_rows": null,
            "grid_column": null,
            "grid_gap": null,
            "grid_row": null,
            "grid_template_areas": null,
            "grid_template_columns": null,
            "grid_template_rows": null,
            "height": null,
            "justify_content": null,
            "justify_items": null,
            "left": null,
            "margin": null,
            "max_height": null,
            "max_width": null,
            "min_height": null,
            "min_width": null,
            "object_fit": null,
            "object_position": null,
            "order": null,
            "overflow": null,
            "overflow_x": null,
            "overflow_y": null,
            "padding": null,
            "right": null,
            "top": null,
            "visibility": null,
            "width": null
          }
        },
        "4ef84baee3294bddbce7d30d1291a901": {
          "model_module": "@jupyter-widgets/controls",
          "model_name": "DescriptionStyleModel",
          "model_module_version": "1.5.0",
          "state": {
            "_model_module": "@jupyter-widgets/controls",
            "_model_module_version": "1.5.0",
            "_model_name": "DescriptionStyleModel",
            "_view_count": null,
            "_view_module": "@jupyter-widgets/base",
            "_view_module_version": "1.2.0",
            "_view_name": "StyleView",
            "description_width": ""
          }
        },
        "b16698d936f4478082a4b8f7169ed1c2": {
          "model_module": "@jupyter-widgets/base",
          "model_name": "LayoutModel",
          "model_module_version": "1.2.0",
          "state": {
            "_model_module": "@jupyter-widgets/base",
            "_model_module_version": "1.2.0",
            "_model_name": "LayoutModel",
            "_view_count": null,
            "_view_module": "@jupyter-widgets/base",
            "_view_module_version": "1.2.0",
            "_view_name": "LayoutView",
            "align_content": null,
            "align_items": null,
            "align_self": null,
            "border": null,
            "bottom": null,
            "display": null,
            "flex": null,
            "flex_flow": null,
            "grid_area": null,
            "grid_auto_columns": null,
            "grid_auto_flow": null,
            "grid_auto_rows": null,
            "grid_column": null,
            "grid_gap": null,
            "grid_row": null,
            "grid_template_areas": null,
            "grid_template_columns": null,
            "grid_template_rows": null,
            "height": null,
            "justify_content": null,
            "justify_items": null,
            "left": null,
            "margin": null,
            "max_height": null,
            "max_width": null,
            "min_height": null,
            "min_width": null,
            "object_fit": null,
            "object_position": null,
            "order": null,
            "overflow": null,
            "overflow_x": null,
            "overflow_y": null,
            "padding": null,
            "right": null,
            "top": null,
            "visibility": null,
            "width": null
          }
        },
        "a79de931994545b080e670da5119ee35": {
          "model_module": "@jupyter-widgets/controls",
          "model_name": "ProgressStyleModel",
          "model_module_version": "1.5.0",
          "state": {
            "_model_module": "@jupyter-widgets/controls",
            "_model_module_version": "1.5.0",
            "_model_name": "ProgressStyleModel",
            "_view_count": null,
            "_view_module": "@jupyter-widgets/base",
            "_view_module_version": "1.2.0",
            "_view_name": "StyleView",
            "bar_color": null,
            "description_width": ""
          }
        },
        "d3d5d0c02bc9470dad1dbdf0c19e57b6": {
          "model_module": "@jupyter-widgets/base",
          "model_name": "LayoutModel",
          "model_module_version": "1.2.0",
          "state": {
            "_model_module": "@jupyter-widgets/base",
            "_model_module_version": "1.2.0",
            "_model_name": "LayoutModel",
            "_view_count": null,
            "_view_module": "@jupyter-widgets/base",
            "_view_module_version": "1.2.0",
            "_view_name": "LayoutView",
            "align_content": null,
            "align_items": null,
            "align_self": null,
            "border": null,
            "bottom": null,
            "display": null,
            "flex": null,
            "flex_flow": null,
            "grid_area": null,
            "grid_auto_columns": null,
            "grid_auto_flow": null,
            "grid_auto_rows": null,
            "grid_column": null,
            "grid_gap": null,
            "grid_row": null,
            "grid_template_areas": null,
            "grid_template_columns": null,
            "grid_template_rows": null,
            "height": null,
            "justify_content": null,
            "justify_items": null,
            "left": null,
            "margin": null,
            "max_height": null,
            "max_width": null,
            "min_height": null,
            "min_width": null,
            "object_fit": null,
            "object_position": null,
            "order": null,
            "overflow": null,
            "overflow_x": null,
            "overflow_y": null,
            "padding": null,
            "right": null,
            "top": null,
            "visibility": null,
            "width": null
          }
        },
        "db874a989292480abae6d48ea96e750f": {
          "model_module": "@jupyter-widgets/controls",
          "model_name": "DescriptionStyleModel",
          "model_module_version": "1.5.0",
          "state": {
            "_model_module": "@jupyter-widgets/controls",
            "_model_module_version": "1.5.0",
            "_model_name": "DescriptionStyleModel",
            "_view_count": null,
            "_view_module": "@jupyter-widgets/base",
            "_view_module_version": "1.2.0",
            "_view_name": "StyleView",
            "description_width": ""
          }
        }
      }
    }
  },
  "cells": [
    {
      "cell_type": "markdown",
      "metadata": {
        "id": "view-in-github",
        "colab_type": "text"
      },
      "source": [
        "<a href=\"https://colab.research.google.com/github/ak1909552/Artificial-Neural-Networks/blob/main/assignments/assignment2/AbhigyanKishor_Q2.ipynb\" target=\"_parent\"><img src=\"https://colab.research.google.com/assets/colab-badge.svg\" alt=\"Open In Colab\"/></a>"
      ]
    },
    {
      "cell_type": "markdown",
      "source": [
        "## Imports"
      ],
      "metadata": {
        "id": "cH7VAMQkwdbv"
      }
    },
    {
      "cell_type": "code",
      "execution_count": null,
      "metadata": {
        "id": "xHJP1gzBCA9t"
      },
      "outputs": [],
      "source": [
        "import torch\n",
        "import torch.nn as nn\n",
        "from torch.autograd import Variable\n",
        "from torchvision import datasets\n",
        "from torchvision import transforms\n",
        "import matplotlib.pyplot as plt\n",
        "from collections import OrderedDict\n",
        "import numpy as mp"
      ]
    },
    {
      "cell_type": "markdown",
      "source": [
        "## The MNIST_CNN class\n",
        "\n",
        "The MNIST_CNN class creates a convolutional neural network to detect and classify features of the [FashionMNIST](https://pytorch.org/vision/stable/generated/torchvision.datasets.FashionMNIST.html) dataset. The data has the following classes:\n",
        "\n",
        "| Index | Description |\n",
        "| ----- | ----------- |\n",
        "| 0 | T-shirt/top |\n",
        "| 1 | Trouser |\n",
        "| 2 | Pullover |\n",
        "| 3 | Dress |\n",
        "| 4 | Coat |\n",
        "| 5 | Sandal |\n",
        "| 6 | Shirt |\n",
        "| 7 | Sneaker |\n",
        "| 8 | Bag |\n",
        "| 9 | Ankle boot |\n",
        "\n",
        "The dataset contains images corresponding to the above listed class. Each image is a grayscale image of dimension **28x28**. \n",
        "\n",
        "Following is a representation of the model:\n",
        "<img src='https://raw.githubusercontent.com/ak1909552/hostgifs/main/cnn_model.drawio.png'>\n",
        "\n",
        "In pytorch it is represented as:\n",
        "```terminal\n",
        "<bound method Module.named_parameters of MNIST_CNN(\n",
        "  (c2d1): Sequential(\n",
        "    (0): Conv2d(1, 12, kernel_size=(3, 3), stride=(1, 1))\n",
        "    (1): ReLU()\n",
        "  )\n",
        "  (c2d2): Sequential(\n",
        "    (0): Conv2d(12, 12, kernel_size=(6, 6), stride=(2, 2))\n",
        "    (1): ReLU()\n",
        "  )\n",
        "  (c2d3): Sequential(\n",
        "    (0): Conv2d(12, 32, kernel_size=(6, 6), stride=(2, 2))\n",
        "    (1): ReLU()\n",
        "  )\n",
        "  (fc1): Sequential(\n",
        "    (0): Dropout(p=0, inplace=False)\n",
        "    (1): Linear(in_features=288, out_features=10, bias=True)\n",
        "    (2): Softmax(dim=1)\n",
        "  )\n",
        ")>\n",
        "```\n"
      ],
      "metadata": {
        "id": "EQj1M2AqwjJI"
      }
    },
    {
      "cell_type": "code",
      "source": [
        "class MNIST_CNN(nn.Module):\n",
        "    \n",
        "    def __init__(self, activation = None, drop = 0.0):\n",
        "\n",
        "        \n",
        "        super().__init__()\n",
        "        \n",
        "        \n",
        "        # Different activations that you can use in forward() method.\n",
        "        self.relu = nn.ReLU()\n",
        "        self.sigmoid = nn.Sigmoid()\n",
        "        self.tanh = nn.Tanh()\n",
        "        self.identity = nn.Identity()\n",
        "\n",
        "        self.dropout = nn.Dropout(p = drop)\n",
        "\n",
        "        '''\n",
        "        self.activation is the activation function determined by the constructor argument\n",
        "        Defaults to self.relu\n",
        "        '''\n",
        "        \n",
        "        if activation == 'sigmoid':\n",
        "            self.activation = self.sigmoid\n",
        "        elif activation == 'tanh':\n",
        "            self.activation = self.tanh\n",
        "        elif activation == 'identity':\n",
        "            self.activation = self.identity\n",
        "        else:\n",
        "            self.activation = self.relu\n",
        "        \n",
        "        \n",
        "        self.c2d1 = nn.Sequential(\n",
        "            nn.Conv2d(1, 12, (3,3)),\n",
        "            self.activation\n",
        "        )\n",
        "\n",
        "        self.c2d2 = nn.Sequential(\n",
        "            nn.Conv2d(12, 12, (6,6), 2),\n",
        "            self.activation\n",
        "        )\n",
        "\n",
        "        self.c2d3 = nn.Sequential(\n",
        "            nn.Conv2d(12, 32, (6,6), 2),\n",
        "            self.activation\n",
        "        )\n",
        "\n",
        "        self.fc1 = nn.Sequential(\n",
        "            self.dropout,\n",
        "            nn.Linear(32*3*3, 10),\n",
        "            nn.Softmax(1)\n",
        "        )\n",
        "\n",
        "    \n",
        "    def forward(self, input):\n",
        "               \n",
        "        # Switch from activation maps to vectors\n",
        "        out = self.c2d1(input)\n",
        "        out = self.c2d2(out)\n",
        "        out = self.c2d3(out)\n",
        "        out = out.view(-1, 288)\n",
        "        out = self.fc1(out)\n",
        "        return out\n",
        "    \n",
        "    # This function maps the network on the device that is passed as argument.\n",
        "    # If your device doesn't have a GPU, it set device='cpu'.\n",
        "    def set_device(self, device):\n",
        "        self.device = device\n",
        "        self.to(self.device)\n",
        "    \n",
        "    # This function trains the model on the data passed as arguments.        \n",
        "\n",
        "\n",
        "    def fit(self, mnist_train_loader, num_epochs=1, mnist_valid_loader=None):\n",
        "        train_loss_history = []\n",
        "        train_acc_history = []\n",
        "        valid_loss_history = []\n",
        "        valid_acc_history = []\n",
        "        \n",
        "        for epoch in range(num_epochs):\n",
        "            \n",
        "            self.train() # Set to the training mode.\n",
        "            iter_loss = 0\n",
        "            iter_acc = 0\n",
        "            for i, (items, classes) in enumerate(mnist_train_loader):\n",
        "                items = Variable(items).to(self.device)\n",
        "                classes = Variable(classes).to(self.device)\n",
        "\n",
        "                self.optimizer.zero_grad()     # Clear off the gradients from any past operation\n",
        "                outputs = self.forward(items)      # Do the forward pass\n",
        "                loss = self.criterion(outputs, classes) # Calculate the loss\n",
        "                loss.backward()           # Calculate the gradients with help of back propagation\n",
        "                self.optimizer.step()          # Ask the optimizer to adjust the parameters based on the gradients\n",
        "                iter_loss += loss.data # Accumulate the loss\n",
        "                iter_acc += (torch.max(outputs.data, 1)[1] == classes.data).sum()\n",
        "                print(\"\\r\", i + 1, \"/\", len(mnist_train_loader), \", Loss: \", loss.data/len(items), end=\"\")\n",
        "            train_loss_history += [iter_loss.cpu().detach().numpy()]\n",
        "            train_acc_history += [(iter_acc/len(mnist_train_loader.dataset)).cpu().detach().numpy()]\n",
        "            print(\"\\tTrain: \", train_loss_history[-1], train_acc_history[-1], end=\"\")\n",
        "            \n",
        "            self.eval() # Set to the evaluation mode.\n",
        "            iter_loss = 0\n",
        "            iter_acc = 0\n",
        "            for i, (items, classes) in enumerate(mnist_valid_loader):\n",
        "                items = Variable(items).to(self.device)\n",
        "                classes = Variable(classes).to(self.device)\n",
        "\n",
        "                outputs = self(items)      # Do the forward pass\n",
        "                iter_loss += self.criterion(outputs, classes).data\n",
        "                iter_acc += (torch.max(outputs.data, 1)[1] == classes.data).sum()\n",
        "            valid_loss_history += [iter_loss.cpu().detach().numpy()]\n",
        "            valid_acc_history += [(iter_acc/len(mnist_valid_loader.dataset)).cpu().detach().numpy()]\n",
        "            print(\"\\tValidation: \", valid_loss_history[-1], valid_acc_history[-1])\n",
        "        \n",
        "        return train_loss_history, train_acc_history, valid_loss_history, valid_acc_history\n",
        "\n"
      ],
      "metadata": {
        "id": "DiPJzG7Bwm9y"
      },
      "execution_count": null,
      "outputs": []
    },
    {
      "cell_type": "markdown",
      "source": [
        "## The `mnist_loader()` function"
      ],
      "metadata": {
        "id": "yTL4-6Tk5Xcf"
      }
    },
    {
      "cell_type": "code",
      "source": [
        "def mnist_loader(batch_size=512, classes=None):\n",
        "    transform=transforms.Compose([transforms.ToTensor()])\n",
        "    mnist_train = datasets.FashionMNIST('./data', train=True, download=True, transform=transform)\n",
        "    mnist_valid = datasets.FashionMNIST('./data', train=False, download=True, transform=transform)\n",
        "    \n",
        "    # Select the classes which you want to train the classifier on.\n",
        "    if classes is not None:\n",
        "        mnist_train_idx = (mnist_train.targets == -1)\n",
        "        mnist_valid_idx = (mnist_valid.targets == -1)\n",
        "        for class_num in classes:\n",
        "            mnist_train_idx |= (mnist_train.targets == class_num)\n",
        "            mnist_valid_idx |= (mnist_valid.targets == class_num) \n",
        "        \n",
        "        mnist_train.targets = mnist_train.targets[mnist_train_idx]\n",
        "        mnist_valid.targets = mnist_valid.targets[mnist_valid_idx]\n",
        "        mnist_train.data = mnist_train.data[mnist_train_idx]\n",
        "        mnist_valid.data = mnist_valid.data[mnist_valid_idx]\n",
        "    \n",
        "    mnist_train_loader = torch.utils.data.DataLoader(mnist_train, batch_size=batch_size, shuffle=True, num_workers=1)\n",
        "    mnist_valid_loader = torch.utils.data.DataLoader(mnist_valid, batch_size=batch_size, shuffle=True, num_workers=1)\n",
        "    return mnist_train_loader, mnist_valid_loader"
      ],
      "metadata": {
        "id": "EL7vHADz5i7d"
      },
      "execution_count": null,
      "outputs": []
    },
    {
      "cell_type": "markdown",
      "source": [
        "## Setting the device"
      ],
      "metadata": {
        "id": "-OTZGjIb5k0-"
      }
    },
    {
      "cell_type": "code",
      "source": [
        "device = torch.device(\"cuda:0\" if torch.cuda.is_available() else \"cpu\")\n",
        "print(device)"
      ],
      "metadata": {
        "colab": {
          "base_uri": "https://localhost:8080/"
        },
        "id": "XDG-GLSW5nUu",
        "outputId": "a8569fba-9af0-424a-98ba-d2bde28b9a85"
      },
      "execution_count": null,
      "outputs": [
        {
          "output_type": "stream",
          "name": "stdout",
          "text": [
            "cuda:0\n"
          ]
        }
      ]
    },
    {
      "cell_type": "markdown",
      "source": [
        "## A. Visualizing the model\n",
        "\n",
        "<img src='https://raw.githubusercontent.com/ak1909552/hostgifs/main/cnn_model.drawio.png'>"
      ],
      "metadata": {
        "id": "Qhf2xTvS6iKo"
      }
    },
    {
      "cell_type": "markdown",
      "source": [
        "## B. Number of trainable parameters\n",
        "\n",
        "Each layer (convolutional or linear) has its corresponing weights and biases that need to be trained. The following code iterates over these parameters and returns the sum."
      ],
      "metadata": {
        "id": "0FnB4jAUhH8f"
      }
    },
    {
      "cell_type": "code",
      "source": [
        "model = MNIST_CNN(activation='relu', drop=0)\n",
        "sum = 0\n",
        "str = 'model = '\n",
        "for name, params in model.named_parameters():\n",
        "    str = str + f'{name} '\n",
        "    sum = sum + torch.numel(params)\n",
        "print(str)\n",
        "sum\n"
      ],
      "metadata": {
        "colab": {
          "base_uri": "https://localhost:8080/"
        },
        "id": "MEU7B3HJhLM8",
        "outputId": "14f869d2-aed8-43ee-c89e-df98475f1339"
      },
      "execution_count": null,
      "outputs": [
        {
          "output_type": "stream",
          "name": "stdout",
          "text": [
            "model = c2d1.0.weight c2d1.0.bias c2d2.0.weight c2d2.0.bias c2d3.0.weight c2d3.0.bias fc1.1.weight fc1.1.bias \n"
          ]
        },
        {
          "output_type": "execute_result",
          "data": {
            "text/plain": [
              "22062"
            ]
          },
          "metadata": {},
          "execution_count": 5
        }
      ]
    },
    {
      "cell_type": "markdown",
      "source": [
        "## C. Running the model\n",
        "\n",
        "The model is run for 20 epochs and the following sample result is obtained:"
      ],
      "metadata": {
        "id": "zQUFkRSKkccw"
      }
    },
    {
      "cell_type": "code",
      "source": [
        "batch_size = 100\n",
        "mnist_train_loader, mnist_valid_loader = mnist_loader(batch_size=batch_size)\n",
        "model.set_device(device)\n",
        "# Our loss function and Optimizer\n",
        "\n",
        "model.criterion = nn.CrossEntropyLoss()\n",
        "model.optimizer = torch.optim.Adam(model.parameters(), lr=0.0001) #lr is the learning_rate\n",
        "# Train model for 20 epochs\n",
        "tlh, tah, vlh, vah = model.fit(mnist_train_loader, num_epochs=20, mnist_valid_loader=mnist_valid_loader)\n",
        "\n",
        "\n",
        "\n",
        "figure = plt.figure(figsize=(8, 8))\n",
        "rows, cols = 2,2\n",
        "\n",
        "figure.add_subplot(rows, 1, 2)\n",
        "\n",
        "plt.title(f'Accuracy')\n",
        "plt.plot(tah, label='Train Accuracy')\n",
        "plt.plot(vah, label='Validation Accuracy')\n",
        "plt.legend()\n",
        "plt.ylabel('Accuracy')\n",
        "plt.xlabel('Epochs')\n",
        "plt.tight_layout()\n",
        "\n",
        "\n",
        "figure.add_subplot(rows,2, 1)\n",
        "\n",
        "plt.title(f'Training loss')\n",
        "plt.plot(tlh, label='Train Loss')\n",
        "plt.legend()\n",
        "plt.ylabel('Loss')\n",
        "plt.xlabel('Epochs')\n",
        "plt.tight_layout()\n",
        "\n",
        "figure.add_subplot(rows, 2, 2)\n",
        "\n",
        "plt.title(f'Validation loss')\n",
        "plt.plot(vlh, label='Validation Loss')\n",
        "plt.legend()\n",
        "plt.ylabel('Loss')\n",
        "plt.xlabel('Epochs')\n",
        "plt.tight_layout()\n",
        "\n",
        "plt.show()"
      ],
      "metadata": {
        "colab": {
          "base_uri": "https://localhost:8080/",
          "height": 1000,
          "referenced_widgets": [
            "f1f43e1a2b444a73b165ec52db4c1981",
            "4b9a6d9c3d2849ee82fd7ece429693d8",
            "30c1d971d4124ea6bef966f6b33ac87c",
            "db550f732ba24e88a36221cc0dcd09c4",
            "1827fb1d58404d45837726fc85d20409",
            "53e8caee87a8494c9ae6aced8ae8bc3f",
            "3f47afe99294470c8bda925e04a2ae21",
            "220c645e16784f2d9c40077355a32f50",
            "d082493e55c34bd988f336e6b093847c",
            "3fcda11c667743a4be9e10a555c29fec",
            "d74e20fc442b4f8c98c18afb33a9b4ce",
            "891b1aacfd9f43449d1cf6134e16734c",
            "87bb017876264a9d8936e7b3fafe131c",
            "453faa34e271484292a82d2854d22d1d",
            "47af7cc939404cd8be9385f7bb9053ee",
            "7301236934ab4428b754b37e4a332768",
            "d7737030c2fa4098aeaedbacfef72063",
            "41079e10ca4e4e0e9ed4d40cbacec59d",
            "87d017cfb12c489ab19ce7523c965e16",
            "48f67dc793d442f8afc3e9c0f474d191",
            "6993578ac1534552bc4942d202fb1165",
            "91409ca46ddb4ff68aea7234d8cc6e8f",
            "a4624171acf646b0867c5f5380d8b479",
            "58f3313f9b794b05811955a4cda13ded",
            "12cd45b5dfbf4282b33e798b9127c760",
            "97c07555f6b84e62b1a476485600ac7f",
            "6340489a0622419c8f3c889c875b06d4",
            "4c6459e6eb174503b0f821103191c012",
            "57d7fa76b7474921ab5a301ed6c80795",
            "f99b20105f8645ecb517ebabbdfa31b0",
            "6f949491cd854659b21f874066b2a9db",
            "8fec1f2292d0463e983bc29776157cff",
            "905a933697fe4aa38ef536b32170a951",
            "601f559a0d4e43bcb183ca91d023b758",
            "7dd8e7af73244192b1fa21319f4f87d6",
            "6ec95f8728de4e6d84716cb45b4cee18",
            "b9751287db5341c48c1e47bedaf9d60b",
            "79d49a84e7f04377928f4c9aa623ac7a",
            "ac1cd4b5f6564e94a862b8e279c8c758",
            "4ef84baee3294bddbce7d30d1291a901",
            "b16698d936f4478082a4b8f7169ed1c2",
            "a79de931994545b080e670da5119ee35",
            "d3d5d0c02bc9470dad1dbdf0c19e57b6",
            "db874a989292480abae6d48ea96e750f"
          ]
        },
        "id": "8tnCaVu-kgTi",
        "outputId": "5d147e9d-33ad-4c2a-8532-df79f31c5125"
      },
      "execution_count": null,
      "outputs": [
        {
          "output_type": "stream",
          "name": "stdout",
          "text": [
            "Downloading http://fashion-mnist.s3-website.eu-central-1.amazonaws.com/train-images-idx3-ubyte.gz\n",
            "Downloading http://fashion-mnist.s3-website.eu-central-1.amazonaws.com/train-images-idx3-ubyte.gz to ./data/FashionMNIST/raw/train-images-idx3-ubyte.gz\n"
          ]
        },
        {
          "output_type": "display_data",
          "data": {
            "text/plain": [
              "  0%|          | 0/26421880 [00:00<?, ?it/s]"
            ],
            "application/vnd.jupyter.widget-view+json": {
              "version_major": 2,
              "version_minor": 0,
              "model_id": "f1f43e1a2b444a73b165ec52db4c1981"
            }
          },
          "metadata": {}
        },
        {
          "output_type": "stream",
          "name": "stdout",
          "text": [
            "Extracting ./data/FashionMNIST/raw/train-images-idx3-ubyte.gz to ./data/FashionMNIST/raw\n",
            "\n",
            "Downloading http://fashion-mnist.s3-website.eu-central-1.amazonaws.com/train-labels-idx1-ubyte.gz\n",
            "Downloading http://fashion-mnist.s3-website.eu-central-1.amazonaws.com/train-labels-idx1-ubyte.gz to ./data/FashionMNIST/raw/train-labels-idx1-ubyte.gz\n"
          ]
        },
        {
          "output_type": "display_data",
          "data": {
            "text/plain": [
              "  0%|          | 0/29515 [00:00<?, ?it/s]"
            ],
            "application/vnd.jupyter.widget-view+json": {
              "version_major": 2,
              "version_minor": 0,
              "model_id": "891b1aacfd9f43449d1cf6134e16734c"
            }
          },
          "metadata": {}
        },
        {
          "output_type": "stream",
          "name": "stdout",
          "text": [
            "Extracting ./data/FashionMNIST/raw/train-labels-idx1-ubyte.gz to ./data/FashionMNIST/raw\n",
            "\n",
            "Downloading http://fashion-mnist.s3-website.eu-central-1.amazonaws.com/t10k-images-idx3-ubyte.gz\n",
            "Downloading http://fashion-mnist.s3-website.eu-central-1.amazonaws.com/t10k-images-idx3-ubyte.gz to ./data/FashionMNIST/raw/t10k-images-idx3-ubyte.gz\n"
          ]
        },
        {
          "output_type": "display_data",
          "data": {
            "text/plain": [
              "  0%|          | 0/4422102 [00:00<?, ?it/s]"
            ],
            "application/vnd.jupyter.widget-view+json": {
              "version_major": 2,
              "version_minor": 0,
              "model_id": "a4624171acf646b0867c5f5380d8b479"
            }
          },
          "metadata": {}
        },
        {
          "output_type": "stream",
          "name": "stdout",
          "text": [
            "Extracting ./data/FashionMNIST/raw/t10k-images-idx3-ubyte.gz to ./data/FashionMNIST/raw\n",
            "\n",
            "Downloading http://fashion-mnist.s3-website.eu-central-1.amazonaws.com/t10k-labels-idx1-ubyte.gz\n",
            "Downloading http://fashion-mnist.s3-website.eu-central-1.amazonaws.com/t10k-labels-idx1-ubyte.gz to ./data/FashionMNIST/raw/t10k-labels-idx1-ubyte.gz\n"
          ]
        },
        {
          "output_type": "display_data",
          "data": {
            "text/plain": [
              "  0%|          | 0/5148 [00:00<?, ?it/s]"
            ],
            "application/vnd.jupyter.widget-view+json": {
              "version_major": 2,
              "version_minor": 0,
              "model_id": "601f559a0d4e43bcb183ca91d023b758"
            }
          },
          "metadata": {}
        },
        {
          "output_type": "stream",
          "name": "stdout",
          "text": [
            "Extracting ./data/FashionMNIST/raw/t10k-labels-idx1-ubyte.gz to ./data/FashionMNIST/raw\n",
            "\n",
            " 600 / 600 , Loss:  tensor(0.0172, device='cuda:0')\tTrain:  1149.1465 0.5913167\tValidation:  175.54227 0.7169\n",
            " 600 / 600 , Loss:  tensor(0.0169, device='cuda:0')\tTrain:  1040.1722 0.73683333\tValidation:  172.6761 0.7427\n",
            " 600 / 600 , Loss:  tensor(0.0168, device='cuda:0')\tTrain:  1026.411 0.75815\tValidation:  170.96428 0.75689995\n",
            " 600 / 600 , Loss:  tensor(0.0167, device='cuda:0')\tTrain:  1018.86285 0.76816666\tValidation:  169.89258 0.7682\n",
            " 600 / 600 , Loss:  tensor(0.0169, device='cuda:0')\tTrain:  1012.977 0.77763337\tValidation:  169.2955 0.7718\n",
            " 600 / 600 , Loss:  tensor(0.0163, device='cuda:0')\tTrain:  1007.5561 0.7865667\tValidation:  168.54697 0.7772\n",
            " 600 / 600 , Loss:  tensor(0.0168, device='cuda:0')\tTrain:  1002.0463 0.79593337\tValidation:  167.8042 0.78999996\n",
            " 600 / 600 , Loss:  tensor(0.0173, device='cuda:0')\tTrain:  997.4598 0.80441666\tValidation:  167.33418 0.7934\n",
            " 600 / 600 , Loss:  tensor(0.0173, device='cuda:0')\tTrain:  994.2102 0.80943334\tValidation:  166.53577 0.79859996\n",
            " 600 / 600 , Loss:  tensor(0.0159, device='cuda:0')\tTrain:  991.765 0.8126\tValidation:  166.05785 0.8042\n",
            " 600 / 600 , Loss:  tensor(0.0161, device='cuda:0')\tTrain:  989.4156 0.8161833\tValidation:  166.30023 0.8009\n",
            " 600 / 600 , Loss:  tensor(0.0164, device='cuda:0')\tTrain:  987.05865 0.81998336\tValidation:  165.62366 0.8078\n",
            " 600 / 600 , Loss:  tensor(0.0168, device='cuda:0')\tTrain:  985.72705 0.8218167\tValidation:  165.4252 0.81079996\n",
            " 600 / 600 , Loss:  tensor(0.0167, device='cuda:0')\tTrain:  984.1444 0.82343334\tValidation:  164.91788 0.816\n",
            " 600 / 600 , Loss:  tensor(0.0159, device='cuda:0')\tTrain:  982.55444 0.82670003\tValidation:  164.8766 0.8136\n",
            " 600 / 600 , Loss:  tensor(0.0167, device='cuda:0')\tTrain:  981.4908 0.8283667\tValidation:  164.67105 0.8167\n",
            " 600 / 600 , Loss:  tensor(0.0168, device='cuda:0')\tTrain:  980.946 0.82928336\tValidation:  164.49539 0.8183\n",
            " 600 / 600 , Loss:  tensor(0.0166, device='cuda:0')\tTrain:  979.5012 0.83145\tValidation:  164.59741 0.81909996\n",
            " 600 / 600 , Loss:  tensor(0.0163, device='cuda:0')\tTrain:  978.3623 0.833\tValidation:  164.25151 0.8204\n",
            " 600 / 600 , Loss:  tensor(0.0161, device='cuda:0')\tTrain:  977.62177 0.83473337\tValidation:  164.29332 0.8206\n"
          ]
        },
        {
          "output_type": "display_data",
          "data": {
            "text/plain": [
              "<Figure size 576x576 with 3 Axes>"
            ],
            "image/png": "[encoded data removed]"
          },
          "metadata": {
            "needs_background": "light"
          }
        }
      ]
    },
    {
      "cell_type": "markdown",
      "source": [
        "The CNN consistently reaches 82-83% accuracy."
      ],
      "metadata": {
        "id": "hbGaVz1XzXxj"
      }
    },
    {
      "cell_type": "markdown",
      "source": [
        "### Further training\n",
        "\n",
        "The model is trained further to see signs of overfitting. However, architecturally, this model is too simple to result in significant overfitting.\n",
        "\n",
        "CNN models are often overfit when they have a lot of fully connected layers. However, this model has only 1 and so it does not significantly overfit."
      ],
      "metadata": {
        "id": "hFCI0fLwOxny"
      }
    },
    {
      "cell_type": "code",
      "source": [
        "model.criterion = nn.CrossEntropyLoss()\n",
        "model.optimizer = torch.optim.Adam(model.parameters(), lr=0.0001) #lr is the learning_rate\n",
        "model.fit(mnist_train_loader, num_epochs=40, mnist_valid_loader=mnist_valid_loader)\n",
        "tlh, tah, vlh, vah = model.fit(mnist_train_loader, num_epochs=5, mnist_valid_loader=mnist_valid_loader)\n",
        "\n",
        "\n",
        "\n",
        "figure = plt.figure(figsize=(8, 8))\n",
        "rows, cols = 2,2\n",
        "\n",
        "figure.add_subplot(rows, 1, 2)\n",
        "\n",
        "plt.title(f'Accuracy')\n",
        "plt.plot(tah, label='Train Accuracy')\n",
        "plt.plot(vah, label='Validation Accuracy')\n",
        "plt.legend()\n",
        "plt.ylabel('Accuracy')\n",
        "plt.xlabel('Epochs')\n",
        "plt.tight_layout()\n",
        "\n",
        "\n",
        "figure.add_subplot(rows,2, 1)\n",
        "\n",
        "plt.title(f'Training loss')\n",
        "plt.plot(tlh, label='Train Loss')\n",
        "plt.legend()\n",
        "plt.ylabel('Loss')\n",
        "plt.xlabel('Epochs')\n",
        "plt.tight_layout()\n",
        "\n",
        "figure.add_subplot(rows, 2, 2)\n",
        "\n",
        "plt.title(f'Validation loss')\n",
        "plt.plot(tlh, label='Validation Loss')\n",
        "plt.legend()\n",
        "plt.ylabel('Loss')\n",
        "plt.xlabel('Epochs')\n",
        "plt.tight_layout()\n",
        "\n",
        "plt.show()"
      ],
      "metadata": {
        "id": "Fh6insEIO1kj",
        "colab": {
          "base_uri": "https://localhost:8080/",
          "height": 1000
        },
        "outputId": "4fea675f-881f-4999-b31c-594facf36764"
      },
      "execution_count": null,
      "outputs": [
        {
          "output_type": "stream",
          "name": "stdout",
          "text": [
            " 600 / 600 , Loss:  tensor(0.0160, device='cuda:0')\tTrain:  976.4658 0.8361667\tValidation:  164.34804 0.81909996\n",
            " 600 / 600 , Loss:  tensor(0.0158, device='cuda:0')\tTrain:  975.7321 0.83750004\tValidation:  163.89397 0.82379997\n",
            " 600 / 600 , Loss:  tensor(0.0164, device='cuda:0')\tTrain:  974.78577 0.83925\tValidation:  163.98996 0.8215\n",
            " 600 / 600 , Loss:  tensor(0.0160, device='cuda:0')\tTrain:  973.9659 0.8412\tValidation:  163.49416 0.8287\n",
            " 600 / 600 , Loss:  tensor(0.0161, device='cuda:0')\tTrain:  973.03375 0.84181666\tValidation:  163.492 0.8271\n",
            " 600 / 600 , Loss:  tensor(0.0159, device='cuda:0')\tTrain:  972.5312 0.8423333\tValidation:  163.37427 0.82989997\n",
            " 600 / 600 , Loss:  tensor(0.0161, device='cuda:0')\tTrain:  971.36194 0.84445\tValidation:  163.47769 0.82799995\n",
            " 600 / 600 , Loss:  tensor(0.0161, device='cuda:0')\tTrain:  970.72174 0.8457\tValidation:  163.06725 0.83129996\n",
            " 600 / 600 , Loss:  tensor(0.0161, device='cuda:0')\tTrain:  969.8182 0.8469167\tValidation:  162.87537 0.8351\n",
            " 600 / 600 , Loss:  tensor(0.0163, device='cuda:0')\tTrain:  969.25134 0.84798336\tValidation:  162.71231 0.8347\n",
            " 600 / 600 , Loss:  tensor(0.0156, device='cuda:0')\tTrain:  968.34045 0.84973335\tValidation:  163.01482 0.8312\n",
            " 600 / 600 , Loss:  tensor(0.0162, device='cuda:0')\tTrain:  968.0224 0.8495333\tValidation:  162.78775 0.8358\n",
            " 600 / 600 , Loss:  tensor(0.0163, device='cuda:0')\tTrain:  966.8254 0.8521\tValidation:  162.7048 0.83699995\n",
            " 600 / 600 , Loss:  tensor(0.0162, device='cuda:0')\tTrain:  966.7824 0.85155\tValidation:  162.40672 0.83849996\n",
            " 600 / 600 , Loss:  tensor(0.0168, device='cuda:0')\tTrain:  965.6056 0.85405\tValidation:  162.2663 0.84059995\n",
            " 600 / 600 , Loss:  tensor(0.0160, device='cuda:0')\tTrain:  965.1681 0.85513335\tValidation:  162.33849 0.8401\n",
            " 600 / 600 , Loss:  tensor(0.0155, device='cuda:0')\tTrain:  964.48596 0.85575\tValidation:  162.17554 0.8412\n",
            " 600 / 600 , Loss:  tensor(0.0159, device='cuda:0')\tTrain:  963.8055 0.8573\tValidation:  162.08473 0.8412\n",
            " 600 / 600 , Loss:  tensor(0.0161, device='cuda:0')\tTrain:  963.92773 0.85688335\tValidation:  162.21399 0.8407\n",
            " 600 / 600 , Loss:  tensor(0.0163, device='cuda:0')\tTrain:  963.3435 0.85728335\tValidation:  162.39064 0.8383\n",
            " 600 / 600 , Loss:  tensor(0.0157, device='cuda:0')\tTrain:  962.434 0.85943335\tValidation:  162.02386 0.8426\n",
            " 600 / 600 , Loss:  tensor(0.0156, device='cuda:0')\tTrain:  962.0346 0.8598167\tValidation:  161.74187 0.8448\n",
            " 600 / 600 , Loss:  tensor(0.0156, device='cuda:0')\tTrain:  961.45325 0.8613334\tValidation:  161.94154 0.8427\n",
            " 600 / 600 , Loss:  tensor(0.0166, device='cuda:0')\tTrain:  961.2733 0.86128336\tValidation:  161.88553 0.84489995\n",
            " 600 / 600 , Loss:  tensor(0.0159, device='cuda:0')\tTrain:  960.89166 0.86128336\tValidation:  161.61963 0.8465\n",
            " 600 / 600 , Loss:  tensor(0.0153, device='cuda:0')\tTrain:  960.30884 0.86265004\tValidation:  161.41054 0.84819996\n",
            " 600 / 600 , Loss:  tensor(0.0160, device='cuda:0')\tTrain:  959.94354 0.8635\tValidation:  161.31033 0.849\n",
            " 600 / 600 , Loss:  tensor(0.0162, device='cuda:0')\tTrain:  959.53815 0.86401665\tValidation:  161.33562 0.8504\n",
            " 600 / 600 , Loss:  tensor(0.0157, device='cuda:0')\tTrain:  959.30066 0.86448336\tValidation:  161.2969 0.84929997\n",
            " 600 / 600 , Loss:  tensor(0.0161, device='cuda:0')\tTrain:  958.623 0.8655667\tValidation:  161.16963 0.85109997\n",
            " 600 / 600 , Loss:  tensor(0.0159, device='cuda:0')\tTrain:  958.6702 0.86548334\tValidation:  161.02275 0.8522\n",
            " 600 / 600 , Loss:  tensor(0.0159, device='cuda:0')\tTrain:  957.9909 0.8668\tValidation:  161.1225 0.8512\n",
            " 600 / 600 , Loss:  tensor(0.0160, device='cuda:0')\tTrain:  957.9308 0.86725\tValidation:  160.95964 0.8534\n",
            " 600 / 600 , Loss:  tensor(0.0161, device='cuda:0')\tTrain:  957.3676 0.86800003\tValidation:  161.00368 0.8516\n",
            " 600 / 600 , Loss:  tensor(0.0161, device='cuda:0')\tTrain:  956.93115 0.86815\tValidation:  161.09146 0.8526\n",
            " 600 / 600 , Loss:  tensor(0.0167, device='cuda:0')\tTrain:  956.33014 0.86955\tValidation:  160.73071 0.85569996\n",
            " 600 / 600 , Loss:  tensor(0.0157, device='cuda:0')\tTrain:  955.78107 0.8703833\tValidation:  160.83899 0.8534\n",
            " 600 / 600 , Loss:  tensor(0.0160, device='cuda:0')\tTrain:  955.87634 0.87085\tValidation:  160.81729 0.85289997\n",
            " 600 / 600 , Loss:  tensor(0.0162, device='cuda:0')\tTrain:  955.21643 0.87135\tValidation:  161.03625 0.8508\n",
            " 600 / 600 , Loss:  tensor(0.0156, device='cuda:0')\tTrain:  955.21375 0.8715167\tValidation:  160.61124 0.8566\n",
            " 600 / 600 , Loss:  tensor(0.0156, device='cuda:0')\tTrain:  955.2002 0.87095\tValidation:  160.50987 0.8573\n",
            " 600 / 600 , Loss:  tensor(0.0159, device='cuda:0')\tTrain:  954.6497 0.8718\tValidation:  160.66681 0.85499996\n",
            " 600 / 600 , Loss:  tensor(0.0158, device='cuda:0')\tTrain:  954.551 0.8724834\tValidation:  160.60298 0.85539997\n",
            " 600 / 600 , Loss:  tensor(0.0156, device='cuda:0')\tTrain:  954.0875 0.87335\tValidation:  161.43388 0.84679997\n",
            " 600 / 600 , Loss:  tensor(0.0153, device='cuda:0')\tTrain:  953.6697 0.87355\tValidation:  160.38156 0.85899997\n"
          ]
        },
        {
          "output_type": "display_data",
          "data": {
            "text/plain": [
              "<Figure size 576x576 with 3 Axes>"
            ],
            "image/png": "[encoded data removed]"
          },
          "metadata": {
            "needs_background": "light"
          }
        }
      ]
    },
    {
      "cell_type": "markdown",
      "source": [
        "The model shows sign of overfitting with fluctutations in validation accuracies."
      ],
      "metadata": {
        "id": "28-z0vgu1EMD"
      }
    },
    {
      "cell_type": "markdown",
      "source": [
        "## D. With Dropout\n",
        "\n",
        "Dropout is a form of regularization in which, during training, the model deactivates a certain percentage of neurons in a certain layer. This enforces each neuron to learn more independantly and robustly. In the following code, I show results for dropout 0.2, 0.4 and 0.5."
      ],
      "metadata": {
        "id": "FXgIdxh5O3R5"
      }
    },
    {
      "cell_type": "code",
      "source": [
        "batch_size = 100\n",
        "mnist_train_loader, mnist_valid_loader = mnist_loader(batch_size=batch_size)\n",
        "\n",
        "\n",
        "\n",
        "drops = [0.2, 0.4, 0.5]\n",
        "figure = plt.figure(figsize=(8, 8))\n",
        "rows, cols = (3,3)\n",
        "for i, d in enumerate(drops):\n",
        "    print(f'\\n drop = {d}')\n",
        "    model_drop = MNIST_CNN(activation='relu', drop = d)\n",
        "    model_drop.set_device(device)\n",
        "    # Our loss function and Optimizer\n",
        "\n",
        "    model_drop.criterion = nn.CrossEntropyLoss()\n",
        "    model_drop.optimizer = torch.optim.Adam(model_drop.parameters(), lr=0.0001) #lr is the learning_rate\n",
        "    # Train model for 20 epochs\n",
        "    tlh, tah, vlh, vah = model_drop.fit(mnist_train_loader, num_epochs=20, mnist_valid_loader=mnist_valid_loader)\n",
        "\n",
        "    figure.add_subplot(rows,cols, 3*i + 1)\n",
        "    \n",
        "    plt.title(f'Accuracy with dropout = {d}')\n",
        "    plt.plot(tah, label='Train Accuracy')\n",
        "    plt.plot(vah, label='Validation Accuracy')\n",
        "    plt.legend()\n",
        "    plt.ylabel('Accuracy')\n",
        "    plt.xlabel('Epochs')\n",
        "    plt.tight_layout()\n",
        "\n",
        "\n",
        "    figure.add_subplot(rows,cols, 3*i + 2)\n",
        "\n",
        "    plt.title(f'Training Loss ')\n",
        "    plt.plot(tlh, label='Train Loss')\n",
        "    # plt.plot(vlh, label='Validation Loss')\n",
        "    plt.legend()\n",
        "    plt.ylabel('Loss')\n",
        "    plt.xlabel('Epochs')\n",
        "    plt.tight_layout()\n",
        "\n",
        "    figure.add_subplot(rows,cols, 3*i + 3)\n",
        "\n",
        "    plt.title(f'Validation Loss ')\n",
        "    # plt.plot(tlh, label='Train Loss')\n",
        "    plt.plot(vlh, label='Validation Loss')\n",
        "    plt.legend()\n",
        "    plt.ylabel('Loss')\n",
        "    plt.xlabel('Epochs')\n",
        "    plt.tight_layout()\n",
        "\n",
        "plt.show()\n",
        "\n",
        "\n"
      ],
      "metadata": {
        "colab": {
          "base_uri": "https://localhost:8080/",
          "height": 1000
        },
        "id": "DUfTCO_-O-IH",
        "outputId": "3ce32536-bfff-4350-d6ee-ad7ae4824077"
      },
      "execution_count": null,
      "outputs": [
        {
          "output_type": "stream",
          "name": "stdout",
          "text": [
            "\n",
            " drop = 0.2\n",
            " 600 / 600 , Loss:  tensor(0.0179, device='cuda:0')\tTrain:  1148.7239 0.59125\tValidation:  175.67432 0.71199995\n",
            " 600 / 600 , Loss:  tensor(0.0177, device='cuda:0')\tTrain:  1047.95 0.7217\tValidation:  172.83226 0.73969996\n",
            " 600 / 600 , Loss:  tensor(0.0180, device='cuda:0')\tTrain:  1031.6843 0.7463167\tValidation:  170.87871 0.75549996\n",
            " 600 / 600 , Loss:  tensor(0.0172, device='cuda:0')\tTrain:  1021.89044 0.7628667\tValidation:  169.50125 0.7715\n",
            " 600 / 600 , Loss:  tensor(0.0172, device='cuda:0')\tTrain:  1014.38165 0.7744667\tValidation:  168.43684 0.7836\n",
            " 600 / 600 , Loss:  tensor(0.0167, device='cuda:0')\tTrain:  1008.3708 0.785\tValidation:  167.60477 0.7899\n",
            " 600 / 600 , Loss:  tensor(0.0175, device='cuda:0')\tTrain:  1004.015 0.79163337\tValidation:  167.1556 0.7952\n",
            " 600 / 600 , Loss:  tensor(0.0165, device='cuda:0')\tTrain:  1000.2807 0.79843336\tValidation:  166.5822 0.79899997\n",
            " 600 / 600 , Loss:  tensor(0.0168, device='cuda:0')\tTrain:  997.4847 0.8020167\tValidation:  166.29614 0.8012\n",
            " 600 / 600 , Loss:  tensor(0.0172, device='cuda:0')\tTrain:  994.6776 0.80735\tValidation:  166.12296 0.8024\n",
            " 600 / 600 , Loss:  tensor(0.0167, device='cuda:0')\tTrain:  993.147 0.8096\tValidation:  165.57306 0.80759996\n",
            " 600 / 600 , Loss:  tensor(0.0165, device='cuda:0')\tTrain:  990.7933 0.81226665\tValidation:  165.46498 0.80969995\n",
            " 600 / 600 , Loss:  tensor(0.0163, device='cuda:0')\tTrain:  989.09265 0.81565\tValidation:  165.09373 0.8118\n",
            " 600 / 600 , Loss:  tensor(0.0169, device='cuda:0')\tTrain:  988.0022 0.8162\tValidation:  164.87178 0.8146\n",
            " 600 / 600 , Loss:  tensor(0.0164, device='cuda:0')\tTrain:  986.4631 0.8191\tValidation:  164.61142 0.8179\n",
            " 600 / 600 , Loss:  tensor(0.0164, device='cuda:0')\tTrain:  985.32605 0.82158333\tValidation:  164.21808 0.8224\n",
            " 600 / 600 , Loss:  tensor(0.0163, device='cuda:0')\tTrain:  983.532 0.8243167\tValidation:  164.17912 0.8204\n",
            " 600 / 600 , Loss:  tensor(0.0165, device='cuda:0')\tTrain:  983.0632 0.82483333\tValidation:  164.0105 0.8225\n",
            " 600 / 600 , Loss:  tensor(0.0160, device='cuda:0')\tTrain:  981.6597 0.8273167\tValidation:  163.72374 0.82559997\n",
            " 600 / 600 , Loss:  tensor(0.0166, device='cuda:0')\tTrain:  981.0256 0.82855\tValidation:  163.68192 0.826\n",
            "\n",
            " drop = 0.4\n",
            " 600 / 600 , Loss:  tensor(0.0186, device='cuda:0')\tTrain:  1174.2195 0.53793335\tValidation:  176.9508 0.7025\n",
            " 600 / 600 , Loss:  tensor(0.0175, device='cuda:0')\tTrain:  1060.7266 0.70128334\tValidation:  173.67549 0.72969997\n",
            " 600 / 600 , Loss:  tensor(0.0175, device='cuda:0')\tTrain:  1042.6426 0.72828335\tValidation:  172.54007 0.7378\n",
            " 600 / 600 , Loss:  tensor(0.0172, device='cuda:0')\tTrain:  1032.9354 0.7438834\tValidation:  170.886 0.7563\n",
            " 600 / 600 , Loss:  tensor(0.0173, device='cuda:0')\tTrain:  1025.3268 0.75713336\tValidation:  170.04997 0.7621\n",
            " 600 / 600 , Loss:  tensor(0.0166, device='cuda:0')\tTrain:  1019.40344 0.76601666\tValidation:  169.01416 0.7743\n",
            " 600 / 600 , Loss:  tensor(0.0168, device='cuda:0')\tTrain:  1014.41583 0.7746\tValidation:  168.36378 0.783\n",
            " 600 / 600 , Loss:  tensor(0.0172, device='cuda:0')\tTrain:  1011.01447 0.7791167\tValidation:  167.72136 0.7877\n",
            " 600 / 600 , Loss:  tensor(0.0160, device='cuda:0')\tTrain:  1007.87225 0.78475\tValidation:  167.44345 0.7913\n",
            " 600 / 600 , Loss:  tensor(0.0165, device='cuda:0')\tTrain:  1004.56006 0.7903\tValidation:  166.99904 0.7941\n",
            " 600 / 600 , Loss:  tensor(0.0175, device='cuda:0')\tTrain:  1002.59454 0.79265\tValidation:  166.64583 0.79679996\n",
            " 600 / 600 , Loss:  tensor(0.0164, device='cuda:0')\tTrain:  1000.2202 0.7975\tValidation:  166.5395 0.7976\n",
            " 600 / 600 , Loss:  tensor(0.0169, device='cuda:0')\tTrain:  998.4902 0.79988337\tValidation:  166.04472 0.8035\n",
            " 600 / 600 , Loss:  tensor(0.0172, device='cuda:0')\tTrain:  997.0533 0.8021667\tValidation:  165.93924 0.80359995\n",
            " 600 / 600 , Loss:  tensor(0.0166, device='cuda:0')\tTrain:  995.4156 0.8042\tValidation:  165.52646 0.80899996\n",
            " 600 / 600 , Loss:  tensor(0.0167, device='cuda:0')\tTrain:  993.8607 0.80775\tValidation:  165.35147 0.8092\n",
            " 600 / 600 , Loss:  tensor(0.0165, device='cuda:0')\tTrain:  992.1926 0.81020004\tValidation:  165.2488 0.8106\n",
            " 600 / 600 , Loss:  tensor(0.0170, device='cuda:0')\tTrain:  991.1049 0.81088334\tValidation:  165.10826 0.81159997\n",
            " 600 / 600 , Loss:  tensor(0.0155, device='cuda:0')\tTrain:  990.0606 0.8135167\tValidation:  164.81035 0.8154\n",
            " 600 / 600 , Loss:  tensor(0.0174, device='cuda:0')\tTrain:  989.3593 0.8145667\tValidation:  164.8428 0.8146\n",
            "\n",
            " drop = 0.5\n",
            " 600 / 600 , Loss:  tensor(0.0174, device='cuda:0')\tTrain:  1183.9558 0.51608336\tValidation:  176.74417 0.7051\n",
            " 600 / 600 , Loss:  tensor(0.0177, device='cuda:0')\tTrain:  1064.3276 0.69486666\tValidation:  173.66156 0.7258\n",
            " 600 / 600 , Loss:  tensor(0.0177, device='cuda:0')\tTrain:  1046.7633 0.7220167\tValidation:  171.99591 0.74469995\n",
            " 600 / 600 , Loss:  tensor(0.0182, device='cuda:0')\tTrain:  1035.3346 0.73973334\tValidation:  170.98662 0.75299996\n",
            " 600 / 600 , Loss:  tensor(0.0164, device='cuda:0')\tTrain:  1028.98 0.7499834\tValidation:  170.20908 0.76\n",
            " 600 / 600 , Loss:  tensor(0.0178, device='cuda:0')\tTrain:  1023.58344 0.7579833\tValidation:  169.04008 0.7769\n",
            " 600 / 600 , Loss:  tensor(0.0171, device='cuda:0')\tTrain:  1018.5231 0.7669167\tValidation:  168.50871 0.78239995\n",
            " 600 / 600 , Loss:  tensor(0.0170, device='cuda:0')\tTrain:  1014.39795 0.7737667\tValidation:  168.18616 0.7829\n",
            " 600 / 600 , Loss:  tensor(0.0165, device='cuda:0')\tTrain:  1012.35864 0.77735\tValidation:  167.42986 0.7899\n",
            " 600 / 600 , Loss:  tensor(0.0172, device='cuda:0')\tTrain:  1008.9002 0.78243333\tValidation:  167.46022 0.7883\n",
            " 600 / 600 , Loss:  tensor(0.0177, device='cuda:0')\tTrain:  1006.80115 0.78686666\tValidation:  166.91112 0.7952\n",
            " 600 / 600 , Loss:  tensor(0.0167, device='cuda:0')\tTrain:  1004.8754 0.78935003\tValidation:  166.57124 0.7976\n",
            " 600 / 600 , Loss:  tensor(0.0170, device='cuda:0')\tTrain:  1002.7463 0.79305\tValidation:  166.24275 0.80289996\n",
            " 600 / 600 , Loss:  tensor(0.0171, device='cuda:0')\tTrain:  1001.1235 0.79583335\tValidation:  165.97153 0.8053\n",
            " 600 / 600 , Loss:  tensor(0.0166, device='cuda:0')\tTrain:  998.9998 0.79898334\tValidation:  165.77397 0.8066\n",
            " 600 / 600 , Loss:  tensor(0.0166, device='cuda:0')\tTrain:  998.45996 0.7988167\tValidation:  165.69133 0.80689996\n",
            " 600 / 600 , Loss:  tensor(0.0173, device='cuda:0')\tTrain:  996.2718 0.8039\tValidation:  165.47078 0.8099\n",
            " 600 / 600 , Loss:  tensor(0.0167, device='cuda:0')\tTrain:  995.8095 0.8036167\tValidation:  165.41238 0.8099\n",
            " 600 / 600 , Loss:  tensor(0.0166, device='cuda:0')\tTrain:  994.28094 0.80655\tValidation:  165.10036 0.81329995\n",
            " 600 / 600 , Loss:  tensor(0.0164, device='cuda:0')\tTrain:  993.7879 0.80761665\tValidation:  164.89975 0.8142\n"
          ]
        },
        {
          "output_type": "display_data",
          "data": {
            "text/plain": [
              "<Figure size 576x576 with 9 Axes>"
            ],
            "image/png": "[encoded data removed]"
          },
          "metadata": {
            "needs_background": "light"
          }
        }
      ]
    },
    {
      "cell_type": "markdown",
      "source": [
        "Steady decrease in loss indicates that dropout is indeed helping. As before dropout requires longer training time, however, the accuracies achieved are promising."
      ],
      "metadata": {
        "id": "Bs-WtHul1rlc"
      }
    },
    {
      "cell_type": "markdown",
      "source": [
        "## E. Visualizing the output\n",
        "\n",
        "The following code visualizes the output of the 2 models (model with dropout and model without) against the truth labels of the dataset."
      ],
      "metadata": {
        "id": "Rfb4YGxxHj1D"
      }
    },
    {
      "cell_type": "code",
      "source": [
        "import numpy as np\n",
        "transform=transforms.Compose([transforms.ToTensor()])\n",
        "training_data = datasets.FashionMNIST('./data', train=False, download=True, transform=transform)\n",
        "\n",
        "labels_map = {\n",
        "    0: \"T-Shirt\",\n",
        "    1: \"Trouser\",\n",
        "    2: \"Pullover\",\n",
        "    3: \"Dress\",\n",
        "    4: \"Coat\",\n",
        "    5: \"Sandal\",\n",
        "    6: \"Shirt\",\n",
        "    7: \"Sneaker\",\n",
        "    8: \"Bag\",\n",
        "    9: \"Ankle Boot\",\n",
        "}\n",
        "figure = plt.figure(figsize=(12, 12))\n",
        "cols, rows = 5, 3\n",
        "for i in range(1, cols * rows + 1):\n",
        "    sample_idx = torch.randint(len(training_data), size=(1,)).item()\n",
        "    img, label = training_data[sample_idx]\n",
        "    img = Variable(img).to(device)\n",
        "    \n",
        "    output = model(img)\n",
        "    output_drop = model_drop(img)\n",
        "\n",
        "    output = output.cpu().detach().numpy()\n",
        "    output_drop = output_drop.cpu().detach().numpy()\n",
        "\n",
        "    figure.add_subplot(rows, cols, i)\n",
        "    plt.title(f'{labels_map[label]}\\n{labels_map[np.argmax(output)]}\\n{labels_map[np.argmax(output_drop)]}')\n",
        "    plt.axis(\"off\")\n",
        "    plt.imshow(img.cpu().detach().numpy().squeeze(), cmap=\"gray\")\n",
        "plt.show()\n"
      ],
      "metadata": {
        "colab": {
          "base_uri": "https://localhost:8080/",
          "height": 653
        },
        "id": "Vnqf_qzdac-L",
        "outputId": "88e32d48-bd5e-4e4f-bfa1-c10cc3b24a05"
      },
      "execution_count": null,
      "outputs": [
        {
          "output_type": "display_data",
          "data": {
            "text/plain": [
              "<Figure size 864x864 with 15 Axes>"
            ],
            "image/png": "[encoded data removed]"
          },
          "metadata": {
            "needs_background": "light"
          }
        }
      ]
    },
    {
      "cell_type": "markdown",
      "source": [
        "### Saliency maps\n",
        "\n",
        "Saliency maps are a visualization tool which show pixels responsible for maximum activation of a certain class of output. \n",
        "In the following code, we first pass a sample image through the model, back propogate against the activated class, and return an image with the gradients of each pixel. \n",
        "\n",
        "The heat map represents the different gradients per pixel for the activated class. The lighter the color, the greater the gradient and therefore the activation. "
      ],
      "metadata": {
        "id": "uggL78inHoQP"
      }
    },
    {
      "cell_type": "code",
      "source": [
        "labels_map = {\n",
        "    0: \"T-Shirt\",\n",
        "    1: \"Trouser\",\n",
        "    2: \"Pullover\",\n",
        "    3: \"Dress\",\n",
        "    4: \"Coat\",\n",
        "    5: \"Sandal\",\n",
        "    6: \"Shirt\",\n",
        "    7: \"Sneaker\",\n",
        "    8: \"Bag\",\n",
        "    9: \"Ankle Boot\",\n",
        "}\n",
        "\n",
        "transform=transforms.Compose([transforms.ToTensor()])\n",
        "training_data = datasets.FashionMNIST('./data', train=False, download=True, transform=transform)\n",
        "\n",
        "sample_idx = torch.randint(len(training_data), size=(1,)).item()\n",
        "img, label = training_data[sample_idx]\n",
        "\n",
        "img = Variable(img).to(device)\n",
        "\n",
        "img.requires_grad_()\n",
        "\n",
        "model.eval()\n",
        "\n",
        "output = model(img)\n",
        "\n",
        "\n",
        "output_idx = output.argmax()\n",
        "output_max = output[0,output_idx]\n",
        "\n",
        "\n",
        "\n",
        "output_max.backward()\n",
        "\n",
        "\n",
        "\n",
        "# saliency, _ = torch.max(img.grad.data.abs(),dim=1)\n",
        "saliency = img.grad.data.abs()\n",
        "\n",
        "figure = plt.figure(figsize=(12, 12))\n",
        "cols, rows = 2,1\n",
        "\n",
        "figure.add_subplot(rows, cols, 1)\n",
        "plt.title(labels_map[label])\n",
        "plt.imshow(img.cpu().detach().numpy()[0], cmap='gray')\n",
        "plt.axis('off')\n",
        "\n",
        "figure.add_subplot(rows, cols, 2)\n",
        "plt.title(labels_map[output_idx.item()])\n",
        "plt.imshow(saliency.cpu().detach().numpy()[0], cmap=plt.cm.hot)\n",
        "plt.axis('off')\n",
        "\n",
        "plt.show()"
      ],
      "metadata": {
        "colab": {
          "base_uri": "https://localhost:8080/",
          "height": 351
        },
        "id": "CvyX2mE_RKmk",
        "outputId": "ebd509d8-0489-4f00-e69f-96cf195a10ca"
      },
      "execution_count": null,
      "outputs": [
        {
          "output_type": "display_data",
          "data": {
            "text/plain": [
              "<Figure size 864x864 with 2 Axes>"
            ],
            "image/png": "[encoded data removed]"
          },
          "metadata": {
            "needs_background": "light"
          }
        }
      ]
    },
    {
      "cell_type": "markdown",
      "source": [
        "### Visualizing the first layer\n",
        "\n",
        "The following code creates the heat maps for the first convolution layer of the model to see the various features that they detect."
      ],
      "metadata": {
        "id": "xBGrasTvlCd4"
      }
    },
    {
      "cell_type": "code",
      "source": [
        "params = model.named_parameters()\n",
        "c2d1_weight = next(params)\n",
        "c2d1_bias = next(params)\n",
        "\n",
        "c2d1 = nn.Conv2d(1, 12, 3)\n",
        "c2d1.weight = c2d1_weight[1]\n",
        "c2d1.bias = c2d1_bias[1]\n",
        "\n",
        "transform=transforms.Compose([transforms.ToTensor()])\n",
        "training_data = datasets.FashionMNIST('./data', train=False, download=True, transform=transform)\n",
        "\n",
        "sample_idx = torch.randint(len(training_data), size=(1,)).item()\n",
        "img, label = training_data[sample_idx]\n",
        "\n",
        "img = Variable(img).to(device)\n",
        "\n",
        "output = c2d1(img)\n",
        "\n",
        "figure = plt.figure(figsize=(24, 12))\n",
        "rows, cols = 2, 12\n",
        "\n",
        "for i in range(len(output)):\n",
        "    figure.add_subplot(1, cols, i+1)\n",
        "    plt.title(f'Filter {i+1}')\n",
        "    plt.imshow(output.cpu().detach().numpy()[i], cmap=plt.cm.hot)\n",
        "    plt.axis('off')\n",
        "    plt.tight_layout()\n",
        "\n",
        "figure.add_subplot(2, cols, 6)\n",
        "plt.imshow(img.cpu().detach().numpy()[0], cmap ='gray')\n",
        "plt.axis('off')\n",
        "plt.tight_layout()\n",
        "plt.show()"
      ],
      "metadata": {
        "colab": {
          "base_uri": "https://localhost:8080/",
          "height": 292
        },
        "id": "XX053w_fT0QH",
        "outputId": "58533ce6-dbf7-4a1a-9bcd-9cde893896d9"
      },
      "execution_count": null,
      "outputs": [
        {
          "output_type": "display_data",
          "data": {
            "text/plain": [
              "<Figure size 1728x864 with 13 Axes>"
            ],
            "image/png": "[encoded data removed]"
          },
          "metadata": {
            "needs_background": "light"
          }
        }
      ]
    },
    {
      "cell_type": "markdown",
      "source": [
        "## Comparison with MLP\n",
        "The following are the main insights gathered:\n",
        "1. The CNN architecture provides better accuracy than the MLP.\n",
        "2. The CNN architecture is more resilient to over-fitting because of the small number of trainable parameters.\n",
        "3. The MLP performance can be drastically improved using dropout, where as the CNN architecture did not see any improvement. This is attributed to their relative complexities.\n",
        "4. The patterns looked for by the network are more clear to visualize and comprehend in the CNN as compared to MLP.\n",
        "5. The CNN training time is slightly longer than the MLP."
      ],
      "metadata": {
        "id": "pxVHlJZG55Rs"
      }
    }
  ]
}